{
 "metadata": {
  "language_info": {
   "codemirror_mode": {
    "name": "ipython",
    "version": 3
   },
   "file_extension": ".py",
   "mimetype": "text/x-python",
   "name": "python",
   "nbconvert_exporter": "python",
   "pygments_lexer": "ipython3",
   "version": "3.8.5-final"
  },
  "orig_nbformat": 2,
  "kernelspec": {
   "name": "python_defaultSpec_1599707463476",
   "display_name": "Python 3.8.5 32-bit ('prime': venv)"
  }
 },
 "nbformat": 4,
 "nbformat_minor": 2,
 "cells": [
  {
   "cell_type": "markdown",
   "metadata": {},
   "source": [
    "# Part I. Poly-alphabetic Ciphers\n",
    "For this part of the assignment, you are given enciphered English text and a hint about the encryption\n",
    "algorithm that was used. Your mission: Develop the necessary (software) tools and use them to help\n",
    "you produce plaintext."
   ]
  },
  {
   "cell_type": "markdown",
   "metadata": {},
   "source": [
    "## Task1.\n",
    "This text was enciphered using a polyalphabetic substitution cipher, where the key length was no larger than 10. Blank spaces were first deleted and then inserted at convenient locations. \n",
    "\n",
    "* Hints: In the ciphertext the letters were first converted to upper case thus the alphabet substitutions\n",
    "consist of permutations of the 26 upper case letters A through Z. Spaces were removed before encryption\n",
    "and reinserted after encryption. Suppose that substitution 1 maps A to X, and substitution 2 maps B to Y.\n",
    "The plaintext message “AB ABAB ABA” (with spaces) might be converted to the ciphertext “XYXYX YXYX”.\n",
    "You might consider using the statistical analysis techniques discussed in class to crack these problems.\n",
    "\n",
    "```Python\n",
    "BQZRMQ KLBOXE WCCEFL DKRYYL BVEHIZ NYJQEE BDYFJO PTLOEM EHOMIC UYHHTS GKNJFG\n",
    "EHIMK NIHCTI HVRIHA RSMGQT RQCSXX CSWTNK PTMNSW AMXVCY WEOGSR FFUEEB DKQLQZ\n",
    "WRKUCO FTPLOT GOJZRI XEPZSE ISXTCT WZRMXI RIHALE SPRFAE FVYORI HNITRG PUHITM\n",
    "CFCDLA HIBKLH RCDIMT WQWTOR DJCNDY YWMJCN HDUWOF DPUPNG BANULZ NGYPQU\n",
    "LEUXOV FFDCEE YHQUXO YOXQUO DDCVIR RPJCAT RAQVFS AWMJCN HTSOXQ UODDAG\n",
    "BANURR REZJGD VJSXOO MSDNIT RGPUHN HRSSSF VFSINH MSGPCM ZJCSLY GEWGQT DREASV\n",
    "FPXEAR IMLPZW EHQGMG WSEIXE GQKPRM XIBFWL IPCHYM OTNXYV FFDCEE YHASBA TEXCJZ\n",
    "VTSGBA NUDYAP IUGTLD WLKVRI HWACZG PTRYCE VNQCUP AOSPEU KPCSNG RIHLRI KUMGFC\n",
    "YTDQES DAHCKP BDUJPX KPYMBD IWDQEF WSEVKT CDDWLI NEPZSE OPYIW\n",
    "```\n",
    "\n",
    "### Preamble:\n",
    "Based on image below the most common bigrams are:\n",
    "* TH, HE, IN, ER, AN, RE, ON, AT, EN, ND, TI, ES, OR, TE, OF, ED, IS, IT\n",
    "\n",
    "![Bigram Frequency Top](../Assets/bigramfreqtoplist.png)\n",
    "![Brigram Matrix](../Assets/bigramfreqmatrix2.png)\n",
    "![Bigram Frequency](../Assets/bigramfreqtop.png)\n"
   ]
  },
  {
   "cell_type": "code",
   "execution_count": 1,
   "metadata": {},
   "outputs": [],
   "source": [
    "import matplotlib.pyplot as plt"
   ]
  },
  {
   "cell_type": "code",
   "execution_count": 2,
   "metadata": {},
   "outputs": [],
   "source": [
    "## Function utils\n",
    "def removeSpecialChars(text):\n",
    "    return text.lower().replace(' ','').replace('\\n','')\n",
    "\n",
    "def crypt(key,text,encrypt=True):\n",
    "    text = removeSpecialChars(text)\n",
    "    key_length = len(key)\n",
    "    retVal = ''\n",
    "    alphabet = [chr(i+97) for i in range(26)]\n",
    "    for i in range(len(text)):\n",
    "        word = text[i]\n",
    "        k_offset = alphabet.index(key[i%key_length])\n",
    "        if not encrypt :\n",
    "            k_offset *= -1 \n",
    "        cipher =  alphabet.index(word) +  k_offset\n",
    "        cipher = cipher % len(alphabet)\n",
    "        retVal +=  alphabet[cipher]\n",
    "    return retVal.upper()\n",
    "\n",
    "def remove_dict_vals(dict_vals, threshold):\n",
    "    if threshold:\n",
    "        for key in list(dict_vals.keys()):\n",
    "            if dict_vals[key] <= threshold:\n",
    "                del dict_vals[key]\n",
    "    return dict_vals\n",
    "\n",
    "def getWordFreq(text,threshold_freq = None):\n",
    "    \"\"\"\n",
    "        Returns the word frequency of a given string sorted from higher to lower\n",
    "    \"\"\"\n",
    "    retval =dict()\n",
    "    for term in text:\n",
    "        retval[term] = 1 if not term in retval else retval[term] + 1\n",
    "    retval = {k: v for k, v in sorted(retval.items(), key=lambda item: item[1],reverse=True)}\n",
    "    total_words = sum(retval.values())\n",
    "    for key in retval.keys():\n",
    "        retval[key] = round(retval[key]/total_words,2)*100 \n",
    "     \n",
    "    retval = remove_dict_vals(retval,threshold_freq)\n",
    "    return retval\n",
    "\n",
    "def findNgrams(text,ngram_length,threshold_freq = None):\n",
    "    ngram_freq = {}\n",
    "    i = 0\n",
    "    text_length = len(text)\n",
    "    while i < len(text):\n",
    "        offset = text_length - i if  i + ngram_length > text_length else i + ngram_length\n",
    "        ngram =  text[i:offset]\n",
    "        ngram_freq[ngram] = 1 if ngram not in ngram_freq else ngram_freq[ngram] + 1\n",
    "        i += 1\n",
    "    retval = {k: v for k, v in sorted(ngram_freq.items(), key=lambda item: item[1],reverse=True)} \n",
    "    retval = remove_dict_vals(retval,threshold_freq)\n",
    "    return retval\n",
    "        \n",
    "def getShortestPatternDistance(text,pattern):\n",
    "    pattern_length = len(pattern)\n",
    "    pattern_found = False\n",
    "    last_distance = len(text)\n",
    "    current_distance = 0\n",
    "    for i in range(len(text)):\n",
    "        chunk = text[i:i+pattern_length]\n",
    "        if chunk == pattern:\n",
    "            if pattern_found:\n",
    "                current_distance -= pattern_length\n",
    "                if current_distance < last_distance:\n",
    "                    last_distance = current_distance\n",
    "                    current_distance = 0\n",
    "            else:\n",
    "                pattern_found = True\n",
    "        else:\n",
    "            if pattern_found:\n",
    "                current_distance +=1\n",
    "    return last_distance\n",
    "\n",
    "def getCharPattern(text,pattern,offset):\n",
    "    pattern_length = len(pattern)\n",
    "    pattern_found = False\n",
    "    retval = []\n",
    "    for i in range(len(text)):\n",
    "        chunk = text[i:i+pattern_length]\n",
    "        if chunk == pattern:\n",
    "            retval.append(text[i:i + offset])\n",
    "    return retval\n"
   ]
  },
  {
   "cell_type": "markdown",
   "metadata": {},
   "source": [
    "## Testing encryption/decryption algorithm for polyalphabetic cipher:\n",
    "![Image from book should match algorithm](../Assets/cypher_book.png)"
   ]
  },
  {
   "cell_type": "code",
   "execution_count": 3,
   "metadata": {
    "tags": []
   },
   "outputs": [
    {
     "output_type": "stream",
     "name": "stdout",
     "text": "ZICVTWQNGRZGVTWAVZHCQYGLMGJ\nWEAREDISCOVEREDSAVEYOURSELF\n"
    }
   ],
   "source": [
    "# Confirming from given text and key that the encryption algorithm works:\n",
    "key = 'deceptive'\n",
    "text = 'we are discovered save yourself'\n",
    "c_text = crypt(key,text,encrypt=True)\n",
    "d_text = crypt(key,c_text,encrypt=False)\n",
    "print(c_text)\n",
    "print(d_text)"
   ]
  },
  {
   "cell_type": "markdown",
   "metadata": {},
   "source": [
    "The fact that repeating letters can be found means two things : either a same sequence of letter of the plaintext is crypted with the same part of the key, either different sequences letters are crypted with different parts of the key but they ends with the same crypted letters. this second possibility is poorly probable.\n",
    "\n",
    "By analyzing the gaps between two identical redunding sequences, an attacker can find multiples of the key length. By analyzing each gaps in term of number of letters, and by calculating divisors, an attacker can deduct with a high probability the size of the key.\n",
    "\n",
    "Example: Positions of ABC are 0, 6 et 18"
   ]
  },
  {
   "cell_type": "code",
   "execution_count": 4,
   "metadata": {
    "tags": []
   },
   "outputs": [
    {
     "output_type": "stream",
     "name": "stdout",
     "text": "bqzrmqklboxewccefldkryylbvehiznyjqeebdyfjoptloemehomicuyhhtsgknjfgehimknihctihvriharsmgqtrqcsxxcswtnkptmnswamxvcyweogsrffueebdkqlqzwrkucoftplotgojzrixepzseisxtctwzrmxirihalesprfaefvyorihnitrgpuhitmcfcdlahibklhrcdimtwqwtordjcndyywmjcnhduwofdpupngbanulzngypquleuxovffdceeyhquxoyoxquoddcvirrpjcatraqvfsawmjcnhtsoxquoddagbanurrrezjgdvjsxoomsdnitrgpuhnhrsssfvfsinhmsgpcmzjcslygewgqtdreasvfpxearimlpzwehqgmgwseixegqkprmxibfwlipchymotnxyvffdceeyhasbatexcjzvtsgbanudyapiugtldwlkvrihwaczgptrycevnqcupaospeukpcsngrihlrikumgfcytdqesdahckpbdujpxkpymbdiwdqefwsevktcddwlinepzseopyiw\n"
    },
    {
     "output_type": "execute_result",
     "data": {
      "text/plain": "<BarContainer object of 3 artists>"
     },
     "metadata": {},
     "execution_count": 4
    },
    {
     "output_type": "display_data",
     "data": {
      "text/plain": "<Figure size 432x288 with 6 Axes>",
      "image/svg+xml": "<?xml version=\"1.0\" encoding=\"utf-8\" standalone=\"no\"?>\r\n<!DOCTYPE svg PUBLIC \"-//W3C//DTD SVG 1.1//EN\"\r\n  \"http://www.w3.org/Graphics/SVG/1.1/DTD/svg11.dtd\">\r\n<!-- Created with matplotlib (https://matplotlib.org/) -->\r\n<svg height=\"296.39952pt\" version=\"1.1\" viewBox=\"0 0 440.39952 296.39952\" width=\"440.39952pt\" xmlns=\"http://www.w3.org/2000/svg\" xmlns:xlink=\"http://www.w3.org/1999/xlink\">\r\n <metadata>\r\n  <rdf:RDF xmlns:cc=\"http://creativecommons.org/ns#\" xmlns:dc=\"http://purl.org/dc/elements/1.1/\" xmlns:rdf=\"http://www.w3.org/1999/02/22-rdf-syntax-ns#\">\r\n   <cc:Work>\r\n    <dc:type rdf:resource=\"http://purl.org/dc/dcmitype/StillImage\"/>\r\n    <dc:date>2020-09-10T05:12:08.808762</dc:date>\r\n    <dc:format>image/svg+xml</dc:format>\r\n    <dc:creator>\r\n     <cc:Agent>\r\n      <dc:title>Matplotlib v3.3.0, https://matplotlib.org/</dc:title>\r\n     </cc:Agent>\r\n    </dc:creator>\r\n   </cc:Work>\r\n  </rdf:RDF>\r\n </metadata>\r\n <defs>\r\n  <style type=\"text/css\">*{stroke-linecap:butt;stroke-linejoin:round;}</style>\r\n </defs>\r\n <g id=\"figure_1\">\r\n  <g id=\"patch_1\">\r\n   <path d=\"M 0 296.39952 \r\nL 440.39952 296.39952 \r\nL 440.39952 0 \r\nL 0 0 \r\nz\r\n\" style=\"fill:none;\"/>\r\n  </g>\r\n  <g id=\"axes_1\">\r\n   <g id=\"patch_2\">\r\n    <path d=\"M 26.925 94.984535 \r\nL 213.450457 94.984535 \r\nL 213.450457 30.81471 \r\nL 26.925 30.81471 \r\nz\r\n\" style=\"fill:#ffffff;\"/>\r\n   </g>\r\n   <g id=\"patch_3\">\r\n    <path clip-path=\"url(#pc1994aff8e)\" d=\"M 35.40343 94.984535 \r\nL 50.818757 94.984535 \r\nL 50.818757 33.870416 \r\nL 35.40343 33.870416 \r\nz\r\n\" style=\"fill:#1f77b4;\"/>\r\n   </g>\r\n   <g id=\"patch_4\">\r\n    <path clip-path=\"url(#pc1994aff8e)\" d=\"M 54.672589 94.984535 \r\nL 70.087916 94.984535 \r\nL 70.087916 48.716774 \r\nL 54.672589 48.716774 \r\nz\r\n\" style=\"fill:#1f77b4;\"/>\r\n   </g>\r\n   <g id=\"patch_5\">\r\n    <path clip-path=\"url(#pc1994aff8e)\" d=\"M 73.941748 94.984535 \r\nL 89.357075 94.984535 \r\nL 89.357075 53.699456 \r\nL 73.941748 53.699456 \r\nz\r\n\" style=\"fill:#1f77b4;\"/>\r\n   </g>\r\n   <g id=\"patch_6\">\r\n    <path clip-path=\"url(#pc1994aff8e)\" d=\"M 93.210906 94.984535 \r\nL 108.626233 94.984535 \r\nL 108.626233 55.936579 \r\nL 93.210906 55.936579 \r\nz\r\n\" style=\"fill:#1f77b4;\"/>\r\n   </g>\r\n   <g id=\"patch_7\">\r\n    <path clip-path=\"url(#pc1994aff8e)\" d=\"M 112.480065 94.984535 \r\nL 127.895392 94.984535 \r\nL 127.895392 57.817795 \r\nL 112.480065 57.817795 \r\nz\r\n\" style=\"fill:#1f77b4;\"/>\r\n   </g>\r\n   <g id=\"patch_8\">\r\n    <path clip-path=\"url(#pc1994aff8e)\" d=\"M 131.749224 94.984535 \r\nL 147.164551 94.984535 \r\nL 147.164551 59.648168 \r\nL 131.749224 59.648168 \r\nz\r\n\" style=\"fill:#1f77b4;\"/>\r\n   </g>\r\n   <g id=\"patch_9\">\r\n    <path clip-path=\"url(#pc1994aff8e)\" d=\"M 151.018383 94.984535 \r\nL 166.43371 94.984535 \r\nL 166.43371 63.054696 \r\nL 151.018383 63.054696 \r\nz\r\n\" style=\"fill:#1f77b4;\"/>\r\n   </g>\r\n   <g id=\"patch_10\">\r\n    <path clip-path=\"url(#pc1994aff8e)\" d=\"M 170.287542 94.984535 \r\nL 185.702869 94.984535 \r\nL 185.702869 64.376632 \r\nL 170.287542 64.376632 \r\nz\r\n\" style=\"fill:#1f77b4;\"/>\r\n   </g>\r\n   <g id=\"patch_11\">\r\n    <path clip-path=\"url(#pc1994aff8e)\" d=\"M 189.556701 94.984535 \r\nL 204.972028 94.984535 \r\nL 204.972028 64.885069 \r\nL 189.556701 64.885069 \r\nz\r\n\" style=\"fill:#1f77b4;\"/>\r\n   </g>\r\n   <g id=\"matplotlib.axis_1\">\r\n    <g id=\"xtick_1\">\r\n     <g id=\"line2d_1\">\r\n      <defs>\r\n       <path d=\"M 0 0 \r\nL 0 3.5 \r\n\" id=\"mbd019355cd\" style=\"stroke:#000000;stroke-width:0.8;\"/>\r\n      </defs>\r\n      <g>\r\n       <use style=\"stroke:#000000;stroke-width:0.8;\" x=\"43.111093\" xlink:href=\"#mbd019355cd\" y=\"94.984535\"/>\r\n      </g>\r\n     </g>\r\n     <g id=\"text_1\">\r\n      <!-- E -->\r\n      <g transform=\"translate(39.951718 109.582972)scale(0.1 -0.1)\">\r\n       <defs>\r\n        <path d=\"M 9.8125 72.90625 \r\nL 55.90625 72.90625 \r\nL 55.90625 64.59375 \r\nL 19.671875 64.59375 \r\nL 19.671875 43.015625 \r\nL 54.390625 43.015625 \r\nL 54.390625 34.71875 \r\nL 19.671875 34.71875 \r\nL 19.671875 8.296875 \r\nL 56.78125 8.296875 \r\nL 56.78125 0 \r\nL 9.8125 0 \r\nz\r\n\" id=\"DejaVuSans-69\"/>\r\n       </defs>\r\n       <use xlink:href=\"#DejaVuSans-69\"/>\r\n      </g>\r\n     </g>\r\n    </g>\r\n    <g id=\"xtick_2\">\r\n     <g id=\"line2d_2\">\r\n      <g>\r\n       <use style=\"stroke:#000000;stroke-width:0.8;\" x=\"62.380252\" xlink:href=\"#mbd019355cd\" y=\"94.984535\"/>\r\n      </g>\r\n     </g>\r\n     <g id=\"text_2\">\r\n      <!-- T -->\r\n      <g transform=\"translate(59.326346 109.582972)scale(0.1 -0.1)\">\r\n       <defs>\r\n        <path d=\"M -0.296875 72.90625 \r\nL 61.375 72.90625 \r\nL 61.375 64.59375 \r\nL 35.5 64.59375 \r\nL 35.5 0 \r\nL 25.59375 0 \r\nL 25.59375 64.59375 \r\nL -0.296875 64.59375 \r\nz\r\n\" id=\"DejaVuSans-84\"/>\r\n       </defs>\r\n       <use xlink:href=\"#DejaVuSans-84\"/>\r\n      </g>\r\n     </g>\r\n    </g>\r\n    <g id=\"xtick_3\">\r\n     <g id=\"line2d_3\">\r\n      <g>\r\n       <use style=\"stroke:#000000;stroke-width:0.8;\" x=\"81.649411\" xlink:href=\"#mbd019355cd\" y=\"94.984535\"/>\r\n      </g>\r\n     </g>\r\n     <g id=\"text_3\">\r\n      <!-- A -->\r\n      <g transform=\"translate(78.229099 109.582972)scale(0.1 -0.1)\">\r\n       <defs>\r\n        <path d=\"M 34.1875 63.1875 \r\nL 20.796875 26.90625 \r\nL 47.609375 26.90625 \r\nz\r\nM 28.609375 72.90625 \r\nL 39.796875 72.90625 \r\nL 67.578125 0 \r\nL 57.328125 0 \r\nL 50.6875 18.703125 \r\nL 17.828125 18.703125 \r\nL 11.1875 0 \r\nL 0.78125 0 \r\nz\r\n\" id=\"DejaVuSans-65\"/>\r\n       </defs>\r\n       <use xlink:href=\"#DejaVuSans-65\"/>\r\n      </g>\r\n     </g>\r\n    </g>\r\n    <g id=\"xtick_4\">\r\n     <g id=\"line2d_4\">\r\n      <g>\r\n       <use style=\"stroke:#000000;stroke-width:0.8;\" x=\"100.91857\" xlink:href=\"#mbd019355cd\" y=\"94.984535\"/>\r\n      </g>\r\n     </g>\r\n     <g id=\"text_4\">\r\n      <!-- O -->\r\n      <g transform=\"translate(96.982632 109.582972)scale(0.1 -0.1)\">\r\n       <defs>\r\n        <path d=\"M 39.40625 66.21875 \r\nQ 28.65625 66.21875 22.328125 58.203125 \r\nQ 16.015625 50.203125 16.015625 36.375 \r\nQ 16.015625 22.609375 22.328125 14.59375 \r\nQ 28.65625 6.59375 39.40625 6.59375 \r\nQ 50.140625 6.59375 56.421875 14.59375 \r\nQ 62.703125 22.609375 62.703125 36.375 \r\nQ 62.703125 50.203125 56.421875 58.203125 \r\nQ 50.140625 66.21875 39.40625 66.21875 \r\nz\r\nM 39.40625 74.21875 \r\nQ 54.734375 74.21875 63.90625 63.9375 \r\nQ 73.09375 53.65625 73.09375 36.375 \r\nQ 73.09375 19.140625 63.90625 8.859375 \r\nQ 54.734375 -1.421875 39.40625 -1.421875 \r\nQ 24.03125 -1.421875 14.8125 8.828125 \r\nQ 5.609375 19.09375 5.609375 36.375 \r\nQ 5.609375 53.65625 14.8125 63.9375 \r\nQ 24.03125 74.21875 39.40625 74.21875 \r\nz\r\n\" id=\"DejaVuSans-79\"/>\r\n       </defs>\r\n       <use xlink:href=\"#DejaVuSans-79\"/>\r\n      </g>\r\n     </g>\r\n    </g>\r\n    <g id=\"xtick_5\">\r\n     <g id=\"line2d_5\">\r\n      <g>\r\n       <use style=\"stroke:#000000;stroke-width:0.8;\" x=\"120.187729\" xlink:href=\"#mbd019355cd\" y=\"94.984535\"/>\r\n      </g>\r\n     </g>\r\n     <g id=\"text_5\">\r\n      <!-- I -->\r\n      <g transform=\"translate(118.712729 109.582972)scale(0.1 -0.1)\">\r\n       <defs>\r\n        <path d=\"M 9.8125 72.90625 \r\nL 19.671875 72.90625 \r\nL 19.671875 0 \r\nL 9.8125 0 \r\nz\r\n\" id=\"DejaVuSans-73\"/>\r\n       </defs>\r\n       <use xlink:href=\"#DejaVuSans-73\"/>\r\n      </g>\r\n     </g>\r\n    </g>\r\n    <g id=\"xtick_6\">\r\n     <g id=\"line2d_6\">\r\n      <g>\r\n       <use style=\"stroke:#000000;stroke-width:0.8;\" x=\"139.456888\" xlink:href=\"#mbd019355cd\" y=\"94.984535\"/>\r\n      </g>\r\n     </g>\r\n     <g id=\"text_6\">\r\n      <!-- N -->\r\n      <g transform=\"translate(135.716263 109.582972)scale(0.1 -0.1)\">\r\n       <defs>\r\n        <path d=\"M 9.8125 72.90625 \r\nL 23.09375 72.90625 \r\nL 55.421875 11.921875 \r\nL 55.421875 72.90625 \r\nL 64.984375 72.90625 \r\nL 64.984375 0 \r\nL 51.703125 0 \r\nL 19.390625 60.984375 \r\nL 19.390625 0 \r\nL 9.8125 0 \r\nz\r\n\" id=\"DejaVuSans-78\"/>\r\n       </defs>\r\n       <use xlink:href=\"#DejaVuSans-78\"/>\r\n      </g>\r\n     </g>\r\n    </g>\r\n    <g id=\"xtick_7\">\r\n     <g id=\"line2d_7\">\r\n      <g>\r\n       <use style=\"stroke:#000000;stroke-width:0.8;\" x=\"158.726046\" xlink:href=\"#mbd019355cd\" y=\"94.984535\"/>\r\n      </g>\r\n     </g>\r\n     <g id=\"text_7\">\r\n      <!-- S -->\r\n      <g transform=\"translate(155.551828 109.582972)scale(0.1 -0.1)\">\r\n       <defs>\r\n        <path d=\"M 53.515625 70.515625 \r\nL 53.515625 60.890625 \r\nQ 47.90625 63.578125 42.921875 64.890625 \r\nQ 37.9375 66.21875 33.296875 66.21875 \r\nQ 25.25 66.21875 20.875 63.09375 \r\nQ 16.5 59.96875 16.5 54.203125 \r\nQ 16.5 49.359375 19.40625 46.890625 \r\nQ 22.3125 44.4375 30.421875 42.921875 \r\nL 36.375 41.703125 \r\nQ 47.40625 39.59375 52.65625 34.296875 \r\nQ 57.90625 29 57.90625 20.125 \r\nQ 57.90625 9.515625 50.796875 4.046875 \r\nQ 43.703125 -1.421875 29.984375 -1.421875 \r\nQ 24.8125 -1.421875 18.96875 -0.25 \r\nQ 13.140625 0.921875 6.890625 3.21875 \r\nL 6.890625 13.375 \r\nQ 12.890625 10.015625 18.65625 8.296875 \r\nQ 24.421875 6.59375 29.984375 6.59375 \r\nQ 38.421875 6.59375 43.015625 9.90625 \r\nQ 47.609375 13.234375 47.609375 19.390625 \r\nQ 47.609375 24.75 44.3125 27.78125 \r\nQ 41.015625 30.8125 33.5 32.328125 \r\nL 27.484375 33.5 \r\nQ 16.453125 35.6875 11.515625 40.375 \r\nQ 6.59375 45.0625 6.59375 53.421875 \r\nQ 6.59375 63.09375 13.40625 68.65625 \r\nQ 20.21875 74.21875 32.171875 74.21875 \r\nQ 37.3125 74.21875 42.625 73.28125 \r\nQ 47.953125 72.359375 53.515625 70.515625 \r\nz\r\n\" id=\"DejaVuSans-83\"/>\r\n       </defs>\r\n       <use xlink:href=\"#DejaVuSans-83\"/>\r\n      </g>\r\n     </g>\r\n    </g>\r\n    <g id=\"xtick_8\">\r\n     <g id=\"line2d_8\">\r\n      <g>\r\n       <use style=\"stroke:#000000;stroke-width:0.8;\" x=\"177.995205\" xlink:href=\"#mbd019355cd\" y=\"94.984535\"/>\r\n      </g>\r\n     </g>\r\n     <g id=\"text_8\">\r\n      <!-- R -->\r\n      <g transform=\"translate(174.520986 109.582972)scale(0.1 -0.1)\">\r\n       <defs>\r\n        <path d=\"M 44.390625 34.1875 \r\nQ 47.5625 33.109375 50.5625 29.59375 \r\nQ 53.5625 26.078125 56.59375 19.921875 \r\nL 66.609375 0 \r\nL 56 0 \r\nL 46.6875 18.703125 \r\nQ 43.0625 26.03125 39.671875 28.421875 \r\nQ 36.28125 30.8125 30.421875 30.8125 \r\nL 19.671875 30.8125 \r\nL 19.671875 0 \r\nL 9.8125 0 \r\nL 9.8125 72.90625 \r\nL 32.078125 72.90625 \r\nQ 44.578125 72.90625 50.734375 67.671875 \r\nQ 56.890625 62.453125 56.890625 51.90625 \r\nQ 56.890625 45.015625 53.6875 40.46875 \r\nQ 50.484375 35.9375 44.390625 34.1875 \r\nz\r\nM 19.671875 64.796875 \r\nL 19.671875 38.921875 \r\nL 32.078125 38.921875 \r\nQ 39.203125 38.921875 42.84375 42.21875 \r\nQ 46.484375 45.515625 46.484375 51.90625 \r\nQ 46.484375 58.296875 42.84375 61.546875 \r\nQ 39.203125 64.796875 32.078125 64.796875 \r\nz\r\n\" id=\"DejaVuSans-82\"/>\r\n       </defs>\r\n       <use xlink:href=\"#DejaVuSans-82\"/>\r\n      </g>\r\n     </g>\r\n    </g>\r\n    <g id=\"xtick_9\">\r\n     <g id=\"line2d_9\">\r\n      <g>\r\n       <use style=\"stroke:#000000;stroke-width:0.8;\" x=\"197.264364\" xlink:href=\"#mbd019355cd\" y=\"94.984535\"/>\r\n      </g>\r\n     </g>\r\n     <g id=\"text_9\">\r\n      <!-- H -->\r\n      <g transform=\"translate(193.504208 109.582972)scale(0.1 -0.1)\">\r\n       <defs>\r\n        <path d=\"M 9.8125 72.90625 \r\nL 19.671875 72.90625 \r\nL 19.671875 43.015625 \r\nL 55.515625 43.015625 \r\nL 55.515625 72.90625 \r\nL 65.375 72.90625 \r\nL 65.375 0 \r\nL 55.515625 0 \r\nL 55.515625 34.71875 \r\nL 19.671875 34.71875 \r\nL 19.671875 0 \r\nL 9.8125 0 \r\nz\r\n\" id=\"DejaVuSans-72\"/>\r\n       </defs>\r\n       <use xlink:href=\"#DejaVuSans-72\"/>\r\n      </g>\r\n     </g>\r\n    </g>\r\n   </g>\r\n   <g id=\"matplotlib.axis_2\">\r\n    <g id=\"ytick_1\">\r\n     <g id=\"line2d_10\">\r\n      <defs>\r\n       <path d=\"M 0 0 \r\nL -3.5 0 \r\n\" id=\"md0b3e8d31f\" style=\"stroke:#000000;stroke-width:0.8;\"/>\r\n      </defs>\r\n      <g>\r\n       <use style=\"stroke:#000000;stroke-width:0.8;\" x=\"26.925\" xlink:href=\"#md0b3e8d31f\" y=\"94.984535\"/>\r\n      </g>\r\n     </g>\r\n     <g id=\"text_10\">\r\n      <!-- 0 -->\r\n      <g transform=\"translate(13.5625 98.783754)scale(0.1 -0.1)\">\r\n       <defs>\r\n        <path d=\"M 31.78125 66.40625 \r\nQ 24.171875 66.40625 20.328125 58.90625 \r\nQ 16.5 51.421875 16.5 36.375 \r\nQ 16.5 21.390625 20.328125 13.890625 \r\nQ 24.171875 6.390625 31.78125 6.390625 \r\nQ 39.453125 6.390625 43.28125 13.890625 \r\nQ 47.125 21.390625 47.125 36.375 \r\nQ 47.125 51.421875 43.28125 58.90625 \r\nQ 39.453125 66.40625 31.78125 66.40625 \r\nz\r\nM 31.78125 74.21875 \r\nQ 44.046875 74.21875 50.515625 64.515625 \r\nQ 56.984375 54.828125 56.984375 36.375 \r\nQ 56.984375 17.96875 50.515625 8.265625 \r\nQ 44.046875 -1.421875 31.78125 -1.421875 \r\nQ 19.53125 -1.421875 13.0625 8.265625 \r\nQ 6.59375 17.96875 6.59375 36.375 \r\nQ 6.59375 54.828125 13.0625 64.515625 \r\nQ 19.53125 74.21875 31.78125 74.21875 \r\nz\r\n\" id=\"DejaVuSans-48\"/>\r\n       </defs>\r\n       <use xlink:href=\"#DejaVuSans-48\"/>\r\n      </g>\r\n     </g>\r\n    </g>\r\n    <g id=\"ytick_2\">\r\n     <g id=\"line2d_11\">\r\n      <g>\r\n       <use style=\"stroke:#000000;stroke-width:0.8;\" x=\"26.925\" xlink:href=\"#md0b3e8d31f\" y=\"69.562688\"/>\r\n      </g>\r\n     </g>\r\n     <g id=\"text_11\">\r\n      <!-- 5 -->\r\n      <g transform=\"translate(13.5625 73.361907)scale(0.1 -0.1)\">\r\n       <defs>\r\n        <path d=\"M 10.796875 72.90625 \r\nL 49.515625 72.90625 \r\nL 49.515625 64.59375 \r\nL 19.828125 64.59375 \r\nL 19.828125 46.734375 \r\nQ 21.96875 47.46875 24.109375 47.828125 \r\nQ 26.265625 48.1875 28.421875 48.1875 \r\nQ 40.625 48.1875 47.75 41.5 \r\nQ 54.890625 34.8125 54.890625 23.390625 \r\nQ 54.890625 11.625 47.5625 5.09375 \r\nQ 40.234375 -1.421875 26.90625 -1.421875 \r\nQ 22.3125 -1.421875 17.546875 -0.640625 \r\nQ 12.796875 0.140625 7.71875 1.703125 \r\nL 7.71875 11.625 \r\nQ 12.109375 9.234375 16.796875 8.0625 \r\nQ 21.484375 6.890625 26.703125 6.890625 \r\nQ 35.15625 6.890625 40.078125 11.328125 \r\nQ 45.015625 15.765625 45.015625 23.390625 \r\nQ 45.015625 31 40.078125 35.4375 \r\nQ 35.15625 39.890625 26.703125 39.890625 \r\nQ 22.75 39.890625 18.8125 39.015625 \r\nQ 14.890625 38.140625 10.796875 36.28125 \r\nz\r\n\" id=\"DejaVuSans-53\"/>\r\n       </defs>\r\n       <use xlink:href=\"#DejaVuSans-53\"/>\r\n      </g>\r\n     </g>\r\n    </g>\r\n    <g id=\"ytick_3\">\r\n     <g id=\"line2d_12\">\r\n      <g>\r\n       <use style=\"stroke:#000000;stroke-width:0.8;\" x=\"26.925\" xlink:href=\"#md0b3e8d31f\" y=\"44.140842\"/>\r\n      </g>\r\n     </g>\r\n     <g id=\"text_12\">\r\n      <!-- 10 -->\r\n      <g transform=\"translate(7.2 47.940061)scale(0.1 -0.1)\">\r\n       <defs>\r\n        <path d=\"M 12.40625 8.296875 \r\nL 28.515625 8.296875 \r\nL 28.515625 63.921875 \r\nL 10.984375 60.40625 \r\nL 10.984375 69.390625 \r\nL 28.421875 72.90625 \r\nL 38.28125 72.90625 \r\nL 38.28125 8.296875 \r\nL 54.390625 8.296875 \r\nL 54.390625 0 \r\nL 12.40625 0 \r\nz\r\n\" id=\"DejaVuSans-49\"/>\r\n       </defs>\r\n       <use xlink:href=\"#DejaVuSans-49\"/>\r\n       <use x=\"63.623047\" xlink:href=\"#DejaVuSans-48\"/>\r\n      </g>\r\n     </g>\r\n    </g>\r\n   </g>\r\n   <g id=\"patch_12\">\r\n    <path d=\"M 26.925 94.984535 \r\nL 26.925 30.81471 \r\n\" style=\"fill:none;stroke:#000000;stroke-linecap:square;stroke-linejoin:miter;stroke-width:0.8;\"/>\r\n   </g>\r\n   <g id=\"patch_13\">\r\n    <path d=\"M 213.450457 94.984535 \r\nL 213.450457 30.81471 \r\n\" style=\"fill:none;stroke:#000000;stroke-linecap:square;stroke-linejoin:miter;stroke-width:0.8;\"/>\r\n   </g>\r\n   <g id=\"patch_14\">\r\n    <path d=\"M 26.925 94.984535 \r\nL 213.450458 94.984535 \r\n\" style=\"fill:none;stroke:#000000;stroke-linecap:square;stroke-linejoin:miter;stroke-width:0.8;\"/>\r\n   </g>\r\n   <g id=\"patch_15\">\r\n    <path d=\"M 26.925 30.81471 \r\nL 213.450458 30.81471 \r\n\" style=\"fill:none;stroke:#000000;stroke-linecap:square;stroke-linejoin:miter;stroke-width:0.8;\"/>\r\n   </g>\r\n  </g>\r\n  <g id=\"axes_2\">\r\n   <g id=\"patch_16\">\r\n    <path d=\"M 246.674062 94.984535 \r\nL 433.19952 94.984535 \r\nL 433.19952 30.81471 \r\nL 246.674062 30.81471 \r\nz\r\n\" style=\"fill:#ffffff;\"/>\r\n   </g>\r\n   <g id=\"patch_17\">\r\n    <path clip-path=\"url(#pa7249dd37e)\" d=\"M 255.152492 94.984535 \r\nL 262.773553 94.984535 \r\nL 262.773553 33.870416 \r\nL 255.152492 33.870416 \r\nz\r\n\" style=\"fill:#1f77b4;\"/>\r\n   </g>\r\n   <g id=\"patch_18\">\r\n    <path clip-path=\"url(#pa7249dd37e)\" d=\"M 264.678818 94.984535 \r\nL 272.299879 94.984535 \r\nL 272.299879 44.056102 \r\nL 264.678818 44.056102 \r\nz\r\n\" style=\"fill:#1f77b4;\"/>\r\n   </g>\r\n   <g id=\"patch_19\">\r\n    <path clip-path=\"url(#pa7249dd37e)\" d=\"M 274.205144 94.984535 \r\nL 281.826204 94.984535 \r\nL 281.826204 44.056102 \r\nL 274.205144 44.056102 \r\nz\r\n\" style=\"fill:#1f77b4;\"/>\r\n   </g>\r\n   <g id=\"patch_20\">\r\n    <path clip-path=\"url(#pa7249dd37e)\" d=\"M 283.73147 94.984535 \r\nL 291.35253 94.984535 \r\nL 291.35253 44.056102 \r\nL 283.73147 44.056102 \r\nz\r\n\" style=\"fill:#1f77b4;\"/>\r\n   </g>\r\n   <g id=\"patch_21\">\r\n    <path clip-path=\"url(#pa7249dd37e)\" d=\"M 293.257795 94.984535 \r\nL 300.878856 94.984535 \r\nL 300.878856 44.056102 \r\nL 293.257795 44.056102 \r\nz\r\n\" style=\"fill:#1f77b4;\"/>\r\n   </g>\r\n   <g id=\"patch_22\">\r\n    <path clip-path=\"url(#pa7249dd37e)\" d=\"M 302.784121 94.984535 \r\nL 310.405182 94.984535 \r\nL 310.405182 44.056102 \r\nL 302.784121 44.056102 \r\nz\r\n\" style=\"fill:#1f77b4;\"/>\r\n   </g>\r\n   <g id=\"patch_23\">\r\n    <path clip-path=\"url(#pa7249dd37e)\" d=\"M 312.310447 94.984535 \r\nL 319.931507 94.984535 \r\nL 319.931507 44.056102 \r\nL 312.310447 44.056102 \r\nz\r\n\" style=\"fill:#1f77b4;\"/>\r\n   </g>\r\n   <g id=\"patch_24\">\r\n    <path clip-path=\"url(#pa7249dd37e)\" d=\"M 321.836772 94.984535 \r\nL 329.457833 94.984535 \r\nL 329.457833 54.241789 \r\nL 321.836772 54.241789 \r\nz\r\n\" style=\"fill:#1f77b4;\"/>\r\n   </g>\r\n   <g id=\"patch_25\">\r\n    <path clip-path=\"url(#pa7249dd37e)\" d=\"M 331.363098 94.984535 \r\nL 338.984159 94.984535 \r\nL 338.984159 54.241789 \r\nL 331.363098 54.241789 \r\nz\r\n\" style=\"fill:#1f77b4;\"/>\r\n   </g>\r\n   <g id=\"patch_26\">\r\n    <path clip-path=\"url(#pa7249dd37e)\" d=\"M 340.889424 94.984535 \r\nL 348.510484 94.984535 \r\nL 348.510484 54.241789 \r\nL 340.889424 54.241789 \r\nz\r\n\" style=\"fill:#1f77b4;\"/>\r\n   </g>\r\n   <g id=\"patch_27\">\r\n    <path clip-path=\"url(#pa7249dd37e)\" d=\"M 350.41575 94.984535 \r\nL 358.03681 94.984535 \r\nL 358.03681 54.241789 \r\nL 350.41575 54.241789 \r\nz\r\n\" style=\"fill:#1f77b4;\"/>\r\n   </g>\r\n   <g id=\"patch_28\">\r\n    <path clip-path=\"url(#pa7249dd37e)\" d=\"M 359.942075 94.984535 \r\nL 367.563136 94.984535 \r\nL 367.563136 54.241789 \r\nL 359.942075 54.241789 \r\nz\r\n\" style=\"fill:#1f77b4;\"/>\r\n   </g>\r\n   <g id=\"patch_29\">\r\n    <path clip-path=\"url(#pa7249dd37e)\" d=\"M 369.468401 94.984535 \r\nL 377.089462 94.984535 \r\nL 377.089462 54.241789 \r\nL 369.468401 54.241789 \r\nz\r\n\" style=\"fill:#1f77b4;\"/>\r\n   </g>\r\n   <g id=\"patch_30\">\r\n    <path clip-path=\"url(#pa7249dd37e)\" d=\"M 378.994727 94.984535 \r\nL 386.615787 94.984535 \r\nL 386.615787 54.241789 \r\nL 378.994727 54.241789 \r\nz\r\n\" style=\"fill:#1f77b4;\"/>\r\n   </g>\r\n   <g id=\"patch_31\">\r\n    <path clip-path=\"url(#pa7249dd37e)\" d=\"M 388.521052 94.984535 \r\nL 396.142113 94.984535 \r\nL 396.142113 54.241789 \r\nL 388.521052 54.241789 \r\nz\r\n\" style=\"fill:#1f77b4;\"/>\r\n   </g>\r\n   <g id=\"patch_32\">\r\n    <path clip-path=\"url(#pa7249dd37e)\" d=\"M 398.047378 94.984535 \r\nL 405.668439 94.984535 \r\nL 405.668439 54.241789 \r\nL 398.047378 54.241789 \r\nz\r\n\" style=\"fill:#1f77b4;\"/>\r\n   </g>\r\n   <g id=\"patch_33\">\r\n    <path clip-path=\"url(#pa7249dd37e)\" d=\"M 407.573704 94.984535 \r\nL 415.194764 94.984535 \r\nL 415.194764 54.241789 \r\nL 407.573704 54.241789 \r\nz\r\n\" style=\"fill:#1f77b4;\"/>\r\n   </g>\r\n   <g id=\"patch_34\">\r\n    <path clip-path=\"url(#pa7249dd37e)\" d=\"M 417.10003 94.984535 \r\nL 424.72109 94.984535 \r\nL 424.72109 54.241789 \r\nL 417.10003 54.241789 \r\nz\r\n\" style=\"fill:#1f77b4;\"/>\r\n   </g>\r\n   <g id=\"matplotlib.axis_3\">\r\n    <g id=\"xtick_10\">\r\n     <g id=\"line2d_13\">\r\n      <g>\r\n       <use style=\"stroke:#000000;stroke-width:0.8;\" x=\"258.963023\" xlink:href=\"#mbd019355cd\" y=\"94.984535\"/>\r\n      </g>\r\n     </g>\r\n     <g id=\"text_13\">\r\n      <!-- e -->\r\n      <g transform=\"translate(255.88646 109.582972)scale(0.1 -0.1)\">\r\n       <defs>\r\n        <path d=\"M 56.203125 29.59375 \r\nL 56.203125 25.203125 \r\nL 14.890625 25.203125 \r\nQ 15.484375 15.921875 20.484375 11.0625 \r\nQ 25.484375 6.203125 34.421875 6.203125 \r\nQ 39.59375 6.203125 44.453125 7.46875 \r\nQ 49.3125 8.734375 54.109375 11.28125 \r\nL 54.109375 2.78125 \r\nQ 49.265625 0.734375 44.1875 -0.34375 \r\nQ 39.109375 -1.421875 33.890625 -1.421875 \r\nQ 20.796875 -1.421875 13.15625 6.1875 \r\nQ 5.515625 13.8125 5.515625 26.8125 \r\nQ 5.515625 40.234375 12.765625 48.109375 \r\nQ 20.015625 56 32.328125 56 \r\nQ 43.359375 56 49.78125 48.890625 \r\nQ 56.203125 41.796875 56.203125 29.59375 \r\nz\r\nM 47.21875 32.234375 \r\nQ 47.125 39.59375 43.09375 43.984375 \r\nQ 39.0625 48.390625 32.421875 48.390625 \r\nQ 24.90625 48.390625 20.390625 44.140625 \r\nQ 15.875 39.890625 15.1875 32.171875 \r\nz\r\n\" id=\"DejaVuSans-101\"/>\r\n       </defs>\r\n       <use xlink:href=\"#DejaVuSans-101\"/>\r\n      </g>\r\n     </g>\r\n    </g>\r\n    <g id=\"xtick_11\">\r\n     <g id=\"line2d_14\">\r\n      <g>\r\n       <use style=\"stroke:#000000;stroke-width:0.8;\" x=\"268.489348\" xlink:href=\"#mbd019355cd\" y=\"94.984535\"/>\r\n      </g>\r\n     </g>\r\n     <g id=\"text_14\">\r\n      <!-- r -->\r\n      <g transform=\"translate(266.43388 109.582972)scale(0.1 -0.1)\">\r\n       <defs>\r\n        <path d=\"M 41.109375 46.296875 \r\nQ 39.59375 47.171875 37.8125 47.578125 \r\nQ 36.03125 48 33.890625 48 \r\nQ 26.265625 48 22.1875 43.046875 \r\nQ 18.109375 38.09375 18.109375 28.8125 \r\nL 18.109375 0 \r\nL 9.078125 0 \r\nL 9.078125 54.6875 \r\nL 18.109375 54.6875 \r\nL 18.109375 46.1875 \r\nQ 20.953125 51.171875 25.484375 53.578125 \r\nQ 30.03125 56 36.53125 56 \r\nQ 37.453125 56 38.578125 55.875 \r\nQ 39.703125 55.765625 41.0625 55.515625 \r\nz\r\n\" id=\"DejaVuSans-114\"/>\r\n       </defs>\r\n       <use xlink:href=\"#DejaVuSans-114\"/>\r\n      </g>\r\n     </g>\r\n    </g>\r\n    <g id=\"xtick_12\">\r\n     <g id=\"line2d_15\">\r\n      <g>\r\n       <use style=\"stroke:#000000;stroke-width:0.8;\" x=\"278.015674\" xlink:href=\"#mbd019355cd\" y=\"94.984535\"/>\r\n      </g>\r\n     </g>\r\n     <g id=\"text_15\">\r\n      <!-- c -->\r\n      <g transform=\"translate(275.266455 109.582972)scale(0.1 -0.1)\">\r\n       <defs>\r\n        <path d=\"M 48.78125 52.59375 \r\nL 48.78125 44.1875 \r\nQ 44.96875 46.296875 41.140625 47.34375 \r\nQ 37.3125 48.390625 33.40625 48.390625 \r\nQ 24.65625 48.390625 19.8125 42.84375 \r\nQ 14.984375 37.3125 14.984375 27.296875 \r\nQ 14.984375 17.28125 19.8125 11.734375 \r\nQ 24.65625 6.203125 33.40625 6.203125 \r\nQ 37.3125 6.203125 41.140625 7.25 \r\nQ 44.96875 8.296875 48.78125 10.40625 \r\nL 48.78125 2.09375 \r\nQ 45.015625 0.34375 40.984375 -0.53125 \r\nQ 36.96875 -1.421875 32.421875 -1.421875 \r\nQ 20.0625 -1.421875 12.78125 6.34375 \r\nQ 5.515625 14.109375 5.515625 27.296875 \r\nQ 5.515625 40.671875 12.859375 48.328125 \r\nQ 20.21875 56 33.015625 56 \r\nQ 37.15625 56 41.109375 55.140625 \r\nQ 45.0625 54.296875 48.78125 52.59375 \r\nz\r\n\" id=\"DejaVuSans-99\"/>\r\n       </defs>\r\n       <use xlink:href=\"#DejaVuSans-99\"/>\r\n      </g>\r\n     </g>\r\n    </g>\r\n    <g id=\"xtick_13\">\r\n     <g id=\"line2d_16\">\r\n      <g>\r\n       <use style=\"stroke:#000000;stroke-width:0.8;\" x=\"287.542\" xlink:href=\"#mbd019355cd\" y=\"94.984535\"/>\r\n      </g>\r\n     </g>\r\n     <g id=\"text_16\">\r\n      <!-- i -->\r\n      <g transform=\"translate(286.152937 109.582972)scale(0.1 -0.1)\">\r\n       <defs>\r\n        <path d=\"M 9.421875 54.6875 \r\nL 18.40625 54.6875 \r\nL 18.40625 0 \r\nL 9.421875 0 \r\nz\r\nM 9.421875 75.984375 \r\nL 18.40625 75.984375 \r\nL 18.40625 64.59375 \r\nL 9.421875 64.59375 \r\nz\r\n\" id=\"DejaVuSans-105\"/>\r\n       </defs>\r\n       <use xlink:href=\"#DejaVuSans-105\"/>\r\n      </g>\r\n     </g>\r\n    </g>\r\n    <g id=\"xtick_14\">\r\n     <g id=\"line2d_17\">\r\n      <g>\r\n       <use style=\"stroke:#000000;stroke-width:0.8;\" x=\"297.068326\" xlink:href=\"#mbd019355cd\" y=\"94.984535\"/>\r\n      </g>\r\n     </g>\r\n     <g id=\"text_17\">\r\n      <!-- s -->\r\n      <g transform=\"translate(294.463638 109.582972)scale(0.1 -0.1)\">\r\n       <defs>\r\n        <path d=\"M 44.28125 53.078125 \r\nL 44.28125 44.578125 \r\nQ 40.484375 46.53125 36.375 47.5 \r\nQ 32.28125 48.484375 27.875 48.484375 \r\nQ 21.1875 48.484375 17.84375 46.4375 \r\nQ 14.5 44.390625 14.5 40.28125 \r\nQ 14.5 37.15625 16.890625 35.375 \r\nQ 19.28125 33.59375 26.515625 31.984375 \r\nL 29.59375 31.296875 \r\nQ 39.15625 29.25 43.1875 25.515625 \r\nQ 47.21875 21.78125 47.21875 15.09375 \r\nQ 47.21875 7.46875 41.1875 3.015625 \r\nQ 35.15625 -1.421875 24.609375 -1.421875 \r\nQ 20.21875 -1.421875 15.453125 -0.5625 \r\nQ 10.6875 0.296875 5.421875 2 \r\nL 5.421875 11.28125 \r\nQ 10.40625 8.6875 15.234375 7.390625 \r\nQ 20.0625 6.109375 24.8125 6.109375 \r\nQ 31.15625 6.109375 34.5625 8.28125 \r\nQ 37.984375 10.453125 37.984375 14.40625 \r\nQ 37.984375 18.0625 35.515625 20.015625 \r\nQ 33.0625 21.96875 24.703125 23.78125 \r\nL 21.578125 24.515625 \r\nQ 13.234375 26.265625 9.515625 29.90625 \r\nQ 5.8125 33.546875 5.8125 39.890625 \r\nQ 5.8125 47.609375 11.28125 51.796875 \r\nQ 16.75 56 26.8125 56 \r\nQ 31.78125 56 36.171875 55.265625 \r\nQ 40.578125 54.546875 44.28125 53.078125 \r\nz\r\n\" id=\"DejaVuSans-115\"/>\r\n       </defs>\r\n       <use xlink:href=\"#DejaVuSans-115\"/>\r\n      </g>\r\n     </g>\r\n    </g>\r\n    <g id=\"xtick_15\">\r\n     <g id=\"line2d_18\">\r\n      <g>\r\n       <use style=\"stroke:#000000;stroke-width:0.8;\" x=\"306.594651\" xlink:href=\"#mbd019355cd\" y=\"94.984535\"/>\r\n      </g>\r\n     </g>\r\n     <g id=\"text_18\">\r\n      <!-- d -->\r\n      <g transform=\"translate(303.420432 109.582972)scale(0.1 -0.1)\">\r\n       <defs>\r\n        <path d=\"M 45.40625 46.390625 \r\nL 45.40625 75.984375 \r\nL 54.390625 75.984375 \r\nL 54.390625 0 \r\nL 45.40625 0 \r\nL 45.40625 8.203125 \r\nQ 42.578125 3.328125 38.25 0.953125 \r\nQ 33.9375 -1.421875 27.875 -1.421875 \r\nQ 17.96875 -1.421875 11.734375 6.484375 \r\nQ 5.515625 14.40625 5.515625 27.296875 \r\nQ 5.515625 40.1875 11.734375 48.09375 \r\nQ 17.96875 56 27.875 56 \r\nQ 33.9375 56 38.25 53.625 \r\nQ 42.578125 51.265625 45.40625 46.390625 \r\nz\r\nM 14.796875 27.296875 \r\nQ 14.796875 17.390625 18.875 11.75 \r\nQ 22.953125 6.109375 30.078125 6.109375 \r\nQ 37.203125 6.109375 41.296875 11.75 \r\nQ 45.40625 17.390625 45.40625 27.296875 \r\nQ 45.40625 37.203125 41.296875 42.84375 \r\nQ 37.203125 48.484375 30.078125 48.484375 \r\nQ 22.953125 48.484375 18.875 42.84375 \r\nQ 14.796875 37.203125 14.796875 27.296875 \r\nz\r\n\" id=\"DejaVuSans-100\"/>\r\n       </defs>\r\n       <use xlink:href=\"#DejaVuSans-100\"/>\r\n      </g>\r\n     </g>\r\n    </g>\r\n    <g id=\"xtick_16\">\r\n     <g id=\"line2d_19\">\r\n      <g>\r\n       <use style=\"stroke:#000000;stroke-width:0.8;\" x=\"316.120977\" xlink:href=\"#mbd019355cd\" y=\"94.984535\"/>\r\n      </g>\r\n     </g>\r\n     <g id=\"text_19\">\r\n      <!-- p -->\r\n      <g transform=\"translate(312.946758 109.582972)scale(0.1 -0.1)\">\r\n       <defs>\r\n        <path d=\"M 18.109375 8.203125 \r\nL 18.109375 -20.796875 \r\nL 9.078125 -20.796875 \r\nL 9.078125 54.6875 \r\nL 18.109375 54.6875 \r\nL 18.109375 46.390625 \r\nQ 20.953125 51.265625 25.265625 53.625 \r\nQ 29.59375 56 35.59375 56 \r\nQ 45.5625 56 51.78125 48.09375 \r\nQ 58.015625 40.1875 58.015625 27.296875 \r\nQ 58.015625 14.40625 51.78125 6.484375 \r\nQ 45.5625 -1.421875 35.59375 -1.421875 \r\nQ 29.59375 -1.421875 25.265625 0.953125 \r\nQ 20.953125 3.328125 18.109375 8.203125 \r\nz\r\nM 48.6875 27.296875 \r\nQ 48.6875 37.203125 44.609375 42.84375 \r\nQ 40.53125 48.484375 33.40625 48.484375 \r\nQ 26.265625 48.484375 22.1875 42.84375 \r\nQ 18.109375 37.203125 18.109375 27.296875 \r\nQ 18.109375 17.390625 22.1875 11.75 \r\nQ 26.265625 6.109375 33.40625 6.109375 \r\nQ 40.53125 6.109375 44.609375 11.75 \r\nQ 48.6875 17.390625 48.6875 27.296875 \r\nz\r\n\" id=\"DejaVuSans-112\"/>\r\n       </defs>\r\n       <use xlink:href=\"#DejaVuSans-112\"/>\r\n      </g>\r\n     </g>\r\n    </g>\r\n    <g id=\"xtick_17\">\r\n     <g id=\"line2d_20\">\r\n      <g>\r\n       <use style=\"stroke:#000000;stroke-width:0.8;\" x=\"325.647303\" xlink:href=\"#mbd019355cd\" y=\"94.984535\"/>\r\n      </g>\r\n     </g>\r\n     <g id=\"text_20\">\r\n      <!-- h -->\r\n      <g transform=\"translate(322.478553 109.582972)scale(0.1 -0.1)\">\r\n       <defs>\r\n        <path d=\"M 54.890625 33.015625 \r\nL 54.890625 0 \r\nL 45.90625 0 \r\nL 45.90625 32.71875 \r\nQ 45.90625 40.484375 42.875 44.328125 \r\nQ 39.84375 48.1875 33.796875 48.1875 \r\nQ 26.515625 48.1875 22.3125 43.546875 \r\nQ 18.109375 38.921875 18.109375 30.90625 \r\nL 18.109375 0 \r\nL 9.078125 0 \r\nL 9.078125 75.984375 \r\nL 18.109375 75.984375 \r\nL 18.109375 46.1875 \r\nQ 21.34375 51.125 25.703125 53.5625 \r\nQ 30.078125 56 35.796875 56 \r\nQ 45.21875 56 50.046875 50.171875 \r\nQ 54.890625 44.34375 54.890625 33.015625 \r\nz\r\n\" id=\"DejaVuSans-104\"/>\r\n       </defs>\r\n       <use xlink:href=\"#DejaVuSans-104\"/>\r\n      </g>\r\n     </g>\r\n    </g>\r\n    <g id=\"xtick_18\">\r\n     <g id=\"line2d_21\">\r\n      <g>\r\n       <use style=\"stroke:#000000;stroke-width:0.8;\" x=\"335.173628\" xlink:href=\"#mbd019355cd\" y=\"94.984535\"/>\r\n      </g>\r\n     </g>\r\n     <g id=\"text_21\">\r\n      <!-- t -->\r\n      <g transform=\"translate(333.213472 109.582972)scale(0.1 -0.1)\">\r\n       <defs>\r\n        <path d=\"M 18.3125 70.21875 \r\nL 18.3125 54.6875 \r\nL 36.8125 54.6875 \r\nL 36.8125 47.703125 \r\nL 18.3125 47.703125 \r\nL 18.3125 18.015625 \r\nQ 18.3125 11.328125 20.140625 9.421875 \r\nQ 21.96875 7.515625 27.59375 7.515625 \r\nL 36.8125 7.515625 \r\nL 36.8125 0 \r\nL 27.59375 0 \r\nQ 17.1875 0 13.234375 3.875 \r\nQ 9.28125 7.765625 9.28125 18.015625 \r\nL 9.28125 47.703125 \r\nL 2.6875 47.703125 \r\nL 2.6875 54.6875 \r\nL 9.28125 54.6875 \r\nL 9.28125 70.21875 \r\nz\r\n\" id=\"DejaVuSans-116\"/>\r\n       </defs>\r\n       <use xlink:href=\"#DejaVuSans-116\"/>\r\n      </g>\r\n     </g>\r\n    </g>\r\n    <g id=\"xtick_19\">\r\n     <g id=\"line2d_22\">\r\n      <g>\r\n       <use style=\"stroke:#000000;stroke-width:0.8;\" x=\"344.699954\" xlink:href=\"#mbd019355cd\" y=\"94.984535\"/>\r\n      </g>\r\n     </g>\r\n     <g id=\"text_22\">\r\n      <!-- o -->\r\n      <g transform=\"translate(341.640579 109.582972)scale(0.1 -0.1)\">\r\n       <defs>\r\n        <path d=\"M 30.609375 48.390625 \r\nQ 23.390625 48.390625 19.1875 42.75 \r\nQ 14.984375 37.109375 14.984375 27.296875 \r\nQ 14.984375 17.484375 19.15625 11.84375 \r\nQ 23.34375 6.203125 30.609375 6.203125 \r\nQ 37.796875 6.203125 41.984375 11.859375 \r\nQ 46.1875 17.53125 46.1875 27.296875 \r\nQ 46.1875 37.015625 41.984375 42.703125 \r\nQ 37.796875 48.390625 30.609375 48.390625 \r\nz\r\nM 30.609375 56 \r\nQ 42.328125 56 49.015625 48.375 \r\nQ 55.71875 40.765625 55.71875 27.296875 \r\nQ 55.71875 13.875 49.015625 6.21875 \r\nQ 42.328125 -1.421875 30.609375 -1.421875 \r\nQ 18.84375 -1.421875 12.171875 6.21875 \r\nQ 5.515625 13.875 5.515625 27.296875 \r\nQ 5.515625 40.765625 12.171875 48.375 \r\nQ 18.84375 56 30.609375 56 \r\nz\r\n\" id=\"DejaVuSans-111\"/>\r\n       </defs>\r\n       <use xlink:href=\"#DejaVuSans-111\"/>\r\n      </g>\r\n     </g>\r\n    </g>\r\n    <g id=\"xtick_20\">\r\n     <g id=\"line2d_23\">\r\n      <g>\r\n       <use style=\"stroke:#000000;stroke-width:0.8;\" x=\"354.22628\" xlink:href=\"#mbd019355cd\" y=\"94.984535\"/>\r\n      </g>\r\n     </g>\r\n     <g id=\"text_23\">\r\n      <!-- g -->\r\n      <g transform=\"translate(351.052061 109.582972)scale(0.1 -0.1)\">\r\n       <defs>\r\n        <path d=\"M 45.40625 27.984375 \r\nQ 45.40625 37.75 41.375 43.109375 \r\nQ 37.359375 48.484375 30.078125 48.484375 \r\nQ 22.859375 48.484375 18.828125 43.109375 \r\nQ 14.796875 37.75 14.796875 27.984375 \r\nQ 14.796875 18.265625 18.828125 12.890625 \r\nQ 22.859375 7.515625 30.078125 7.515625 \r\nQ 37.359375 7.515625 41.375 12.890625 \r\nQ 45.40625 18.265625 45.40625 27.984375 \r\nz\r\nM 54.390625 6.78125 \r\nQ 54.390625 -7.171875 48.1875 -13.984375 \r\nQ 42 -20.796875 29.203125 -20.796875 \r\nQ 24.46875 -20.796875 20.265625 -20.09375 \r\nQ 16.0625 -19.390625 12.109375 -17.921875 \r\nL 12.109375 -9.1875 \r\nQ 16.0625 -11.328125 19.921875 -12.34375 \r\nQ 23.78125 -13.375 27.78125 -13.375 \r\nQ 36.625 -13.375 41.015625 -8.765625 \r\nQ 45.40625 -4.15625 45.40625 5.171875 \r\nL 45.40625 9.625 \r\nQ 42.625 4.78125 38.28125 2.390625 \r\nQ 33.9375 0 27.875 0 \r\nQ 17.828125 0 11.671875 7.65625 \r\nQ 5.515625 15.328125 5.515625 27.984375 \r\nQ 5.515625 40.671875 11.671875 48.328125 \r\nQ 17.828125 56 27.875 56 \r\nQ 33.9375 56 38.28125 53.609375 \r\nQ 42.625 51.21875 45.40625 46.390625 \r\nL 45.40625 54.6875 \r\nL 54.390625 54.6875 \r\nz\r\n\" id=\"DejaVuSans-103\"/>\r\n       </defs>\r\n       <use xlink:href=\"#DejaVuSans-103\"/>\r\n      </g>\r\n     </g>\r\n    </g>\r\n    <g id=\"xtick_21\">\r\n     <g id=\"line2d_24\">\r\n      <g>\r\n       <use style=\"stroke:#000000;stroke-width:0.8;\" x=\"363.752606\" xlink:href=\"#mbd019355cd\" y=\"94.984535\"/>\r\n      </g>\r\n     </g>\r\n     <g id=\"text_24\">\r\n      <!-- m -->\r\n      <g transform=\"translate(358.882293 109.582972)scale(0.1 -0.1)\">\r\n       <defs>\r\n        <path d=\"M 52 44.1875 \r\nQ 55.375 50.25 60.0625 53.125 \r\nQ 64.75 56 71.09375 56 \r\nQ 79.640625 56 84.28125 50.015625 \r\nQ 88.921875 44.046875 88.921875 33.015625 \r\nL 88.921875 0 \r\nL 79.890625 0 \r\nL 79.890625 32.71875 \r\nQ 79.890625 40.578125 77.09375 44.375 \r\nQ 74.3125 48.1875 68.609375 48.1875 \r\nQ 61.625 48.1875 57.5625 43.546875 \r\nQ 53.515625 38.921875 53.515625 30.90625 \r\nL 53.515625 0 \r\nL 44.484375 0 \r\nL 44.484375 32.71875 \r\nQ 44.484375 40.625 41.703125 44.40625 \r\nQ 38.921875 48.1875 33.109375 48.1875 \r\nQ 26.21875 48.1875 22.15625 43.53125 \r\nQ 18.109375 38.875 18.109375 30.90625 \r\nL 18.109375 0 \r\nL 9.078125 0 \r\nL 9.078125 54.6875 \r\nL 18.109375 54.6875 \r\nL 18.109375 46.1875 \r\nQ 21.1875 51.21875 25.484375 53.609375 \r\nQ 29.78125 56 35.6875 56 \r\nQ 41.65625 56 45.828125 52.96875 \r\nQ 50 49.953125 52 44.1875 \r\nz\r\n\" id=\"DejaVuSans-109\"/>\r\n       </defs>\r\n       <use xlink:href=\"#DejaVuSans-109\"/>\r\n      </g>\r\n     </g>\r\n    </g>\r\n    <g id=\"xtick_22\">\r\n     <g id=\"line2d_25\">\r\n      <g>\r\n       <use style=\"stroke:#000000;stroke-width:0.8;\" x=\"373.278931\" xlink:href=\"#mbd019355cd\" y=\"94.984535\"/>\r\n      </g>\r\n     </g>\r\n     <g id=\"text_25\">\r\n      <!-- w -->\r\n      <g transform=\"translate(369.189869 109.582972)scale(0.1 -0.1)\">\r\n       <defs>\r\n        <path d=\"M 4.203125 54.6875 \r\nL 13.1875 54.6875 \r\nL 24.421875 12.015625 \r\nL 35.59375 54.6875 \r\nL 46.1875 54.6875 \r\nL 57.421875 12.015625 \r\nL 68.609375 54.6875 \r\nL 77.59375 54.6875 \r\nL 63.28125 0 \r\nL 52.6875 0 \r\nL 40.921875 44.828125 \r\nL 29.109375 0 \r\nL 18.5 0 \r\nz\r\n\" id=\"DejaVuSans-119\"/>\r\n       </defs>\r\n       <use xlink:href=\"#DejaVuSans-119\"/>\r\n      </g>\r\n     </g>\r\n    </g>\r\n    <g id=\"xtick_23\">\r\n     <g id=\"line2d_26\">\r\n      <g>\r\n       <use style=\"stroke:#000000;stroke-width:0.8;\" x=\"382.805257\" xlink:href=\"#mbd019355cd\" y=\"94.984535\"/>\r\n      </g>\r\n     </g>\r\n     <g id=\"text_26\">\r\n      <!-- f -->\r\n      <g transform=\"translate(381.045101 109.582972)scale(0.1 -0.1)\">\r\n       <defs>\r\n        <path d=\"M 37.109375 75.984375 \r\nL 37.109375 68.5 \r\nL 28.515625 68.5 \r\nQ 23.6875 68.5 21.796875 66.546875 \r\nQ 19.921875 64.59375 19.921875 59.515625 \r\nL 19.921875 54.6875 \r\nL 34.71875 54.6875 \r\nL 34.71875 47.703125 \r\nL 19.921875 47.703125 \r\nL 19.921875 0 \r\nL 10.890625 0 \r\nL 10.890625 47.703125 \r\nL 2.296875 47.703125 \r\nL 2.296875 54.6875 \r\nL 10.890625 54.6875 \r\nL 10.890625 58.5 \r\nQ 10.890625 67.625 15.140625 71.796875 \r\nQ 19.390625 75.984375 28.609375 75.984375 \r\nz\r\n\" id=\"DejaVuSans-102\"/>\r\n       </defs>\r\n       <use xlink:href=\"#DejaVuSans-102\"/>\r\n      </g>\r\n     </g>\r\n    </g>\r\n    <g id=\"xtick_24\">\r\n     <g id=\"line2d_27\">\r\n      <g>\r\n       <use style=\"stroke:#000000;stroke-width:0.8;\" x=\"392.331583\" xlink:href=\"#mbd019355cd\" y=\"94.984535\"/>\r\n      </g>\r\n     </g>\r\n     <g id=\"text_27\">\r\n      <!-- y -->\r\n      <g transform=\"translate(389.372208 109.582972)scale(0.1 -0.1)\">\r\n       <defs>\r\n        <path d=\"M 32.171875 -5.078125 \r\nQ 28.375 -14.84375 24.75 -17.8125 \r\nQ 21.140625 -20.796875 15.09375 -20.796875 \r\nL 7.90625 -20.796875 \r\nL 7.90625 -13.28125 \r\nL 13.1875 -13.28125 \r\nQ 16.890625 -13.28125 18.9375 -11.515625 \r\nQ 21 -9.765625 23.484375 -3.21875 \r\nL 25.09375 0.875 \r\nL 2.984375 54.6875 \r\nL 12.5 54.6875 \r\nL 29.59375 11.921875 \r\nL 46.6875 54.6875 \r\nL 56.203125 54.6875 \r\nz\r\n\" id=\"DejaVuSans-121\"/>\r\n       </defs>\r\n       <use xlink:href=\"#DejaVuSans-121\"/>\r\n      </g>\r\n     </g>\r\n    </g>\r\n    <g id=\"xtick_25\">\r\n     <g id=\"line2d_28\">\r\n      <g>\r\n       <use style=\"stroke:#000000;stroke-width:0.8;\" x=\"401.857908\" xlink:href=\"#mbd019355cd\" y=\"94.984535\"/>\r\n      </g>\r\n     </g>\r\n     <g id=\"text_28\">\r\n      <!-- n -->\r\n      <g transform=\"translate(398.689158 109.582972)scale(0.1 -0.1)\">\r\n       <defs>\r\n        <path d=\"M 54.890625 33.015625 \r\nL 54.890625 0 \r\nL 45.90625 0 \r\nL 45.90625 32.71875 \r\nQ 45.90625 40.484375 42.875 44.328125 \r\nQ 39.84375 48.1875 33.796875 48.1875 \r\nQ 26.515625 48.1875 22.3125 43.546875 \r\nQ 18.109375 38.921875 18.109375 30.90625 \r\nL 18.109375 0 \r\nL 9.078125 0 \r\nL 9.078125 54.6875 \r\nL 18.109375 54.6875 \r\nL 18.109375 46.1875 \r\nQ 21.34375 51.125 25.703125 53.5625 \r\nQ 30.078125 56 35.796875 56 \r\nQ 45.21875 56 50.046875 50.171875 \r\nQ 54.890625 44.34375 54.890625 33.015625 \r\nz\r\n\" id=\"DejaVuSans-110\"/>\r\n       </defs>\r\n       <use xlink:href=\"#DejaVuSans-110\"/>\r\n      </g>\r\n     </g>\r\n    </g>\r\n    <g id=\"xtick_26\">\r\n     <g id=\"line2d_29\">\r\n      <g>\r\n       <use style=\"stroke:#000000;stroke-width:0.8;\" x=\"411.384234\" xlink:href=\"#mbd019355cd\" y=\"94.984535\"/>\r\n      </g>\r\n     </g>\r\n     <g id=\"text_29\">\r\n      <!-- u -->\r\n      <g transform=\"translate(408.215484 109.582972)scale(0.1 -0.1)\">\r\n       <defs>\r\n        <path d=\"M 8.5 21.578125 \r\nL 8.5 54.6875 \r\nL 17.484375 54.6875 \r\nL 17.484375 21.921875 \r\nQ 17.484375 14.15625 20.5 10.265625 \r\nQ 23.53125 6.390625 29.59375 6.390625 \r\nQ 36.859375 6.390625 41.078125 11.03125 \r\nQ 45.3125 15.671875 45.3125 23.6875 \r\nL 45.3125 54.6875 \r\nL 54.296875 54.6875 \r\nL 54.296875 0 \r\nL 45.3125 0 \r\nL 45.3125 8.40625 \r\nQ 42.046875 3.421875 37.71875 1 \r\nQ 33.40625 -1.421875 27.6875 -1.421875 \r\nQ 18.265625 -1.421875 13.375 4.4375 \r\nQ 8.5 10.296875 8.5 21.578125 \r\nz\r\nM 31.109375 56 \r\nz\r\n\" id=\"DejaVuSans-117\"/>\r\n       </defs>\r\n       <use xlink:href=\"#DejaVuSans-117\"/>\r\n      </g>\r\n     </g>\r\n    </g>\r\n    <g id=\"xtick_27\">\r\n     <g id=\"line2d_30\">\r\n      <g>\r\n       <use style=\"stroke:#000000;stroke-width:0.8;\" x=\"420.91056\" xlink:href=\"#mbd019355cd\" y=\"94.984535\"/>\r\n      </g>\r\n     </g>\r\n     <g id=\"text_30\">\r\n      <!-- a -->\r\n      <g transform=\"translate(417.846497 109.582972)scale(0.1 -0.1)\">\r\n       <defs>\r\n        <path d=\"M 34.28125 27.484375 \r\nQ 23.390625 27.484375 19.1875 25 \r\nQ 14.984375 22.515625 14.984375 16.5 \r\nQ 14.984375 11.71875 18.140625 8.90625 \r\nQ 21.296875 6.109375 26.703125 6.109375 \r\nQ 34.1875 6.109375 38.703125 11.40625 \r\nQ 43.21875 16.703125 43.21875 25.484375 \r\nL 43.21875 27.484375 \r\nz\r\nM 52.203125 31.203125 \r\nL 52.203125 0 \r\nL 43.21875 0 \r\nL 43.21875 8.296875 \r\nQ 40.140625 3.328125 35.546875 0.953125 \r\nQ 30.953125 -1.421875 24.3125 -1.421875 \r\nQ 15.921875 -1.421875 10.953125 3.296875 \r\nQ 6 8.015625 6 15.921875 \r\nQ 6 25.140625 12.171875 29.828125 \r\nQ 18.359375 34.515625 30.609375 34.515625 \r\nL 43.21875 34.515625 \r\nL 43.21875 35.40625 \r\nQ 43.21875 41.609375 39.140625 45 \r\nQ 35.0625 48.390625 27.6875 48.390625 \r\nQ 23 48.390625 18.546875 47.265625 \r\nQ 14.109375 46.140625 10.015625 43.890625 \r\nL 10.015625 52.203125 \r\nQ 14.9375 54.109375 19.578125 55.046875 \r\nQ 24.21875 56 28.609375 56 \r\nQ 40.484375 56 46.34375 49.84375 \r\nQ 52.203125 43.703125 52.203125 31.203125 \r\nz\r\n\" id=\"DejaVuSans-97\"/>\r\n       </defs>\r\n       <use xlink:href=\"#DejaVuSans-97\"/>\r\n      </g>\r\n     </g>\r\n    </g>\r\n   </g>\r\n   <g id=\"matplotlib.axis_4\">\r\n    <g id=\"ytick_4\">\r\n     <g id=\"line2d_31\">\r\n      <g>\r\n       <use style=\"stroke:#000000;stroke-width:0.8;\" x=\"246.674062\" xlink:href=\"#md0b3e8d31f\" y=\"94.984535\"/>\r\n      </g>\r\n     </g>\r\n     <g id=\"text_31\">\r\n      <!-- 0.0 -->\r\n      <g transform=\"translate(223.770938 98.783754)scale(0.1 -0.1)\">\r\n       <defs>\r\n        <path d=\"M 10.6875 12.40625 \r\nL 21 12.40625 \r\nL 21 0 \r\nL 10.6875 0 \r\nz\r\n\" id=\"DejaVuSans-46\"/>\r\n       </defs>\r\n       <use xlink:href=\"#DejaVuSans-48\"/>\r\n       <use x=\"63.623047\" xlink:href=\"#DejaVuSans-46\"/>\r\n       <use x=\"95.410156\" xlink:href=\"#DejaVuSans-48\"/>\r\n      </g>\r\n     </g>\r\n    </g>\r\n    <g id=\"ytick_5\">\r\n     <g id=\"line2d_32\">\r\n      <g>\r\n       <use style=\"stroke:#000000;stroke-width:0.8;\" x=\"246.674062\" xlink:href=\"#md0b3e8d31f\" y=\"69.520319\"/>\r\n      </g>\r\n     </g>\r\n     <g id=\"text_32\">\r\n      <!-- 2.5 -->\r\n      <g transform=\"translate(223.770938 73.319537)scale(0.1 -0.1)\">\r\n       <defs>\r\n        <path d=\"M 19.1875 8.296875 \r\nL 53.609375 8.296875 \r\nL 53.609375 0 \r\nL 7.328125 0 \r\nL 7.328125 8.296875 \r\nQ 12.9375 14.109375 22.625 23.890625 \r\nQ 32.328125 33.6875 34.8125 36.53125 \r\nQ 39.546875 41.84375 41.421875 45.53125 \r\nQ 43.3125 49.21875 43.3125 52.78125 \r\nQ 43.3125 58.59375 39.234375 62.25 \r\nQ 35.15625 65.921875 28.609375 65.921875 \r\nQ 23.96875 65.921875 18.8125 64.3125 \r\nQ 13.671875 62.703125 7.8125 59.421875 \r\nL 7.8125 69.390625 \r\nQ 13.765625 71.78125 18.9375 73 \r\nQ 24.125 74.21875 28.421875 74.21875 \r\nQ 39.75 74.21875 46.484375 68.546875 \r\nQ 53.21875 62.890625 53.21875 53.421875 \r\nQ 53.21875 48.921875 51.53125 44.890625 \r\nQ 49.859375 40.875 45.40625 35.40625 \r\nQ 44.1875 33.984375 37.640625 27.21875 \r\nQ 31.109375 20.453125 19.1875 8.296875 \r\nz\r\n\" id=\"DejaVuSans-50\"/>\r\n       </defs>\r\n       <use xlink:href=\"#DejaVuSans-50\"/>\r\n       <use x=\"63.623047\" xlink:href=\"#DejaVuSans-46\"/>\r\n       <use x=\"95.410156\" xlink:href=\"#DejaVuSans-53\"/>\r\n      </g>\r\n     </g>\r\n    </g>\r\n    <g id=\"ytick_6\">\r\n     <g id=\"line2d_33\">\r\n      <g>\r\n       <use style=\"stroke:#000000;stroke-width:0.8;\" x=\"246.674062\" xlink:href=\"#md0b3e8d31f\" y=\"44.056102\"/>\r\n      </g>\r\n     </g>\r\n     <g id=\"text_33\">\r\n      <!-- 5.0 -->\r\n      <g transform=\"translate(223.770938 47.855321)scale(0.1 -0.1)\">\r\n       <use xlink:href=\"#DejaVuSans-53\"/>\r\n       <use x=\"63.623047\" xlink:href=\"#DejaVuSans-46\"/>\r\n       <use x=\"95.410156\" xlink:href=\"#DejaVuSans-48\"/>\r\n      </g>\r\n     </g>\r\n    </g>\r\n   </g>\r\n   <g id=\"patch_35\">\r\n    <path d=\"M 246.674062 94.984535 \r\nL 246.674062 30.81471 \r\n\" style=\"fill:none;stroke:#000000;stroke-linecap:square;stroke-linejoin:miter;stroke-width:0.8;\"/>\r\n   </g>\r\n   <g id=\"patch_36\">\r\n    <path d=\"M 433.19952 94.984535 \r\nL 433.19952 30.81471 \r\n\" style=\"fill:none;stroke:#000000;stroke-linecap:square;stroke-linejoin:miter;stroke-width:0.8;\"/>\r\n   </g>\r\n   <g id=\"patch_37\">\r\n    <path d=\"M 246.674062 94.984535 \r\nL 433.19952 94.984535 \r\n\" style=\"fill:none;stroke:#000000;stroke-linecap:square;stroke-linejoin:miter;stroke-width:0.8;\"/>\r\n   </g>\r\n   <g id=\"patch_38\">\r\n    <path d=\"M 246.674062 30.81471 \r\nL 433.19952 30.81471 \r\n\" style=\"fill:none;stroke:#000000;stroke-linecap:square;stroke-linejoin:miter;stroke-width:0.8;\"/>\r\n   </g>\r\n  </g>\r\n  <g id=\"axes_3\">\r\n   <g id=\"patch_39\">\r\n    <path d=\"M 26.925 183.752965 \r\nL 213.450457 183.752965 \r\nL 213.450457 119.58314 \r\nL 26.925 119.58314 \r\nz\r\n\" style=\"fill:#ffffff;\"/>\r\n   </g>\r\n   <g id=\"patch_40\">\r\n    <path clip-path=\"url(#p08da41b815)\" d=\"M 35.40343 183.752965 \r\nL 43.989182 183.752965 \r\nL 43.989182 122.638846 \r\nL 35.40343 122.638846 \r\nz\r\n\" style=\"fill:#1f77b4;\"/>\r\n   </g>\r\n   <g id=\"patch_41\">\r\n    <path clip-path=\"url(#p08da41b815)\" d=\"M 46.13562 183.752965 \r\nL 54.721371 183.752965 \r\nL 54.721371 131.369434 \r\nL 46.13562 131.369434 \r\nz\r\n\" style=\"fill:#1f77b4;\"/>\r\n   </g>\r\n   <g id=\"patch_42\">\r\n    <path clip-path=\"url(#p08da41b815)\" d=\"M 56.867809 183.752965 \r\nL 65.453561 183.752965 \r\nL 65.453561 131.369434 \r\nL 56.867809 131.369434 \r\nz\r\n\" style=\"fill:#1f77b4;\"/>\r\n   </g>\r\n   <g id=\"patch_43\">\r\n    <path clip-path=\"url(#p08da41b815)\" d=\"M 67.599999 183.752965 \r\nL 76.185751 183.752965 \r\nL 76.185751 133.115552 \r\nL 67.599999 133.115552 \r\nz\r\n\" style=\"fill:#1f77b4;\"/>\r\n   </g>\r\n   <g id=\"patch_44\">\r\n    <path clip-path=\"url(#p08da41b815)\" d=\"M 78.332189 183.752965 \r\nL 86.917941 183.752965 \r\nL 86.917941 134.86167 \r\nL 78.332189 134.86167 \r\nz\r\n\" style=\"fill:#1f77b4;\"/>\r\n   </g>\r\n   <g id=\"patch_45\">\r\n    <path clip-path=\"url(#p08da41b815)\" d=\"M 89.064379 183.752965 \r\nL 97.65013 183.752965 \r\nL 97.65013 136.607787 \r\nL 89.064379 136.607787 \r\nz\r\n\" style=\"fill:#1f77b4;\"/>\r\n   </g>\r\n   <g id=\"patch_46\">\r\n    <path clip-path=\"url(#p08da41b815)\" d=\"M 99.796568 183.752965 \r\nL 108.38232 183.752965 \r\nL 108.38232 138.353905 \r\nL 99.796568 138.353905 \r\nz\r\n\" style=\"fill:#1f77b4;\"/>\r\n   </g>\r\n   <g id=\"patch_47\">\r\n    <path clip-path=\"url(#p08da41b815)\" d=\"M 110.528758 183.752965 \r\nL 119.11451 183.752965 \r\nL 119.11451 140.100023 \r\nL 110.528758 140.100023 \r\nz\r\n\" style=\"fill:#1f77b4;\"/>\r\n   </g>\r\n   <g id=\"patch_48\">\r\n    <path clip-path=\"url(#p08da41b815)\" d=\"M 121.260948 183.752965 \r\nL 129.8467 183.752965 \r\nL 129.8467 140.100023 \r\nL 121.260948 140.100023 \r\nz\r\n\" style=\"fill:#1f77b4;\"/>\r\n   </g>\r\n   <g id=\"patch_49\">\r\n    <path clip-path=\"url(#p08da41b815)\" d=\"M 131.993137 183.752965 \r\nL 140.578889 183.752965 \r\nL 140.578889 145.338376 \r\nL 131.993137 145.338376 \r\nz\r\n\" style=\"fill:#1f77b4;\"/>\r\n   </g>\r\n   <g id=\"patch_50\">\r\n    <path clip-path=\"url(#p08da41b815)\" d=\"M 142.725327 183.752965 \r\nL 151.311079 183.752965 \r\nL 151.311079 145.338376 \r\nL 142.725327 145.338376 \r\nz\r\n\" style=\"fill:#1f77b4;\"/>\r\n   </g>\r\n   <g id=\"patch_51\">\r\n    <path clip-path=\"url(#p08da41b815)\" d=\"M 153.457517 183.752965 \r\nL 162.043269 183.752965 \r\nL 162.043269 147.084494 \r\nL 153.457517 147.084494 \r\nz\r\n\" style=\"fill:#1f77b4;\"/>\r\n   </g>\r\n   <g id=\"patch_52\">\r\n    <path clip-path=\"url(#p08da41b815)\" d=\"M 164.189707 183.752965 \r\nL 172.775458 183.752965 \r\nL 172.775458 147.084494 \r\nL 164.189707 147.084494 \r\nz\r\n\" style=\"fill:#1f77b4;\"/>\r\n   </g>\r\n   <g id=\"patch_53\">\r\n    <path clip-path=\"url(#p08da41b815)\" d=\"M 174.921896 183.752965 \r\nL 183.507648 183.752965 \r\nL 183.507648 147.084494 \r\nL 174.921896 147.084494 \r\nz\r\n\" style=\"fill:#1f77b4;\"/>\r\n   </g>\r\n   <g id=\"patch_54\">\r\n    <path clip-path=\"url(#p08da41b815)\" d=\"M 185.654086 183.752965 \r\nL 194.239838 183.752965 \r\nL 194.239838 147.084494 \r\nL 185.654086 147.084494 \r\nz\r\n\" style=\"fill:#1f77b4;\"/>\r\n   </g>\r\n   <g id=\"patch_55\">\r\n    <path clip-path=\"url(#p08da41b815)\" d=\"M 196.386276 183.752965 \r\nL 204.972028 183.752965 \r\nL 204.972028 147.084494 \r\nL 196.386276 147.084494 \r\nz\r\n\" style=\"fill:#1f77b4;\"/>\r\n   </g>\r\n   <g id=\"matplotlib.axis_5\">\r\n    <g id=\"xtick_28\">\r\n     <g id=\"line2d_34\">\r\n      <g>\r\n       <use style=\"stroke:#000000;stroke-width:0.8;\" x=\"39.696306\" xlink:href=\"#mbd019355cd\" y=\"183.752965\"/>\r\n      </g>\r\n     </g>\r\n     <g id=\"text_34\">\r\n      <!-- e -->\r\n      <g transform=\"translate(36.619743 198.351402)scale(0.1 -0.1)\">\r\n       <use xlink:href=\"#DejaVuSans-101\"/>\r\n      </g>\r\n     </g>\r\n    </g>\r\n    <g id=\"xtick_29\">\r\n     <g id=\"line2d_35\">\r\n      <g>\r\n       <use style=\"stroke:#000000;stroke-width:0.8;\" x=\"50.428496\" xlink:href=\"#mbd019355cd\" y=\"183.752965\"/>\r\n      </g>\r\n     </g>\r\n     <g id=\"text_35\">\r\n      <!-- r -->\r\n      <g transform=\"translate(48.373027 198.351402)scale(0.1 -0.1)\">\r\n       <use xlink:href=\"#DejaVuSans-114\"/>\r\n      </g>\r\n     </g>\r\n    </g>\r\n    <g id=\"xtick_30\">\r\n     <g id=\"line2d_36\">\r\n      <g>\r\n       <use style=\"stroke:#000000;stroke-width:0.8;\" x=\"61.160685\" xlink:href=\"#mbd019355cd\" y=\"183.752965\"/>\r\n      </g>\r\n     </g>\r\n     <g id=\"text_36\">\r\n      <!-- c -->\r\n      <g transform=\"translate(58.411466 198.351402)scale(0.1 -0.1)\">\r\n       <use xlink:href=\"#DejaVuSans-99\"/>\r\n      </g>\r\n     </g>\r\n    </g>\r\n    <g id=\"xtick_31\">\r\n     <g id=\"line2d_37\">\r\n      <g>\r\n       <use style=\"stroke:#000000;stroke-width:0.8;\" x=\"71.892875\" xlink:href=\"#mbd019355cd\" y=\"183.752965\"/>\r\n      </g>\r\n     </g>\r\n     <g id=\"text_37\">\r\n      <!-- i -->\r\n      <g transform=\"translate(70.503812 198.351402)scale(0.1 -0.1)\">\r\n       <use xlink:href=\"#DejaVuSans-105\"/>\r\n      </g>\r\n     </g>\r\n    </g>\r\n    <g id=\"xtick_32\">\r\n     <g id=\"line2d_38\">\r\n      <g>\r\n       <use style=\"stroke:#000000;stroke-width:0.8;\" x=\"82.625065\" xlink:href=\"#mbd019355cd\" y=\"183.752965\"/>\r\n      </g>\r\n     </g>\r\n     <g id=\"text_38\">\r\n      <!-- s -->\r\n      <g transform=\"translate(80.020377 198.351402)scale(0.1 -0.1)\">\r\n       <use xlink:href=\"#DejaVuSans-115\"/>\r\n      </g>\r\n     </g>\r\n    </g>\r\n    <g id=\"xtick_33\">\r\n     <g id=\"line2d_39\">\r\n      <g>\r\n       <use style=\"stroke:#000000;stroke-width:0.8;\" x=\"93.357254\" xlink:href=\"#mbd019355cd\" y=\"183.752965\"/>\r\n      </g>\r\n     </g>\r\n     <g id=\"text_39\">\r\n      <!-- d -->\r\n      <g transform=\"translate(90.183036 198.351402)scale(0.1 -0.1)\">\r\n       <use xlink:href=\"#DejaVuSans-100\"/>\r\n      </g>\r\n     </g>\r\n    </g>\r\n    <g id=\"xtick_34\">\r\n     <g id=\"line2d_40\">\r\n      <g>\r\n       <use style=\"stroke:#000000;stroke-width:0.8;\" x=\"104.089444\" xlink:href=\"#mbd019355cd\" y=\"183.752965\"/>\r\n      </g>\r\n     </g>\r\n     <g id=\"text_40\">\r\n      <!-- p -->\r\n      <g transform=\"translate(100.915225 198.351402)scale(0.1 -0.1)\">\r\n       <use xlink:href=\"#DejaVuSans-112\"/>\r\n      </g>\r\n     </g>\r\n    </g>\r\n    <g id=\"xtick_35\">\r\n     <g id=\"line2d_41\">\r\n      <g>\r\n       <use style=\"stroke:#000000;stroke-width:0.8;\" x=\"114.821634\" xlink:href=\"#mbd019355cd\" y=\"183.752965\"/>\r\n      </g>\r\n     </g>\r\n     <g id=\"text_41\">\r\n      <!-- h -->\r\n      <g transform=\"translate(111.652884 198.351402)scale(0.1 -0.1)\">\r\n       <use xlink:href=\"#DejaVuSans-104\"/>\r\n      </g>\r\n     </g>\r\n    </g>\r\n    <g id=\"xtick_36\">\r\n     <g id=\"line2d_42\">\r\n      <g>\r\n       <use style=\"stroke:#000000;stroke-width:0.8;\" x=\"125.553824\" xlink:href=\"#mbd019355cd\" y=\"183.752965\"/>\r\n      </g>\r\n     </g>\r\n     <g id=\"text_42\">\r\n      <!-- t -->\r\n      <g transform=\"translate(123.593667 198.351402)scale(0.1 -0.1)\">\r\n       <use xlink:href=\"#DejaVuSans-116\"/>\r\n      </g>\r\n     </g>\r\n    </g>\r\n    <g id=\"xtick_37\">\r\n     <g id=\"line2d_43\">\r\n      <g>\r\n       <use style=\"stroke:#000000;stroke-width:0.8;\" x=\"136.286013\" xlink:href=\"#mbd019355cd\" y=\"183.752965\"/>\r\n      </g>\r\n     </g>\r\n     <g id=\"text_43\">\r\n      <!-- o -->\r\n      <g transform=\"translate(133.226638 198.351402)scale(0.1 -0.1)\">\r\n       <use xlink:href=\"#DejaVuSans-111\"/>\r\n      </g>\r\n     </g>\r\n    </g>\r\n    <g id=\"xtick_38\">\r\n     <g id=\"line2d_44\">\r\n      <g>\r\n       <use style=\"stroke:#000000;stroke-width:0.8;\" x=\"147.018203\" xlink:href=\"#mbd019355cd\" y=\"183.752965\"/>\r\n      </g>\r\n     </g>\r\n     <g id=\"text_44\">\r\n      <!-- g -->\r\n      <g transform=\"translate(143.843984 198.351402)scale(0.1 -0.1)\">\r\n       <use xlink:href=\"#DejaVuSans-103\"/>\r\n      </g>\r\n     </g>\r\n    </g>\r\n    <g id=\"xtick_39\">\r\n     <g id=\"line2d_45\">\r\n      <g>\r\n       <use style=\"stroke:#000000;stroke-width:0.8;\" x=\"157.750393\" xlink:href=\"#mbd019355cd\" y=\"183.752965\"/>\r\n      </g>\r\n     </g>\r\n     <g id=\"text_45\">\r\n      <!-- m -->\r\n      <g transform=\"translate(152.88008 198.351402)scale(0.1 -0.1)\">\r\n       <use xlink:href=\"#DejaVuSans-109\"/>\r\n      </g>\r\n     </g>\r\n    </g>\r\n    <g id=\"xtick_40\">\r\n     <g id=\"line2d_46\">\r\n      <g>\r\n       <use style=\"stroke:#000000;stroke-width:0.8;\" x=\"168.482583\" xlink:href=\"#mbd019355cd\" y=\"183.752965\"/>\r\n      </g>\r\n     </g>\r\n     <g id=\"text_46\">\r\n      <!-- w -->\r\n      <g transform=\"translate(164.39352 198.351402)scale(0.1 -0.1)\">\r\n       <use xlink:href=\"#DejaVuSans-119\"/>\r\n      </g>\r\n     </g>\r\n    </g>\r\n    <g id=\"xtick_41\">\r\n     <g id=\"line2d_47\">\r\n      <g>\r\n       <use style=\"stroke:#000000;stroke-width:0.8;\" x=\"179.214772\" xlink:href=\"#mbd019355cd\" y=\"183.752965\"/>\r\n      </g>\r\n     </g>\r\n     <g id=\"text_47\">\r\n      <!-- f -->\r\n      <g transform=\"translate(177.454616 198.351402)scale(0.1 -0.1)\">\r\n       <use xlink:href=\"#DejaVuSans-102\"/>\r\n      </g>\r\n     </g>\r\n    </g>\r\n    <g id=\"xtick_42\">\r\n     <g id=\"line2d_48\">\r\n      <g>\r\n       <use style=\"stroke:#000000;stroke-width:0.8;\" x=\"189.946962\" xlink:href=\"#mbd019355cd\" y=\"183.752965\"/>\r\n      </g>\r\n     </g>\r\n     <g id=\"text_48\">\r\n      <!-- y -->\r\n      <g transform=\"translate(186.987587 198.351402)scale(0.1 -0.1)\">\r\n       <use xlink:href=\"#DejaVuSans-121\"/>\r\n      </g>\r\n     </g>\r\n    </g>\r\n    <g id=\"xtick_43\">\r\n     <g id=\"line2d_49\">\r\n      <g>\r\n       <use style=\"stroke:#000000;stroke-width:0.8;\" x=\"200.679152\" xlink:href=\"#mbd019355cd\" y=\"183.752965\"/>\r\n      </g>\r\n     </g>\r\n     <g id=\"text_49\">\r\n      <!-- n -->\r\n      <g transform=\"translate(197.510402 198.351402)scale(0.1 -0.1)\">\r\n       <use xlink:href=\"#DejaVuSans-110\"/>\r\n      </g>\r\n     </g>\r\n    </g>\r\n   </g>\r\n   <g id=\"matplotlib.axis_6\">\r\n    <g id=\"ytick_7\">\r\n     <g id=\"line2d_50\">\r\n      <g>\r\n       <use style=\"stroke:#000000;stroke-width:0.8;\" x=\"26.925\" xlink:href=\"#md0b3e8d31f\" y=\"183.752965\"/>\r\n      </g>\r\n     </g>\r\n     <g id=\"text_50\">\r\n      <!-- 0 -->\r\n      <g transform=\"translate(13.5625 187.552184)scale(0.1 -0.1)\">\r\n       <use xlink:href=\"#DejaVuSans-48\"/>\r\n      </g>\r\n     </g>\r\n    </g>\r\n    <g id=\"ytick_8\">\r\n     <g id=\"line2d_51\">\r\n      <g>\r\n       <use style=\"stroke:#000000;stroke-width:0.8;\" x=\"26.925\" xlink:href=\"#md0b3e8d31f\" y=\"148.830611\"/>\r\n      </g>\r\n     </g>\r\n     <g id=\"text_51\">\r\n      <!-- 20 -->\r\n      <g transform=\"translate(7.2 152.62983)scale(0.1 -0.1)\">\r\n       <use xlink:href=\"#DejaVuSans-50\"/>\r\n       <use x=\"63.623047\" xlink:href=\"#DejaVuSans-48\"/>\r\n      </g>\r\n     </g>\r\n    </g>\r\n   </g>\r\n   <g id=\"patch_56\">\r\n    <path d=\"M 26.925 183.752965 \r\nL 26.925 119.58314 \r\n\" style=\"fill:none;stroke:#000000;stroke-linecap:square;stroke-linejoin:miter;stroke-width:0.8;\"/>\r\n   </g>\r\n   <g id=\"patch_57\">\r\n    <path d=\"M 213.450457 183.752965 \r\nL 213.450457 119.58314 \r\n\" style=\"fill:none;stroke:#000000;stroke-linecap:square;stroke-linejoin:miter;stroke-width:0.8;\"/>\r\n   </g>\r\n   <g id=\"patch_58\">\r\n    <path d=\"M 26.925 183.752965 \r\nL 213.450457 183.752965 \r\n\" style=\"fill:none;stroke:#000000;stroke-linecap:square;stroke-linejoin:miter;stroke-width:0.8;\"/>\r\n   </g>\r\n   <g id=\"patch_59\">\r\n    <path d=\"M 26.925 119.58314 \r\nL 213.450457 119.58314 \r\n\" style=\"fill:none;stroke:#000000;stroke-linecap:square;stroke-linejoin:miter;stroke-width:0.8;\"/>\r\n   </g>\r\n  </g>\r\n  <g id=\"axes_4\">\r\n   <g id=\"patch_60\">\r\n    <path d=\"M 246.674062 183.752965 \r\nL 433.19952 183.752965 \r\nL 433.19952 119.58314 \r\nL 246.674062 119.58314 \r\nz\r\n\" style=\"fill:#ffffff;\"/>\r\n   </g>\r\n   <g id=\"patch_61\">\r\n    <path clip-path=\"url(#p3480cee31f)\" d=\"M 255.152492 183.752965 \r\nL 262.773553 183.752965 \r\nL 262.773553 122.638846 \r\nL 255.152492 122.638846 \r\nz\r\n\" style=\"fill:#1f77b4;\"/>\r\n   </g>\r\n   <g id=\"patch_62\">\r\n    <path clip-path=\"url(#p3480cee31f)\" d=\"M 264.678818 183.752965 \r\nL 272.299879 183.752965 \r\nL 272.299879 130.278111 \r\nL 264.678818 130.278111 \r\nz\r\n\" style=\"fill:#1f77b4;\"/>\r\n   </g>\r\n   <g id=\"patch_63\">\r\n    <path clip-path=\"url(#p3480cee31f)\" d=\"M 274.205144 183.752965 \r\nL 281.826204 183.752965 \r\nL 281.826204 145.556641 \r\nL 274.205144 145.556641 \r\nz\r\n\" style=\"fill:#1f77b4;\"/>\r\n   </g>\r\n   <g id=\"patch_64\">\r\n    <path clip-path=\"url(#p3480cee31f)\" d=\"M 283.73147 183.752965 \r\nL 291.35253 183.752965 \r\nL 291.35253 145.556641 \r\nL 283.73147 145.556641 \r\nz\r\n\" style=\"fill:#1f77b4;\"/>\r\n   </g>\r\n   <g id=\"patch_65\">\r\n    <path clip-path=\"url(#p3480cee31f)\" d=\"M 293.257795 183.752965 \r\nL 300.878856 183.752965 \r\nL 300.878856 145.556641 \r\nL 293.257795 145.556641 \r\nz\r\n\" style=\"fill:#1f77b4;\"/>\r\n   </g>\r\n   <g id=\"patch_66\">\r\n    <path clip-path=\"url(#p3480cee31f)\" d=\"M 302.784121 183.752965 \r\nL 310.405182 183.752965 \r\nL 310.405182 145.556641 \r\nL 302.784121 145.556641 \r\nz\r\n\" style=\"fill:#1f77b4;\"/>\r\n   </g>\r\n   <g id=\"patch_67\">\r\n    <path clip-path=\"url(#p3480cee31f)\" d=\"M 312.310447 183.752965 \r\nL 319.931507 183.752965 \r\nL 319.931507 153.195905 \r\nL 312.310447 153.195905 \r\nz\r\n\" style=\"fill:#1f77b4;\"/>\r\n   </g>\r\n   <g id=\"patch_68\">\r\n    <path clip-path=\"url(#p3480cee31f)\" d=\"M 321.836772 183.752965 \r\nL 329.457833 183.752965 \r\nL 329.457833 153.195905 \r\nL 321.836772 153.195905 \r\nz\r\n\" style=\"fill:#1f77b4;\"/>\r\n   </g>\r\n   <g id=\"patch_69\">\r\n    <path clip-path=\"url(#p3480cee31f)\" d=\"M 331.363098 183.752965 \r\nL 338.984159 183.752965 \r\nL 338.984159 153.195905 \r\nL 331.363098 153.195905 \r\nz\r\n\" style=\"fill:#1f77b4;\"/>\r\n   </g>\r\n   <g id=\"patch_70\">\r\n    <path clip-path=\"url(#p3480cee31f)\" d=\"M 340.889424 183.752965 \r\nL 348.510484 183.752965 \r\nL 348.510484 153.195905 \r\nL 340.889424 153.195905 \r\nz\r\n\" style=\"fill:#1f77b4;\"/>\r\n   </g>\r\n   <g id=\"patch_71\">\r\n    <path clip-path=\"url(#p3480cee31f)\" d=\"M 350.41575 183.752965 \r\nL 358.03681 183.752965 \r\nL 358.03681 153.195905 \r\nL 350.41575 153.195905 \r\nz\r\n\" style=\"fill:#1f77b4;\"/>\r\n   </g>\r\n   <g id=\"patch_72\">\r\n    <path clip-path=\"url(#p3480cee31f)\" d=\"M 359.942075 183.752965 \r\nL 367.563136 183.752965 \r\nL 367.563136 153.195905 \r\nL 359.942075 153.195905 \r\nz\r\n\" style=\"fill:#1f77b4;\"/>\r\n   </g>\r\n   <g id=\"patch_73\">\r\n    <path clip-path=\"url(#p3480cee31f)\" d=\"M 369.468401 183.752965 \r\nL 377.089462 183.752965 \r\nL 377.089462 153.195905 \r\nL 369.468401 153.195905 \r\nz\r\n\" style=\"fill:#1f77b4;\"/>\r\n   </g>\r\n   <g id=\"patch_74\">\r\n    <path clip-path=\"url(#p3480cee31f)\" d=\"M 378.994727 183.752965 \r\nL 386.615787 183.752965 \r\nL 386.615787 153.195905 \r\nL 378.994727 153.195905 \r\nz\r\n\" style=\"fill:#1f77b4;\"/>\r\n   </g>\r\n   <g id=\"patch_75\">\r\n    <path clip-path=\"url(#p3480cee31f)\" d=\"M 388.521052 183.752965 \r\nL 396.142113 183.752965 \r\nL 396.142113 153.195905 \r\nL 388.521052 153.195905 \r\nz\r\n\" style=\"fill:#1f77b4;\"/>\r\n   </g>\r\n   <g id=\"patch_76\">\r\n    <path clip-path=\"url(#p3480cee31f)\" d=\"M 398.047378 183.752965 \r\nL 405.668439 183.752965 \r\nL 405.668439 153.195905 \r\nL 398.047378 153.195905 \r\nz\r\n\" style=\"fill:#1f77b4;\"/>\r\n   </g>\r\n   <g id=\"patch_77\">\r\n    <path clip-path=\"url(#p3480cee31f)\" d=\"M 407.573704 183.752965 \r\nL 415.194764 183.752965 \r\nL 415.194764 153.195905 \r\nL 407.573704 153.195905 \r\nz\r\n\" style=\"fill:#1f77b4;\"/>\r\n   </g>\r\n   <g id=\"patch_78\">\r\n    <path clip-path=\"url(#p3480cee31f)\" d=\"M 417.10003 183.752965 \r\nL 424.72109 183.752965 \r\nL 424.72109 153.195905 \r\nL 417.10003 153.195905 \r\nz\r\n\" style=\"fill:#1f77b4;\"/>\r\n   </g>\r\n   <g id=\"matplotlib.axis_7\">\r\n    <g id=\"xtick_44\">\r\n     <g id=\"line2d_52\">\r\n      <g>\r\n       <use style=\"stroke:#000000;stroke-width:0.8;\" x=\"258.963023\" xlink:href=\"#mbd019355cd\" y=\"183.752965\"/>\r\n      </g>\r\n     </g>\r\n     <g id=\"text_52\">\r\n      <!-- ri -->\r\n      <g transform=\"translate(255.518491 198.351402)scale(0.1 -0.1)\">\r\n       <use xlink:href=\"#DejaVuSans-114\"/>\r\n       <use x=\"41.113281\" xlink:href=\"#DejaVuSans-105\"/>\r\n      </g>\r\n     </g>\r\n    </g>\r\n    <g id=\"xtick_45\">\r\n     <g id=\"line2d_53\">\r\n      <g>\r\n       <use style=\"stroke:#000000;stroke-width:0.8;\" x=\"268.489348\" xlink:href=\"#mbd019355cd\" y=\"183.752965\"/>\r\n      </g>\r\n     </g>\r\n     <g id=\"text_53\">\r\n      <!-- ih -->\r\n      <g transform=\"translate(263.931536 198.351402)scale(0.1 -0.1)\">\r\n       <use xlink:href=\"#DejaVuSans-105\"/>\r\n       <use x=\"27.783203\" xlink:href=\"#DejaVuSans-104\"/>\r\n      </g>\r\n     </g>\r\n    </g>\r\n    <g id=\"xtick_46\">\r\n     <g id=\"line2d_54\">\r\n      <g>\r\n       <use style=\"stroke:#000000;stroke-width:0.8;\" x=\"278.015674\" xlink:href=\"#mbd019355cd\" y=\"183.752965\"/>\r\n      </g>\r\n     </g>\r\n     <g id=\"text_54\">\r\n      <!-- tr -->\r\n      <g transform=\"translate(274.000049 198.351402)scale(0.1 -0.1)\">\r\n       <use xlink:href=\"#DejaVuSans-116\"/>\r\n       <use x=\"39.208984\" xlink:href=\"#DejaVuSans-114\"/>\r\n      </g>\r\n     </g>\r\n    </g>\r\n    <g id=\"xtick_47\">\r\n     <g id=\"line2d_55\">\r\n      <g>\r\n       <use style=\"stroke:#000000;stroke-width:0.8;\" x=\"287.542\" xlink:href=\"#mbd019355cd\" y=\"183.752965\"/>\r\n      </g>\r\n     </g>\r\n     <g id=\"text_55\">\r\n      <!-- kp -->\r\n      <g transform=\"translate(281.472469 198.351402)scale(0.1 -0.1)\">\r\n       <defs>\r\n        <path d=\"M 9.078125 75.984375 \r\nL 18.109375 75.984375 \r\nL 18.109375 31.109375 \r\nL 44.921875 54.6875 \r\nL 56.390625 54.6875 \r\nL 27.390625 29.109375 \r\nL 57.625 0 \r\nL 45.90625 0 \r\nL 18.109375 26.703125 \r\nL 18.109375 0 \r\nL 9.078125 0 \r\nz\r\n\" id=\"DejaVuSans-107\"/>\r\n       </defs>\r\n       <use xlink:href=\"#DejaVuSans-107\"/>\r\n       <use x=\"57.910156\" xlink:href=\"#DejaVuSans-112\"/>\r\n      </g>\r\n     </g>\r\n    </g>\r\n    <g id=\"xtick_48\">\r\n     <g id=\"line2d_56\">\r\n      <g>\r\n       <use style=\"stroke:#000000;stroke-width:0.8;\" x=\"297.068326\" xlink:href=\"#mbd019355cd\" y=\"183.752965\"/>\r\n      </g>\r\n     </g>\r\n     <g id=\"text_56\">\r\n      <!-- jc -->\r\n      <g transform=\"translate(292.930044 198.351402)scale(0.1 -0.1)\">\r\n       <defs>\r\n        <path d=\"M 9.421875 54.6875 \r\nL 18.40625 54.6875 \r\nL 18.40625 -0.984375 \r\nQ 18.40625 -11.421875 14.421875 -16.109375 \r\nQ 10.453125 -20.796875 1.609375 -20.796875 \r\nL -1.8125 -20.796875 \r\nL -1.8125 -13.1875 \r\nL 0.59375 -13.1875 \r\nQ 5.71875 -13.1875 7.5625 -10.8125 \r\nQ 9.421875 -8.453125 9.421875 -0.984375 \r\nz\r\nM 9.421875 75.984375 \r\nL 18.40625 75.984375 \r\nL 18.40625 64.59375 \r\nL 9.421875 64.59375 \r\nz\r\n\" id=\"DejaVuSans-106\"/>\r\n       </defs>\r\n       <use xlink:href=\"#DejaVuSans-106\"/>\r\n       <use x=\"27.783203\" xlink:href=\"#DejaVuSans-99\"/>\r\n      </g>\r\n     </g>\r\n    </g>\r\n    <g id=\"xtick_49\">\r\n     <g id=\"line2d_57\">\r\n      <g>\r\n       <use style=\"stroke:#000000;stroke-width:0.8;\" x=\"306.594651\" xlink:href=\"#mbd019355cd\" y=\"183.752965\"/>\r\n      </g>\r\n     </g>\r\n     <g id=\"text_57\">\r\n      <!-- vf -->\r\n      <g transform=\"translate(301.87512 198.351402)scale(0.1 -0.1)\">\r\n       <defs>\r\n        <path d=\"M 2.984375 54.6875 \r\nL 12.5 54.6875 \r\nL 29.59375 8.796875 \r\nL 46.6875 54.6875 \r\nL 56.203125 54.6875 \r\nL 35.6875 0 \r\nL 23.484375 0 \r\nz\r\n\" id=\"DejaVuSans-118\"/>\r\n       </defs>\r\n       <use xlink:href=\"#DejaVuSans-118\"/>\r\n       <use x=\"59.179688\" xlink:href=\"#DejaVuSans-102\"/>\r\n      </g>\r\n     </g>\r\n    </g>\r\n    <g id=\"xtick_50\">\r\n     <g id=\"line2d_58\">\r\n      <g>\r\n       <use style=\"stroke:#000000;stroke-width:0.8;\" x=\"316.120977\" xlink:href=\"#mbd019355cd\" y=\"183.752965\"/>\r\n      </g>\r\n     </g>\r\n     <g id=\"text_58\">\r\n      <!-- xe -->\r\n      <g transform=\"translate(310.241289 198.351402)scale(0.1 -0.1)\">\r\n       <defs>\r\n        <path d=\"M 54.890625 54.6875 \r\nL 35.109375 28.078125 \r\nL 55.90625 0 \r\nL 45.3125 0 \r\nL 29.390625 21.484375 \r\nL 13.484375 0 \r\nL 2.875 0 \r\nL 24.125 28.609375 \r\nL 4.6875 54.6875 \r\nL 15.28125 54.6875 \r\nL 29.78125 35.203125 \r\nL 44.28125 54.6875 \r\nz\r\n\" id=\"DejaVuSans-120\"/>\r\n       </defs>\r\n       <use xlink:href=\"#DejaVuSans-120\"/>\r\n       <use x=\"56.054688\" xlink:href=\"#DejaVuSans-101\"/>\r\n      </g>\r\n     </g>\r\n    </g>\r\n    <g id=\"xtick_51\">\r\n     <g id=\"line2d_59\">\r\n      <g>\r\n       <use style=\"stroke:#000000;stroke-width:0.8;\" x=\"325.647303\" xlink:href=\"#mbd019355cd\" y=\"183.752965\"/>\r\n      </g>\r\n     </g>\r\n     <g id=\"text_59\">\r\n      <!-- ce -->\r\n      <g transform=\"translate(319.821521 198.351402)scale(0.1 -0.1)\">\r\n       <use xlink:href=\"#DejaVuSans-99\"/>\r\n       <use x=\"54.980469\" xlink:href=\"#DejaVuSans-101\"/>\r\n      </g>\r\n     </g>\r\n    </g>\r\n    <g id=\"xtick_52\">\r\n     <g id=\"line2d_60\">\r\n      <g>\r\n       <use style=\"stroke:#000000;stroke-width:0.8;\" x=\"335.173628\" xlink:href=\"#mbd019355cd\" y=\"183.752965\"/>\r\n      </g>\r\n     </g>\r\n     <g id=\"text_60\">\r\n      <!-- eh -->\r\n      <g transform=\"translate(328.928316 198.351402)scale(0.1 -0.1)\">\r\n       <use xlink:href=\"#DejaVuSans-101\"/>\r\n       <use x=\"61.523438\" xlink:href=\"#DejaVuSans-104\"/>\r\n      </g>\r\n     </g>\r\n    </g>\r\n    <g id=\"xtick_53\">\r\n     <g id=\"line2d_61\">\r\n      <g>\r\n       <use style=\"stroke:#000000;stroke-width:0.8;\" x=\"344.699954\" xlink:href=\"#mbd019355cd\" y=\"183.752965\"/>\r\n      </g>\r\n     </g>\r\n     <g id=\"text_61\">\r\n      <!-- hi -->\r\n      <g transform=\"translate(340.142142 198.351402)scale(0.1 -0.1)\">\r\n       <use xlink:href=\"#DejaVuSans-104\"/>\r\n       <use x=\"63.378906\" xlink:href=\"#DejaVuSans-105\"/>\r\n      </g>\r\n     </g>\r\n    </g>\r\n    <g id=\"xtick_54\">\r\n     <g id=\"line2d_62\">\r\n      <g>\r\n       <use style=\"stroke:#000000;stroke-width:0.8;\" x=\"354.22628\" xlink:href=\"#mbd019355cd\" y=\"183.752965\"/>\r\n      </g>\r\n     </g>\r\n     <g id=\"text_62\">\r\n      <!-- ee -->\r\n      <g transform=\"translate(348.073155 198.351402)scale(0.1 -0.1)\">\r\n       <use xlink:href=\"#DejaVuSans-101\"/>\r\n       <use x=\"61.523438\" xlink:href=\"#DejaVuSans-101\"/>\r\n      </g>\r\n     </g>\r\n    </g>\r\n    <g id=\"xtick_55\">\r\n     <g id=\"line2d_63\">\r\n      <g>\r\n       <use style=\"stroke:#000000;stroke-width:0.8;\" x=\"363.752606\" xlink:href=\"#mbd019355cd\" y=\"183.752965\"/>\r\n      </g>\r\n     </g>\r\n     <g id=\"text_63\">\r\n      <!-- bd -->\r\n      <g transform=\"translate(357.404168 198.351402)scale(0.1 -0.1)\">\r\n       <defs>\r\n        <path d=\"M 48.6875 27.296875 \r\nQ 48.6875 37.203125 44.609375 42.84375 \r\nQ 40.53125 48.484375 33.40625 48.484375 \r\nQ 26.265625 48.484375 22.1875 42.84375 \r\nQ 18.109375 37.203125 18.109375 27.296875 \r\nQ 18.109375 17.390625 22.1875 11.75 \r\nQ 26.265625 6.109375 33.40625 6.109375 \r\nQ 40.53125 6.109375 44.609375 11.75 \r\nQ 48.6875 17.390625 48.6875 27.296875 \r\nz\r\nM 18.109375 46.390625 \r\nQ 20.953125 51.265625 25.265625 53.625 \r\nQ 29.59375 56 35.59375 56 \r\nQ 45.5625 56 51.78125 48.09375 \r\nQ 58.015625 40.1875 58.015625 27.296875 \r\nQ 58.015625 14.40625 51.78125 6.484375 \r\nQ 45.5625 -1.421875 35.59375 -1.421875 \r\nQ 29.59375 -1.421875 25.265625 0.953125 \r\nQ 20.953125 3.328125 18.109375 8.203125 \r\nL 18.109375 0 \r\nL 9.078125 0 \r\nL 9.078125 75.984375 \r\nL 18.109375 75.984375 \r\nz\r\n\" id=\"DejaVuSans-98\"/>\r\n       </defs>\r\n       <use xlink:href=\"#DejaVuSans-98\"/>\r\n       <use x=\"63.476562\" xlink:href=\"#DejaVuSans-100\"/>\r\n      </g>\r\n     </g>\r\n    </g>\r\n    <g id=\"xtick_56\">\r\n     <g id=\"line2d_64\">\r\n      <g>\r\n       <use style=\"stroke:#000000;stroke-width:0.8;\" x=\"373.278931\" xlink:href=\"#mbd019355cd\" y=\"183.752965\"/>\r\n      </g>\r\n     </g>\r\n     <g id=\"text_64\">\r\n      <!-- cs -->\r\n      <g transform=\"translate(367.925025 198.351402)scale(0.1 -0.1)\">\r\n       <use xlink:href=\"#DejaVuSans-99\"/>\r\n       <use x=\"54.980469\" xlink:href=\"#DejaVuSans-115\"/>\r\n      </g>\r\n     </g>\r\n    </g>\r\n    <g id=\"xtick_57\">\r\n     <g id=\"line2d_65\">\r\n      <g>\r\n       <use style=\"stroke:#000000;stroke-width:0.8;\" x=\"382.805257\" xlink:href=\"#mbd019355cd\" y=\"183.752965\"/>\r\n      </g>\r\n     </g>\r\n     <g id=\"text_65\">\r\n      <!-- se -->\r\n      <g transform=\"translate(377.124007 198.351402)scale(0.1 -0.1)\">\r\n       <use xlink:href=\"#DejaVuSans-115\"/>\r\n       <use x=\"52.099609\" xlink:href=\"#DejaVuSans-101\"/>\r\n      </g>\r\n     </g>\r\n    </g>\r\n    <g id=\"xtick_58\">\r\n     <g id=\"line2d_66\">\r\n      <g>\r\n       <use style=\"stroke:#000000;stroke-width:0.8;\" x=\"392.331583\" xlink:href=\"#mbd019355cd\" y=\"183.752965\"/>\r\n      </g>\r\n     </g>\r\n     <g id=\"text_66\">\r\n      <!-- gp -->\r\n      <g transform=\"translate(385.983145 198.351402)scale(0.1 -0.1)\">\r\n       <use xlink:href=\"#DejaVuSans-103\"/>\r\n       <use x=\"63.476562\" xlink:href=\"#DejaVuSans-112\"/>\r\n      </g>\r\n     </g>\r\n    </g>\r\n    <g id=\"xtick_59\">\r\n     <g id=\"line2d_67\">\r\n      <g>\r\n       <use style=\"stroke:#000000;stroke-width:0.8;\" x=\"401.857908\" xlink:href=\"#mbd019355cd\" y=\"183.752965\"/>\r\n      </g>\r\n     </g>\r\n     <g id=\"text_67\">\r\n      <!-- nh -->\r\n      <g transform=\"translate(395.520408 198.351402)scale(0.1 -0.1)\">\r\n       <use xlink:href=\"#DejaVuSans-110\"/>\r\n       <use x=\"63.378906\" xlink:href=\"#DejaVuSans-104\"/>\r\n      </g>\r\n     </g>\r\n    </g>\r\n    <g id=\"xtick_60\">\r\n     <g id=\"line2d_68\">\r\n      <g>\r\n       <use style=\"stroke:#000000;stroke-width:0.8;\" x=\"411.384234\" xlink:href=\"#mbd019355cd\" y=\"183.752965\"/>\r\n      </g>\r\n     </g>\r\n     <g id=\"text_68\">\r\n      <!-- ba -->\r\n      <g transform=\"translate(405.145953 198.351402)scale(0.1 -0.1)\">\r\n       <use xlink:href=\"#DejaVuSans-98\"/>\r\n       <use x=\"63.476562\" xlink:href=\"#DejaVuSans-97\"/>\r\n      </g>\r\n     </g>\r\n    </g>\r\n    <g id=\"xtick_61\">\r\n     <g id=\"line2d_69\">\r\n      <g>\r\n       <use style=\"stroke:#000000;stroke-width:0.8;\" x=\"420.91056\" xlink:href=\"#mbd019355cd\" y=\"183.752965\"/>\r\n      </g>\r\n     </g>\r\n     <g id=\"text_69\">\r\n      <!-- qu -->\r\n      <g transform=\"translate(414.567591 198.351402)scale(0.1 -0.1)\">\r\n       <defs>\r\n        <path d=\"M 14.796875 27.296875 \r\nQ 14.796875 17.390625 18.875 11.75 \r\nQ 22.953125 6.109375 30.078125 6.109375 \r\nQ 37.203125 6.109375 41.296875 11.75 \r\nQ 45.40625 17.390625 45.40625 27.296875 \r\nQ 45.40625 37.203125 41.296875 42.84375 \r\nQ 37.203125 48.484375 30.078125 48.484375 \r\nQ 22.953125 48.484375 18.875 42.84375 \r\nQ 14.796875 37.203125 14.796875 27.296875 \r\nz\r\nM 45.40625 8.203125 \r\nQ 42.578125 3.328125 38.25 0.953125 \r\nQ 33.9375 -1.421875 27.875 -1.421875 \r\nQ 17.96875 -1.421875 11.734375 6.484375 \r\nQ 5.515625 14.40625 5.515625 27.296875 \r\nQ 5.515625 40.1875 11.734375 48.09375 \r\nQ 17.96875 56 27.875 56 \r\nQ 33.9375 56 38.25 53.625 \r\nQ 42.578125 51.265625 45.40625 46.390625 \r\nL 45.40625 54.6875 \r\nL 54.390625 54.6875 \r\nL 54.390625 -20.796875 \r\nL 45.40625 -20.796875 \r\nz\r\n\" id=\"DejaVuSans-113\"/>\r\n       </defs>\r\n       <use xlink:href=\"#DejaVuSans-113\"/>\r\n       <use x=\"63.476562\" xlink:href=\"#DejaVuSans-117\"/>\r\n      </g>\r\n     </g>\r\n    </g>\r\n   </g>\r\n   <g id=\"matplotlib.axis_8\">\r\n    <g id=\"ytick_9\">\r\n     <g id=\"line2d_70\">\r\n      <g>\r\n       <use style=\"stroke:#000000;stroke-width:0.8;\" x=\"246.674062\" xlink:href=\"#md0b3e8d31f\" y=\"183.752965\"/>\r\n      </g>\r\n     </g>\r\n     <g id=\"text_70\">\r\n      <!-- 0 -->\r\n      <g transform=\"translate(233.311562 187.552184)scale(0.1 -0.1)\">\r\n       <use xlink:href=\"#DejaVuSans-48\"/>\r\n      </g>\r\n     </g>\r\n    </g>\r\n    <g id=\"ytick_10\">\r\n     <g id=\"line2d_71\">\r\n      <g>\r\n       <use style=\"stroke:#000000;stroke-width:0.8;\" x=\"246.674062\" xlink:href=\"#md0b3e8d31f\" y=\"145.556641\"/>\r\n      </g>\r\n     </g>\r\n     <g id=\"text_71\">\r\n      <!-- 5 -->\r\n      <g transform=\"translate(233.311562 149.355859)scale(0.1 -0.1)\">\r\n       <use xlink:href=\"#DejaVuSans-53\"/>\r\n      </g>\r\n     </g>\r\n    </g>\r\n   </g>\r\n   <g id=\"patch_79\">\r\n    <path d=\"M 246.674062 183.752965 \r\nL 246.674062 119.58314 \r\n\" style=\"fill:none;stroke:#000000;stroke-linecap:square;stroke-linejoin:miter;stroke-width:0.8;\"/>\r\n   </g>\r\n   <g id=\"patch_80\">\r\n    <path d=\"M 433.19952 183.752965 \r\nL 433.19952 119.58314 \r\n\" style=\"fill:none;stroke:#000000;stroke-linecap:square;stroke-linejoin:miter;stroke-width:0.8;\"/>\r\n   </g>\r\n   <g id=\"patch_81\">\r\n    <path d=\"M 246.674062 183.752965 \r\nL 433.19952 183.752965 \r\n\" style=\"fill:none;stroke:#000000;stroke-linecap:square;stroke-linejoin:miter;stroke-width:0.8;\"/>\r\n   </g>\r\n   <g id=\"patch_82\">\r\n    <path d=\"M 246.674062 119.58314 \r\nL 433.19952 119.58314 \r\n\" style=\"fill:none;stroke:#000000;stroke-linecap:square;stroke-linejoin:miter;stroke-width:0.8;\"/>\r\n   </g>\r\n  </g>\r\n  <g id=\"axes_5\">\r\n   <g id=\"patch_83\">\r\n    <path d=\"M 26.925 272.521395 \r\nL 213.450457 272.521395 \r\nL 213.450457 208.35157 \r\nL 26.925 208.35157 \r\nz\r\n\" style=\"fill:#ffffff;\"/>\r\n   </g>\r\n   <g id=\"patch_84\">\r\n    <path clip-path=\"url(#pbd25b114ac)\" d=\"M 35.40343 272.521395 \r\nL 63.664863 272.521395 \r\nL 63.664863 211.407276 \r\nL 35.40343 211.407276 \r\nz\r\n\" style=\"fill:#1f77b4;\"/>\r\n   </g>\r\n   <g id=\"patch_85\">\r\n    <path clip-path=\"url(#pbd25b114ac)\" d=\"M 70.730221 272.521395 \r\nL 98.991654 272.521395 \r\nL 98.991654 235.852924 \r\nL 70.730221 235.852924 \r\nz\r\n\" style=\"fill:#1f77b4;\"/>\r\n   </g>\r\n   <g id=\"patch_86\">\r\n    <path clip-path=\"url(#pbd25b114ac)\" d=\"M 106.057012 272.521395 \r\nL 134.318445 272.521395 \r\nL 134.318445 235.852924 \r\nL 106.057012 235.852924 \r\nz\r\n\" style=\"fill:#1f77b4;\"/>\r\n   </g>\r\n   <g id=\"patch_87\">\r\n    <path clip-path=\"url(#pbd25b114ac)\" d=\"M 141.383803 272.521395 \r\nL 169.645236 272.521395 \r\nL 169.645236 235.852924 \r\nL 141.383803 235.852924 \r\nz\r\n\" style=\"fill:#1f77b4;\"/>\r\n   </g>\r\n   <g id=\"patch_88\">\r\n    <path clip-path=\"url(#pbd25b114ac)\" d=\"M 176.710595 272.521395 \r\nL 204.972028 272.521395 \r\nL 204.972028 235.852924 \r\nL 176.710595 235.852924 \r\nz\r\n\" style=\"fill:#1f77b4;\"/>\r\n   </g>\r\n   <g id=\"matplotlib.axis_9\">\r\n    <g id=\"xtick_62\">\r\n     <g id=\"line2d_72\">\r\n      <g>\r\n       <use style=\"stroke:#000000;stroke-width:0.8;\" x=\"49.534146\" xlink:href=\"#mbd019355cd\" y=\"272.521395\"/>\r\n      </g>\r\n     </g>\r\n     <g id=\"text_72\">\r\n      <!-- rih -->\r\n      <g transform=\"translate(42.920865 287.119832)scale(0.1 -0.1)\">\r\n       <use xlink:href=\"#DejaVuSans-114\"/>\r\n       <use x=\"41.113281\" xlink:href=\"#DejaVuSans-105\"/>\r\n       <use x=\"68.896484\" xlink:href=\"#DejaVuSans-104\"/>\r\n      </g>\r\n     </g>\r\n    </g>\r\n    <g id=\"xtick_63\">\r\n     <g id=\"line2d_73\">\r\n      <g>\r\n       <use style=\"stroke:#000000;stroke-width:0.8;\" x=\"84.860938\" xlink:href=\"#mbd019355cd\" y=\"272.521395\"/>\r\n      </g>\r\n     </g>\r\n     <g id=\"text_73\">\r\n      <!-- jcn -->\r\n      <g transform=\"translate(77.553906 287.119832)scale(0.1 -0.1)\">\r\n       <use xlink:href=\"#DejaVuSans-106\"/>\r\n       <use x=\"27.783203\" xlink:href=\"#DejaVuSans-99\"/>\r\n       <use x=\"82.763672\" xlink:href=\"#DejaVuSans-110\"/>\r\n      </g>\r\n     </g>\r\n    </g>\r\n    <g id=\"xtick_64\">\r\n     <g id=\"line2d_74\">\r\n      <g>\r\n       <use style=\"stroke:#000000;stroke-width:0.8;\" x=\"120.187729\" xlink:href=\"#mbd019355cd\" y=\"272.521395\"/>\r\n      </g>\r\n     </g>\r\n     <g id=\"text_74\">\r\n      <!-- gba -->\r\n      <g transform=\"translate(110.775229 287.119832)scale(0.1 -0.1)\">\r\n       <use xlink:href=\"#DejaVuSans-103\"/>\r\n       <use x=\"63.476562\" xlink:href=\"#DejaVuSans-98\"/>\r\n       <use x=\"126.953125\" xlink:href=\"#DejaVuSans-97\"/>\r\n      </g>\r\n     </g>\r\n    </g>\r\n    <g id=\"xtick_65\">\r\n     <g id=\"line2d_75\">\r\n      <g>\r\n       <use style=\"stroke:#000000;stroke-width:0.8;\" x=\"155.51452\" xlink:href=\"#mbd019355cd\" y=\"272.521395\"/>\r\n      </g>\r\n     </g>\r\n     <g id=\"text_75\">\r\n      <!-- ban -->\r\n      <g transform=\"translate(146.107489 287.119832)scale(0.1 -0.1)\">\r\n       <use xlink:href=\"#DejaVuSans-98\"/>\r\n       <use x=\"63.476562\" xlink:href=\"#DejaVuSans-97\"/>\r\n       <use x=\"124.755859\" xlink:href=\"#DejaVuSans-110\"/>\r\n      </g>\r\n     </g>\r\n    </g>\r\n    <g id=\"xtick_66\">\r\n     <g id=\"line2d_76\">\r\n      <g>\r\n       <use style=\"stroke:#000000;stroke-width:0.8;\" x=\"190.841311\" xlink:href=\"#mbd019355cd\" y=\"272.521395\"/>\r\n      </g>\r\n     </g>\r\n     <g id=\"text_76\">\r\n      <!-- anu -->\r\n      <g transform=\"translate(181.439749 287.119832)scale(0.1 -0.1)\">\r\n       <use xlink:href=\"#DejaVuSans-97\"/>\r\n       <use x=\"61.279297\" xlink:href=\"#DejaVuSans-110\"/>\r\n       <use x=\"124.658203\" xlink:href=\"#DejaVuSans-117\"/>\r\n      </g>\r\n     </g>\r\n    </g>\r\n   </g>\r\n   <g id=\"matplotlib.axis_10\">\r\n    <g id=\"ytick_11\">\r\n     <g id=\"line2d_77\">\r\n      <g>\r\n       <use style=\"stroke:#000000;stroke-width:0.8;\" x=\"26.925\" xlink:href=\"#md0b3e8d31f\" y=\"272.521395\"/>\r\n      </g>\r\n     </g>\r\n     <g id=\"text_77\">\r\n      <!-- 0 -->\r\n      <g transform=\"translate(13.5625 276.320614)scale(0.1 -0.1)\">\r\n       <use xlink:href=\"#DejaVuSans-48\"/>\r\n      </g>\r\n     </g>\r\n    </g>\r\n    <g id=\"ytick_12\">\r\n     <g id=\"line2d_78\">\r\n      <g>\r\n       <use style=\"stroke:#000000;stroke-width:0.8;\" x=\"26.925\" xlink:href=\"#md0b3e8d31f\" y=\"248.075747\"/>\r\n      </g>\r\n     </g>\r\n     <g id=\"text_78\">\r\n      <!-- 2 -->\r\n      <g transform=\"translate(13.5625 251.874966)scale(0.1 -0.1)\">\r\n       <use xlink:href=\"#DejaVuSans-50\"/>\r\n      </g>\r\n     </g>\r\n    </g>\r\n    <g id=\"ytick_13\">\r\n     <g id=\"line2d_79\">\r\n      <g>\r\n       <use style=\"stroke:#000000;stroke-width:0.8;\" x=\"26.925\" xlink:href=\"#md0b3e8d31f\" y=\"223.6301\"/>\r\n      </g>\r\n     </g>\r\n     <g id=\"text_79\">\r\n      <!-- 4 -->\r\n      <g transform=\"translate(13.5625 227.429319)scale(0.1 -0.1)\">\r\n       <defs>\r\n        <path d=\"M 37.796875 64.3125 \r\nL 12.890625 25.390625 \r\nL 37.796875 25.390625 \r\nz\r\nM 35.203125 72.90625 \r\nL 47.609375 72.90625 \r\nL 47.609375 25.390625 \r\nL 58.015625 25.390625 \r\nL 58.015625 17.1875 \r\nL 47.609375 17.1875 \r\nL 47.609375 0 \r\nL 37.796875 0 \r\nL 37.796875 17.1875 \r\nL 4.890625 17.1875 \r\nL 4.890625 26.703125 \r\nz\r\n\" id=\"DejaVuSans-52\"/>\r\n       </defs>\r\n       <use xlink:href=\"#DejaVuSans-52\"/>\r\n      </g>\r\n     </g>\r\n    </g>\r\n   </g>\r\n   <g id=\"patch_89\">\r\n    <path d=\"M 26.925 272.521395 \r\nL 26.925 208.35157 \r\n\" style=\"fill:none;stroke:#000000;stroke-linecap:square;stroke-linejoin:miter;stroke-width:0.8;\"/>\r\n   </g>\r\n   <g id=\"patch_90\">\r\n    <path d=\"M 213.450457 272.521395 \r\nL 213.450457 208.35157 \r\n\" style=\"fill:none;stroke:#000000;stroke-linecap:square;stroke-linejoin:miter;stroke-width:0.8;\"/>\r\n   </g>\r\n   <g id=\"patch_91\">\r\n    <path d=\"M 26.925 272.521395 \r\nL 213.450457 272.521395 \r\n\" style=\"fill:none;stroke:#000000;stroke-linecap:square;stroke-linejoin:miter;stroke-width:0.8;\"/>\r\n   </g>\r\n   <g id=\"patch_92\">\r\n    <path d=\"M 26.925 208.35157 \r\nL 213.450457 208.35157 \r\n\" style=\"fill:none;stroke:#000000;stroke-linecap:square;stroke-linejoin:miter;stroke-width:0.8;\"/>\r\n   </g>\r\n  </g>\r\n  <g id=\"axes_6\">\r\n   <g id=\"patch_93\">\r\n    <path d=\"M 246.674062 272.521395 \r\nL 433.19952 272.521395 \r\nL 433.19952 208.35157 \r\nL 246.674062 208.35157 \r\nz\r\n\" style=\"fill:#ffffff;\"/>\r\n   </g>\r\n   <g id=\"patch_94\">\r\n    <path clip-path=\"url(#p5339908be9)\" d=\"M 255.152492 272.521395 \r\nL 303.600663 272.521395 \r\nL 303.600663 211.407276 \r\nL 255.152492 211.407276 \r\nz\r\n\" style=\"fill:#1f77b4;\"/>\r\n   </g>\r\n   <g id=\"patch_95\">\r\n    <path clip-path=\"url(#p5339908be9)\" d=\"M 315.712706 272.521395 \r\nL 364.160877 272.521395 \r\nL 364.160877 211.407276 \r\nL 315.712706 211.407276 \r\nz\r\n\" style=\"fill:#1f77b4;\"/>\r\n   </g>\r\n   <g id=\"patch_96\">\r\n    <path clip-path=\"url(#p5339908be9)\" d=\"M 376.272919 272.521395 \r\nL 424.72109 272.521395 \r\nL 424.72109 211.407276 \r\nL 376.272919 211.407276 \r\nz\r\n\" style=\"fill:#1f77b4;\"/>\r\n   </g>\r\n   <g id=\"matplotlib.axis_11\">\r\n    <g id=\"xtick_67\">\r\n     <g id=\"line2d_80\">\r\n      <g>\r\n       <use style=\"stroke:#000000;stroke-width:0.8;\" x=\"279.376578\" xlink:href=\"#mbd019355cd\" y=\"272.521395\"/>\r\n      </g>\r\n     </g>\r\n     <g id=\"text_80\">\r\n      <!-- gban -->\r\n      <g transform=\"translate(266.795328 287.119832)scale(0.1 -0.1)\">\r\n       <use xlink:href=\"#DejaVuSans-103\"/>\r\n       <use x=\"63.476562\" xlink:href=\"#DejaVuSans-98\"/>\r\n       <use x=\"126.953125\" xlink:href=\"#DejaVuSans-97\"/>\r\n       <use x=\"188.232422\" xlink:href=\"#DejaVuSans-110\"/>\r\n      </g>\r\n     </g>\r\n    </g>\r\n    <g id=\"xtick_68\">\r\n     <g id=\"line2d_81\">\r\n      <g>\r\n       <use style=\"stroke:#000000;stroke-width:0.8;\" x=\"339.936791\" xlink:href=\"#mbd019355cd\" y=\"272.521395\"/>\r\n      </g>\r\n     </g>\r\n     <g id=\"text_81\">\r\n      <!-- banu -->\r\n      <g transform=\"translate(327.36101 287.119832)scale(0.1 -0.1)\">\r\n       <use xlink:href=\"#DejaVuSans-98\"/>\r\n       <use x=\"63.476562\" xlink:href=\"#DejaVuSans-97\"/>\r\n       <use x=\"124.755859\" xlink:href=\"#DejaVuSans-110\"/>\r\n       <use x=\"188.134766\" xlink:href=\"#DejaVuSans-117\"/>\r\n      </g>\r\n     </g>\r\n    </g>\r\n    <g id=\"xtick_69\">\r\n     <g id=\"line2d_82\">\r\n      <g>\r\n       <use style=\"stroke:#000000;stroke-width:0.8;\" x=\"400.497005\" xlink:href=\"#mbd019355cd\" y=\"272.521395\"/>\r\n      </g>\r\n     </g>\r\n    </g>\r\n   </g>\r\n   <g id=\"matplotlib.axis_12\">\r\n    <g id=\"ytick_14\">\r\n     <g id=\"line2d_83\">\r\n      <g>\r\n       <use style=\"stroke:#000000;stroke-width:0.8;\" x=\"246.674062\" xlink:href=\"#md0b3e8d31f\" y=\"272.521395\"/>\r\n      </g>\r\n     </g>\r\n     <g id=\"text_82\">\r\n      <!-- 0 -->\r\n      <g transform=\"translate(233.311562 276.320614)scale(0.1 -0.1)\">\r\n       <use xlink:href=\"#DejaVuSans-48\"/>\r\n      </g>\r\n     </g>\r\n    </g>\r\n    <g id=\"ytick_15\">\r\n     <g id=\"line2d_84\">\r\n      <g>\r\n       <use style=\"stroke:#000000;stroke-width:0.8;\" x=\"246.674062\" xlink:href=\"#md0b3e8d31f\" y=\"231.778649\"/>\r\n      </g>\r\n     </g>\r\n     <g id=\"text_83\">\r\n      <!-- 2 -->\r\n      <g transform=\"translate(233.311562 235.577868)scale(0.1 -0.1)\">\r\n       <use xlink:href=\"#DejaVuSans-50\"/>\r\n      </g>\r\n     </g>\r\n    </g>\r\n   </g>\r\n   <g id=\"patch_97\">\r\n    <path d=\"M 246.674062 272.521395 \r\nL 246.674062 208.35157 \r\n\" style=\"fill:none;stroke:#000000;stroke-linecap:square;stroke-linejoin:miter;stroke-width:0.8;\"/>\r\n   </g>\r\n   <g id=\"patch_98\">\r\n    <path d=\"M 433.19952 272.521395 \r\nL 433.19952 208.35157 \r\n\" style=\"fill:none;stroke:#000000;stroke-linecap:square;stroke-linejoin:miter;stroke-width:0.8;\"/>\r\n   </g>\r\n   <g id=\"patch_99\">\r\n    <path d=\"M 246.674063 272.521395 \r\nL 433.19952 272.521395 \r\n\" style=\"fill:none;stroke:#000000;stroke-linecap:square;stroke-linejoin:miter;stroke-width:0.8;\"/>\r\n   </g>\r\n   <g id=\"patch_100\">\r\n    <path d=\"M 246.674063 208.35157 \r\nL 433.19952 208.35157 \r\n\" style=\"fill:none;stroke:#000000;stroke-linecap:square;stroke-linejoin:miter;stroke-width:0.8;\"/>\r\n   </g>\r\n  </g>\r\n  <g id=\"text_84\">\r\n   <!-- Crypt Analysis Statistics -->\r\n   <g transform=\"translate(147.870698 16.233103)scale(0.12 -0.12)\">\r\n    <defs>\r\n     <path d=\"M 64.40625 67.28125 \r\nL 64.40625 56.890625 \r\nQ 59.421875 61.53125 53.78125 63.8125 \r\nQ 48.140625 66.109375 41.796875 66.109375 \r\nQ 29.296875 66.109375 22.65625 58.46875 \r\nQ 16.015625 50.828125 16.015625 36.375 \r\nQ 16.015625 21.96875 22.65625 14.328125 \r\nQ 29.296875 6.6875 41.796875 6.6875 \r\nQ 48.140625 6.6875 53.78125 8.984375 \r\nQ 59.421875 11.28125 64.40625 15.921875 \r\nL 64.40625 5.609375 \r\nQ 59.234375 2.09375 53.4375 0.328125 \r\nQ 47.65625 -1.421875 41.21875 -1.421875 \r\nQ 24.65625 -1.421875 15.125 8.703125 \r\nQ 5.609375 18.84375 5.609375 36.375 \r\nQ 5.609375 53.953125 15.125 64.078125 \r\nQ 24.65625 74.21875 41.21875 74.21875 \r\nQ 47.75 74.21875 53.53125 72.484375 \r\nQ 59.328125 70.75 64.40625 67.28125 \r\nz\r\n\" id=\"DejaVuSans-67\"/>\r\n     <path id=\"DejaVuSans-32\"/>\r\n     <path d=\"M 9.421875 75.984375 \r\nL 18.40625 75.984375 \r\nL 18.40625 0 \r\nL 9.421875 0 \r\nz\r\n\" id=\"DejaVuSans-108\"/>\r\n    </defs>\r\n    <use xlink:href=\"#DejaVuSans-67\"/>\r\n    <use x=\"69.824219\" xlink:href=\"#DejaVuSans-114\"/>\r\n    <use x=\"110.9375\" xlink:href=\"#DejaVuSans-121\"/>\r\n    <use x=\"170.117188\" xlink:href=\"#DejaVuSans-112\"/>\r\n    <use x=\"233.59375\" xlink:href=\"#DejaVuSans-116\"/>\r\n    <use x=\"272.802734\" xlink:href=\"#DejaVuSans-32\"/>\r\n    <use x=\"304.589844\" xlink:href=\"#DejaVuSans-65\"/>\r\n    <use x=\"372.998047\" xlink:href=\"#DejaVuSans-110\"/>\r\n    <use x=\"436.376953\" xlink:href=\"#DejaVuSans-97\"/>\r\n    <use x=\"497.65625\" xlink:href=\"#DejaVuSans-108\"/>\r\n    <use x=\"525.439453\" xlink:href=\"#DejaVuSans-121\"/>\r\n    <use x=\"584.619141\" xlink:href=\"#DejaVuSans-115\"/>\r\n    <use x=\"636.71875\" xlink:href=\"#DejaVuSans-105\"/>\r\n    <use x=\"664.501953\" xlink:href=\"#DejaVuSans-115\"/>\r\n    <use x=\"716.601562\" xlink:href=\"#DejaVuSans-32\"/>\r\n    <use x=\"748.388672\" xlink:href=\"#DejaVuSans-83\"/>\r\n    <use x=\"811.865234\" xlink:href=\"#DejaVuSans-116\"/>\r\n    <use x=\"851.074219\" xlink:href=\"#DejaVuSans-97\"/>\r\n    <use x=\"912.353516\" xlink:href=\"#DejaVuSans-116\"/>\r\n    <use x=\"951.5625\" xlink:href=\"#DejaVuSans-105\"/>\r\n    <use x=\"979.345703\" xlink:href=\"#DejaVuSans-115\"/>\r\n    <use x=\"1031.445312\" xlink:href=\"#DejaVuSans-116\"/>\r\n    <use x=\"1070.654297\" xlink:href=\"#DejaVuSans-105\"/>\r\n    <use x=\"1098.4375\" xlink:href=\"#DejaVuSans-99\"/>\r\n    <use x=\"1153.417969\" xlink:href=\"#DejaVuSans-115\"/>\r\n   </g>\r\n  </g>\r\n </g>\r\n <defs>\r\n  <clipPath id=\"pc1994aff8e\">\r\n   <rect height=\"64.169825\" width=\"186.525457\" x=\"26.925\" y=\"30.81471\"/>\r\n  </clipPath>\r\n  <clipPath id=\"pa7249dd37e\">\r\n   <rect height=\"64.169825\" width=\"186.525458\" x=\"246.674062\" y=\"30.81471\"/>\r\n  </clipPath>\r\n  <clipPath id=\"p08da41b815\">\r\n   <rect height=\"64.169825\" width=\"186.525457\" x=\"26.925\" y=\"119.58314\"/>\r\n  </clipPath>\r\n  <clipPath id=\"p3480cee31f\">\r\n   <rect height=\"64.169825\" width=\"186.525458\" x=\"246.674062\" y=\"119.58314\"/>\r\n  </clipPath>\r\n  <clipPath id=\"pbd25b114ac\">\r\n   <rect height=\"64.169825\" width=\"186.525457\" x=\"26.925\" y=\"208.35157\"/>\r\n  </clipPath>\r\n  <clipPath id=\"p5339908be9\">\r\n   <rect height=\"64.169825\" width=\"186.525458\" x=\"246.674062\" y=\"208.35157\"/>\r\n  </clipPath>\r\n </defs>\r\n</svg>\r\n",
      "image/png": "[encoded data removed]"
     },
     "metadata": {
      "needs_background": "light"
     }
    }
   ],
   "source": [
    "## Task 1 Solution\n",
    "cryptoText = '''BQZRMQ KLBOXE WCCEFL DKRYYL BVEHIZ NYJQEE BDYFJO PTLOEM EHOMIC UYHHTS GKNJFG\n",
    "EHIMK NIHCTI HVRIHA RSMGQT RQCSXX CSWTNK PTMNSW AMXVCY WEOGSR FFUEEB DKQLQZ\n",
    "WRKUCO FTPLOT GOJZRI XEPZSE ISXTCT WZRMXI RIHALE SPRFAE FVYORI HNITRG PUHITM\n",
    "CFCDLA HIBKLH RCDIMT WQWTOR DJCNDY YWMJCN HDUWOF DPUPNG BANULZ NGYPQU\n",
    "LEUXOV FFDCEE YHQUXO YOXQUO DDCVIR RPJCAT RAQVFS AWMJCN HTSOXQ UODDAG\n",
    "BANURR REZJGD VJSXOO MSDNIT RGPUHN HRSSSF VFSINH MSGPCM ZJCSLY GEWGQT DREASV\n",
    "FPXEAR IMLPZW EHQGMG WSEIXE GQKPRM XIBFWL IPCHYM OTNXYV FFDCEE YHASBA TEXCJZ\n",
    "VTSGBA NUDYAP IUGTLD WLKVRI HWACZG PTRYCE VNQCUP AOSPEU KPCSNG RIHLRI KUMGFC\n",
    "YTDQES DAHCKP BDUJPX KPYMBD IWDQEF WSEVKT CDDWLI NEPZSE OPYIW'''\n",
    "cryptoText = removeSpecialChars(cryptoText)\n",
    "print(cryptoText)\n",
    "word_freq = getWordFreq(cryptoText,threshold_freq=3)\n",
    "ngrams_1 = findNgrams(cryptoText,1,threshold_freq=20)\n",
    "ngrams_2 = findNgrams(cryptoText,2,threshold_freq=3)\n",
    "ngrams_3 = findNgrams(cryptoText,3,threshold_freq=2)\n",
    "ngrams_4 = findNgrams(cryptoText,4,2)\n",
    "\n",
    "fig, axs = plt.subplots(3, 2,constrained_layout=True)\n",
    "fig.suptitle('Crypt Analysis Statistics')\n",
    "eng_word_freq = {'E':12.02,'T':9.10,'A':8.12,'O':7.68,'I':7.31,'N':6.95,'S':6.28,'R':6.02,'H':5.92,'D':4.32,'L':3.98,'U':2.88,'C':2.71,'M':2.61,'F':2.30,'Y':2.11,'W':2.09,'G':2.03,'P':1.82,'B':1.49,'V':1.11,'K':0.69,'X':0.17,'Q':0.11,'J':0.10,'Z':0.07}\n",
    "eng_word_freq = remove_dict_vals(eng_word_freq, 5)\n",
    "\n",
    "axs[0,0].bar(eng_word_freq.keys(), eng_word_freq.values())\n",
    "axs[0,1].bar(word_freq.keys(),  word_freq.values())\n",
    "axs[1,0].bar(ngrams_1.keys(),   ngrams_1.values())\n",
    "axs[1,1].bar(ngrams_2.keys(),   ngrams_2.values())\n",
    "axs[2,0].bar(ngrams_3.keys(),   ngrams_3.values())\n",
    "axs[2,1].bar(ngrams_4.keys(),   ngrams_4.values())\n"
   ]
  },
  {
   "cell_type": "code",
   "execution_count": 5,
   "metadata": {
    "tags": []
   },
   "outputs": [
    {
     "output_type": "stream",
     "name": "stdout",
     "text": "2-gram key is YBBDLEGYJPEB\n3-gram key is YBDJPKNUAXNUSAO\n"
    }
   ],
   "source": [
    "english_2gram = 'thheineranre'\n",
    "crypted_2gram = 'riihtrkpjcvf'\n",
    "key_2gram = crypt(english_2gram,crypted_2gram,encrypt=False)\n",
    "\n",
    "english_3gram = 'theandthaenting'\n",
    "crypted_3gram = 'rihjcngbabananu'\n",
    "key_3gram = crypt(english_3gram,crypted_3gram,encrypt=False)\n",
    "print(f'2-gram key is {key_2gram}')\n",
    "print(f'3-gram key is {key_3gram}')"
   ]
  },
  {
   "cell_type": "markdown",
   "metadata": {},
   "source": [
    "Let's assume then that the found bigrams and trigrams match the english pattern:\n",
    "\n",
    "---\n",
    "\n",
    "### Englsh alphabet with its indexes\n",
    "|Letter   |A|B|C|D|E|F|G|H|I|J|K |L |M |N |O |P |Q |R |S |T |U |V |W |X |Y |Z |\n",
    "|----     |-|-|-|-|-|-|-|-|-|-|- |- |- |- |- |- |- |- |- |- |- |- |- |- |- |- |\n",
    "|**Index**|0|1|2|3|4|5|6|7|8|9|10|11|12|13|14|15|16|17|18|19|20|21|22|23|24|25|\n",
    "\n",
    "---\n",
    "\n",
    "| [English 2-Gram Frequency](https://en.wikipedia.org/wiki/Bigram) | TH  | HE  | IN  | ER  | AN  | RE |\n",
    "| ---                      | --- | --- | --- | --- | --- |--- |\n",
    "| **Cipher**               | RI  | IH  | TR  | KP  | JC  | VF |\n",
    "| **Candidate Key**        | YB  | BD  | LE  | GY  | JP  | EB |\n",
    "---\n",
    "\n",
    "| [English 3-Gram Frequency](https://en.wikipedia.org/wiki/Trigram)  | THE | AND | THA | ENT | ING | ION| TIO| FOR|\n",
    "| ---                       | --- | --- | --- | --- | --- |--- |--- |--- |\n",
    "| **Cipher**                | RIH | JCN | GBA | BAN | ANU |    |    |    |\n",
    "| **Candidate Key**         | YBD | JPK | NUA | ZNU | SAO |    |    |    |\n",
    "\n",
    "As we can see from the following analysis for 2-gram and 3-gram the first 3 candidate keys match each other, therefore thereis a great possibility the key contains these characters.\n",
    "\n"
   ]
  },
  {
   "cell_type": "code",
   "execution_count": 6,
   "metadata": {
    "tags": []
   },
   "outputs": [
    {
     "output_type": "stream",
     "name": "stdout",
     "text": "Shortest distance for 2-gram:13\nShortest distance for 3-gram:12\n"
    }
   ],
   "source": [
    "n_gram2_distance = getShortestPatternDistance(cryptoText,'ri')\n",
    "n_gram3_distance = getShortestPatternDistance(cryptoText,'rih')\n",
    "print(f'Shortest distance for 2-gram:{n_gram2_distance}')\n",
    "print(f'Shortest distance for 3-gram:{n_gram3_distance}')\n"
   ]
  },
  {
   "cell_type": "markdown",
   "metadata": {},
   "source": [
    "Let's split now crypto text by 2-gram 'ri' and get the 3rd encrypted char by assuming part of the key is **YBD**"
   ]
  },
  {
   "cell_type": "markdown",
   "metadata": {},
   "source": [
    "## Now let's sweep a string of encrypted text by its primary candidate key,\n",
    "The estimated candidate key is 'YBDL', it is possible then to sweep it and increase on each iteration the length of the key to loop for potential word patterns which are similar to english"
   ]
  },
  {
   "cell_type": "code",
   "execution_count": 20,
   "metadata": {
    "tags": []
   },
   "outputs": [
    {
     "output_type": "stream",
     "name": "stdout",
     "text": "Sweeping rih with key length = 4 (ybdl)...\n\n['riha', 'rsmg', 'qtrq', 'csxx', 'cswt', 'nkpt', 'mnsw', 'amxv', 'cywe', 'ogsr', 'ffue', 'ebdk', 'qlqz', 'wrku', 'coft', 'plot']\n['THEP', 'TRJV', 'SSOF', 'ERUM', 'ERTI', 'PJMI', 'OMPL', 'CLUK', 'EXTT', 'QFPG', 'HERT', 'GAAZ', 'SKNO', 'YQHJ', 'ENCI', 'RKLI']\n\n\n['riha', 'lesp', 'rfae', 'fvyo', 'rihn', 'itrg', 'puhi', 'tmcf', 'cdla', 'hibk', 'lhrc', 'dimt', 'wqwt', 'ordj', 'cndy', 'ywmj']\n['THEP', 'NDPE', 'TEXT', 'HUVD', 'THEC', 'KSOV', 'RTEX', 'VLZU', 'ECIP', 'JHYZ', 'NGOR', 'FHJI', 'YPTI', 'QQAY', 'EMAN', 'AVJY']\n\n\n['rihn', 'itrg', 'puhi', 'tmcf', 'cdla', 'hibk', 'lhrc', 'dimt', 'wqwt', 'ordj', 'cndy', 'ywmj', 'cnhd', 'uwof', 'dpup', 'ngba']\n['THEC', 'KSOV', 'RTEX', 'VLZU', 'ECIP', 'JHYZ', 'NGOR', 'FHJI', 'YPTI', 'QQAY', 'EMAN', 'AVJY', 'EMES', 'WVLU', 'FORE', 'PFYP']\n\n\n['rihw', 'aczg', 'ptry', 'cevn', 'qcup', 'aosp', 'eukp', 'csng', 'rihl', 'riku', 'mgfc', 'ytdq', 'esda', 'hckp', 'bduj', 'pxkp']\n['THEL', 'CBWV', 'RSON', 'EDSC', 'SBRE', 'CNPE', 'GTHE', 'ERKV', 'THEA', 'THHJ', 'OFCR', 'ASAF', 'GRAP', 'JBHE', 'DCRY', 'RWHE']\n\n\n['rihl', 'riku', 'mgfc', 'ytdq', 'esda', 'hckp', 'bduj', 'pxkp', 'ymbd', 'iwdq', 'efws', 'evkt', 'cddw', 'line', 'pzse', 'opyi']\n['THEA', 'THHJ', 'OFCR', 'ASAF', 'GRAP', 'JBHE', 'DCRY', 'RWHE', 'ALYS', 'KVAF', 'GETH', 'GUHI', 'ECAL', 'NHKT', 'RYPT', 'QOVX']\n\n\nSweeping rih with key length = 5 (ybdla)...\n\n['rihar', 'smgqt', 'rqcsx', 'xcswt', 'nkptm', 'nswam', 'xvcyw', 'eogsr', 'ffuee', 'bdkql', 'qzwrk', 'ucoft', 'plot']\n['THEPR', 'ULDFT', 'TPZHX', 'ZBPLT', 'PJMIM', 'PRTPM', 'ZUZNW', 'GNDHR', 'HERTE', 'DCHFL', 'SYTGK', 'WBLUT', 'RKLI']\n\n\n['rihal', 'esprf', 'aefvy', 'orihn', 'itrgp', 'uhitm', 'cfcdl', 'ahibk', 'lhrcd', 'imtwq', 'wtord', 'jcndy', 'ywmj']\n['THEPL', 'GRMGF', 'CDCKY', 'QQFWN', 'KSOVP', 'WGFIM', 'EEZSL', 'CGFQK', 'NGORD', 'KLQLQ', 'YSLGD', 'LBKSY', 'AVJY']\n\n\n['rihni', 'trgpu', 'hitmc', 'fcdla', 'hibkl', 'hrcdi', 'mtwqw', 'tordj', 'cndyy', 'wmjcn', 'hduwo', 'fdpup', 'ngba']\n['THECI', 'VQDEU', 'JHQBC', 'HBAAA', 'JHYZL', 'JQZSI', 'OSTFW', 'VNOSJ', 'EMANY', 'YLGRN', 'JCRLO', 'HCMJP', 'PFYP']\n\n\n['rihwa', 'czgpt', 'rycev', 'nqcup', 'aospe', 'ukpcs', 'ngrih', 'lriku', 'mgfcy', 'tdqes', 'dahck', 'pbduj', 'pxkp']\n['THELA', 'EYDET', 'TXZTV', 'PPZJP', 'CNPEE', 'WJMRS', 'PFOXH', 'NQFZU', 'OFCRY', 'VCNTS', 'FZERK', 'RAAJJ', 'RWHE']\n\n\n['rihlr', 'ikumg', 'fcytd', 'qesda', 'hckpb', 'dujpx', 'kpymb', 'diwdq', 'efwse', 'vktcd', 'dwlin', 'epzse', 'opyi']\n['THEAR', 'KJRBG', 'HBVID', 'SDPSA', 'JBHEB', 'FTGEX', 'MOVBB', 'FHTSQ', 'GETHE', 'XJQRD', 'FVIXN', 'GOWHE', 'QOVX']\n\n\nSweeping rih with key length = 6 (ybdlaa)...\n\n['rihars', 'mgqtrq', 'csxxcs', 'wtnkpt', 'mnswam', 'xvcywe', 'ogsrff', 'ueebdk', 'qlqzwr', 'kucoft', 'plot']\n['THEPRS', 'OFNIRQ', 'ERUMCS', 'YSKZPT', 'OMPLAM', 'ZUZNWE', 'QFPGFF', 'WDBQDK', 'SKNOWR', 'MTZDFT', 'RKLI']\n\n\n['rihale', 'sprfae', 'fvyori', 'hnitrg', 'puhitm', 'cfcdla', 'hibklh', 'rcdimt', 'wqwtor', 'djcndy', 'ywmj']\n['THEPLE', 'UOOUAE', 'HUVDRI', 'JMFIRG', 'RTEXTM', 'EEZSLA', 'JHYZLH', 'TBAXMT', 'YPTIOR', 'FIZCDY', 'AVJY']\n\n\n['rihnit', 'rgpuhi', 'tmcfcd', 'lahibk', 'lhrcdi', 'mtwqwt', 'ordjcn', 'dyywmj', 'cnhduw', 'ofdpup', 'ngba']\n['THECIT', 'TFMJHI', 'VLZUCD', 'NZEXBK', 'NGORDI', 'OSTFWT', 'QQAYCN', 'FXVLMJ', 'EMESUW', 'QEAEUP', 'PFYP']\n\n\n['rihwac', 'zgptry', 'cevnqc', 'upaosp', 'eukpcs', 'ngrihl', 'rikumg', 'fcytdq', 'esdahc', 'kpbduj', 'pxkp']\n['THELAC', 'BFMIRY', 'EDSCQC', 'WOXDSP', 'GTHECS', 'PFOXHL', 'THHJMG', 'HBVIDQ', 'GRAPHC', 'MOYSUJ', 'RWHE']\n\n\n['rihlri', 'kumgfc', 'ytdqes', 'dahckp', 'bdujpx', 'kpymbd', 'iwdqef', 'wsevkt', 'cddwli', 'nepzse', 'opyi']\n['THEARI', 'MTJVFC', 'ASAFES', 'FZERKP', 'DCRYPX', 'MOVBBD', 'KVAFEF', 'YRBKKT', 'ECALLI', 'PDMOSE', 'QOVX']\n\n\nSweeping rih with key length = 7 (ybdlaaa)...\n\n['riharsm', 'gqtrqcs', 'xxcswtn', 'kptmnsw', 'amxvcyw', 'eogsrff', 'ueebdkq', 'lqzwrku', 'coftplo', 't']\n['THEPRSM', 'IPQGQCS', 'ZWZHWTN', 'MOQBNSW', 'CLUKCYW', 'GNDHRFF', 'WDBQDKQ', 'NPWLRKU', 'ENCIPLO', 'V']\n\n\n['rihales', 'prfaefv', 'yorihni', 'trgpuhi', 'tmcfcdl', 'ahibklh', 'rcdimtw', 'qwtordj', 'cndyywm', 'j']\n['THEPLES', 'RQCPEFV', 'ANOXHNI', 'VQDEUHI', 'VLZUCDL', 'CGFQKLH', 'TBAXMTW', 'SVQDRDJ', 'EMANYWM', 'L']\n\n\n['rihnitr', 'gpuhitm', 'cfcdlah', 'ibklhrc', 'dimtwqw', 'tordjcn', 'dyywmjc', 'nhduwof', 'dpupngb', 'a']\n['THECITR', 'IORWITM', 'EEZSLAH', 'KAHAHRC', 'FHJIWQW', 'VNOSJCN', 'FXVLMJC', 'PGAJWOF', 'FORENGB', 'C']\n\n\n['rihwacz', 'gptryce', 'vnqcupa', 'ospeukp', 'csngrih', 'lrikumg', 'fcytdqe', 'sdahckp', 'bdujpxk', 'p']\n['THELACZ', 'IOQGYCE', 'XMNRUPA', 'QRMTUKP', 'ERKVRIH', 'NQFZUMG', 'HBVIDQE', 'UCXWCKP', 'DCRYPXK', 'R']\n\n\n['rihlrik', 'umgfcyt', 'dqesdah', 'ckpbduj', 'pxkpymb', 'diwdqef', 'wsevktc', 'ddwline', 'pzseopy', 'i']\n['THEARIK', 'WLDUCYT', 'FPBHDAH', 'EJMQDUJ', 'RWHEYMB', 'FHTSQEF', 'YRBKKTC', 'FCTAINE', 'RYPTOPY', 'K']\n\n\nSweeping rih with key length = 8 (ybdlaaaa)...\n\n['riharsmg', 'qtrqcsxx', 'cswtnkpt', 'mnswamxv', 'cyweogsr', 'ffueebdk', 'qlqzwrku', 'coftplot']\n['THEPRSMG', 'SSOFCSXX', 'ERTINKPT', 'OMPLAMXV', 'EXTTOGSR', 'HERTEBDK', 'SKNOWRKU', 'ENCIPLOT']\n\n\n['rihalesp', 'rfaefvyo', 'rihnitrg', 'puhitmcf', 'cdlahibk', 'lhrcdimt', 'wqwtordj', 'cndyywmj']\n['THEPLESP', 'TEXTFVYO', 'THECITRG', 'RTEXTMCF', 'ECIPHIBK', 'NGORDIMT', 'YPTIORDJ', 'EMANYWMJ']\n\n\n['rihnitrg', 'puhitmcf', 'cdlahibk', 'lhrcdimt', 'wqwtordj', 'cndyywmj', 'cnhduwof', 'dpupngba']\n['THECITRG', 'RTEXTMCF', 'ECIPHIBK', 'NGORDIMT', 'YPTIORDJ', 'EMANYWMJ', 'EMESUWOF', 'FORENGBA']\n\n\n['rihwaczg', 'ptrycevn', 'qcupaosp', 'eukpcsng', 'rihlriku', 'mgfcytdq', 'esdahckp', 'bdujpxkp']\n['THELACZG', 'RSONCEVN', 'SBREAOSP', 'GTHECSNG', 'THEARIKU', 'OFCRYTDQ', 'GRAPHCKP', 'DCRYPXKP']\n\n\n['rihlriku', 'mgfcytdq', 'esdahckp', 'bdujpxkp', 'ymbdiwdq', 'efwsevkt', 'cddwline', 'pzseopyi']\n['THEARIKU', 'OFCRYTDQ', 'GRAPHCKP', 'DCRYPXKP', 'ALYSIWDQ', 'GETHEVKT', 'ECALLINE', 'RYPTOPYI']\n\n\nSweeping rih with key length = 9 (ybdlaaaaa)...\n\n['riharsmgq', 'trqcsxxcs', 'wtnkptmns', 'wamxvcywe', 'ogsrffuee', 'bdkqlqzwr', 'kucoftplo', 't']\n['THEPRSMGQ', 'VQNRSXXCS', 'YSKZPTMNS', 'YZJMVCYWE', 'QFPGFFUEE', 'DCHFLQZWR', 'MTZDFTPLO', 'V']\n\n\n['rihalespr', 'faefvyori', 'hnitrgpuh', 'itmcfcdla', 'hibklhrcd', 'imtwqwtor', 'djcndyywm', 'j']\n['THEPLESPR', 'HZBUVYORI', 'JMFIRGPUH', 'KSJRFCDLA', 'JHYZLHRCD', 'KLQLQWTOR', 'FIZCDYYWM', 'L']\n\n\n['rihnitrgp', 'uhitmcfcd', 'lahibklhr', 'cdimtwqwt', 'ordjcndyy', 'wmjcnhduw', 'ofdpupngb', 'a']\n['THECITRGP', 'WGFIMCFCD', 'NZEXBKLHR', 'ECFBTWQWT', 'QQAYCNDYY', 'YLGRNHDUW', 'QEAEUPNGB', 'C']\n\n\n['rihwaczgp', 'trycevnqc', 'upaospeuk', 'pcsngrihl', 'rikumgfcy', 'tdqesdahc', 'kpbdujpxk', 'p']\n['THELACZGP', 'VQVREVNQC', 'WOXDSPEUK', 'RBPCGRIHL', 'THHJMGFCY', 'VCNTSDAHC', 'MOYSUJPXK', 'R']\n\n\n['rihlrikum', 'gfcytdqes', 'dahckpbdu', 'jpxkpymbd', 'iwdqefwse', 'vktcddwli', 'nepzseopy', 'i']\n['THEARIKUM', 'IEZNTDQES', 'FZERKPBDU', 'LOUZPYMBD', 'KVAFEFWSE', 'XJQRDDWLI', 'PDMOSEOPY', 'K']\n\n\nSweeping rih with key length = 10 (ybdlaaaaaa)...\n\n['riharsmgqt', 'rqcsxxcswt', 'nkptmnswam', 'xvcyweogsr', 'ffueebdkql', 'qzwrkucoft', 'plot']\n['THEPRSMGQT', 'TPZHXXCSWT', 'PJMIMNSWAM', 'ZUZNWEOGSR', 'HERTEBDKQL', 'SYTGKUCOFT', 'RKLI']\n\n\n['rihalesprf', 'aefvyorihn', 'itrgpuhitm', 'cfcdlahibk', 'lhrcdimtwq', 'wtordjcndy', 'ywmj']\n['THEPLESPRF', 'CDCKYORIHN', 'KSOVPUHITM', 'EEZSLAHIBK', 'NGORDIMTWQ', 'YSLGDJCNDY', 'AVJY']\n\n\n['rihnitrgpu', 'hitmcfcdla', 'hibklhrcdi', 'mtwqwtordj', 'cndyywmjcn', 'hduwofdpup', 'ngba']\n['THECITRGPU', 'JHQBCFCDLA', 'JHYZLHRCDI', 'OSTFWTORDJ', 'EMANYWMJCN', 'JCRLOFDPUP', 'PFYP']\n\n\n['rihwaczgpt', 'rycevnqcup', 'aospeukpcs', 'ngrihlriku', 'mgfcytdqes', 'dahckpbduj', 'pxkp']\n['THELACZGPT', 'TXZTVNQCUP', 'CNPEEUKPCS', 'PFOXHLRIKU', 'OFCRYTDQES', 'FZERKPBDUJ', 'RWHE']\n\n\n['rihlrikumg', 'fcytdqesda', 'hckpbdujpx', 'kpymbdiwdq', 'efwsevktcd', 'dwlinepzse', 'opyi']\n['THEARIKUMG', 'HBVIDQESDA', 'JBHEBDUJPX', 'MOVBBDIWDQ', 'GETHEVKTCD', 'FVIXNEPZSE', 'QOVX']\n\n\n"
    }
   ],
   "source": [
    "ngram_2_length = 64\n",
    "candidate_key = 'ybdl'\n",
    "n_gram = 'rih'\n",
    "max_key_len = 11\n",
    "candidate_key_len = len(candidate_key)\n",
    "ngram_2_patterns = getCharPattern(cryptoText,n_gram,ngram_2_length)\n",
    "for i in range(candidate_key_len, max_key_len,1):\n",
    "    print(f'Sweeping {n_gram} with key length = {i} ({candidate_key})...\\n')\n",
    "    #Decrypt text by candidate key\n",
    "    ngram_2_decipher = [(x,crypt(candidate_key,x,encrypt=False)) for x in ngram_2_patterns]\n",
    "    chunk_size = len(candidate_key)\n",
    "    for item in ngram_2_decipher:\n",
    "        items_c = []\n",
    "        items_d = []\n",
    "        for i in range(0,ngram_2_length,chunk_size):\n",
    "            items_c.append(item[0][i:i+chunk_size])\n",
    "            items_d.append(item[1][i:i+chunk_size])\n",
    "        print(items_c)\n",
    "        print(items_d)\n",
    "        print('\\n')\n",
    "    candidate_key +='a'\n"
   ]
  },
  {
   "cell_type": "markdown",
   "metadata": {},
   "source": [
    "Seems like the most suiteable key length  is 8 since it has clearer string patterns for candidate english words.\n",
    "\n",
    "\n",
    "1.\n",
    "* 'riharsmg', 'qtrqcsxx', 'cswtnkpt', 'mnswamxv', 'cyweogsr', 'ffueebdk', 'qlqzwrku', 'coftplot'\n",
    "* 'THEPRSMG', 'SSOFCSXX', 'ERTINKPT', 'OMPLAMXV', 'EXTTOGSR', 'HERTEBDK', 'SKNOWRKU', 'ENCIPLOT'\n",
    "---\n",
    "2.\n",
    "* 'rihalesp', 'rfaefvyo', 'rihnitrg', 'puhitmcf', 'cdlahibk', 'lhrcdimt', 'wqwtordj', 'cndyywmj'\n",
    "* 'THEPLESP', 'TEXTFVYO', 'THECITRG', 'RTEXTMCF', 'ECIPHIBK', 'NGORDIMT', 'YPTIORDJ', 'EMANYWMJ'\n",
    "\n",
    "---\n",
    "3.\n",
    "* 'rihnitrg', 'puhitmcf', 'cdlahibk', 'lhrcdimt', 'wqwtordj', 'cndyywmj', 'cnhduwof', 'dpupngba'\n",
    "* 'THECITRG', 'RTEXTMCF', 'ECIPHIBK', 'NGORDIMT', 'YPTIORDJ', 'EMANYWMJ', 'EMESUWOF', 'FORENGBA'\n",
    "\n",
    "---\n",
    "4.\n",
    "* 'rihwaczg', 'ptrycevn', 'qcupaosp', 'eukpcsng', 'rihlriku', 'mgfcytdq', 'esdahckp', 'bdujpxkp'\n",
    "* 'THELACZG', 'RSONCEVN', 'SBREAOSP', 'GTHECSNG', 'THEARIKU', 'OFCRYTDQ', 'GRAPHCKP', 'DCRYPXKP'\n",
    "\n",
    "---\n",
    "5.\n",
    "* 'rihlriku', 'mgfcytdq', 'esdahckp', 'bdujpxkp', 'ymbdiwdq', 'efwsevkt', 'cddwline', 'pzseopyi'\n",
    "* 'THEARIKU', 'OFCRYTDQ', 'GRAPHCKP', 'DCRYPXKP', 'ALYSIWDQ', 'GETHEVKT', 'ECALLINE', 'RYPTOPYI'\n",
    "\n",
    "---\n",
    "\n",
    "Take a special look at 2:\n",
    "\n",
    "* 'rihalesp', 'rfaefvyo', 'rihnitrg', 'puhitmcf', 'cdlahibk', 'lhrcdimt', 'wqwtordj', 'cndyywmj'\n",
    "* 'THEPLESP', 'TEXTFVYO', 'THECITRG', 'RTEXTMCF', 'ECIPHIBK', 'NGORDIMT', 'YPTIORDJ', 'EMANYWMJ'\n",
    "\n",
    "\n",
    "Assume these chunks to be part of the words: \n",
    "\n",
    "1. 'puhitmcf' = 'RTEXTMC**D**' (since the following decrypted chunk is 'ECIPHIBK', it is assumed the word 'deciph'/'decipher' is possible candidate )"
   ]
  },
  {
   "cell_type": "code",
   "execution_count": 26,
   "metadata": {},
   "outputs": [],
   "source": [
    "def try_decipher(key,patterns,ngram_2_length):\n",
    "    print(f'New decipher with key:{key}')\n",
    "    ngram_2_decipher = [(x,crypt(key,x,encrypt=False)) for x in patterns]\n",
    "    chunk_size = len(key)\n",
    "    for item in ngram_2_decipher:\n",
    "        items_c = []\n",
    "        items_d = []\n",
    "        for i in range(0,ngram_2_length,chunk_size):\n",
    "            items_c.append(item[0][i:i+chunk_size])\n",
    "            items_d.append(item[1][i:i+chunk_size])\n",
    "        print(items_c)\n",
    "        print(items_d)\n",
    "        print('\\n')\n"
   ]
  },
  {
   "cell_type": "code",
   "execution_count": 27,
   "metadata": {
    "tags": []
   },
   "outputs": [
    {
     "output_type": "stream",
     "name": "stdout",
     "text": "New decipher with key:ybdlaaac\n['riharsmg', 'qtrqcsxx', 'cswtnkpt', 'mnswamxv', 'cyweogsr', 'ffueebdk', 'qlqzwrku', 'coftplot']\n['THEPRSME', 'SSOFCSXV', 'ERTINKPR', 'OMPLAMXT', 'EXTTOGSP', 'HERTEBDI', 'SKNOWRKS', 'ENCIPLOR']\n\n\n['rihalesp', 'rfaefvyo', 'rihnitrg', 'puhitmcf', 'cdlahibk', 'lhrcdimt', 'wqwtordj', 'cndyywmj']\n['THEPLESN', 'TEXTFVYM', 'THECITRE', 'RTEXTMCD', 'ECIPHIBI', 'NGORDIMR', 'YPTIORDH', 'EMANYWMH']\n\n\n['rihnitrg', 'puhitmcf', 'cdlahibk', 'lhrcdimt', 'wqwtordj', 'cndyywmj', 'cnhduwof', 'dpupngba']\n['THECITRE', 'RTEXTMCD', 'ECIPHIBI', 'NGORDIMR', 'YPTIORDH', 'EMANYWMH', 'EMESUWOD', 'FORENGBY']\n\n\n['rihwaczg', 'ptrycevn', 'qcupaosp', 'eukpcsng', 'rihlriku', 'mgfcytdq', 'esdahckp', 'bdujpxkp']\n['THELACZE', 'RSONCEVL', 'SBREAOSN', 'GTHECSNE', 'THEARIKS', 'OFCRYTDO', 'GRAPHCKN', 'DCRYPXKN']\n\n\n['rihlriku', 'mgfcytdq', 'esdahckp', 'bdujpxkp', 'ymbdiwdq', 'efwsevkt', 'cddwline', 'pzseopyi']\n['THEARIKS', 'OFCRYTDO', 'GRAPHCKN', 'DCRYPXKN', 'ALYSIWDO', 'GETHEVKR', 'ECALLINC', 'RYPTOPYG']\n\n\n"
    }
   ],
   "source": [
    "candidate_key = 'ybdlaaa' + crypt('d','f',encrypt=False).lower()\n",
    "try_decipher(candidate_key,ngram_2_patterns,ngram_2_length)\n",
    "\n"
   ]
  },
  {
   "cell_type": "markdown",
   "metadata": {},
   "source": [
    "The codes now seem very congruent,  now let's try to find another part of the key:\n",
    "\n",
    "    'esdahckp', 'bdujpxkp'\n",
    "    'OFCRYPTO', 'GRAPHCKN' = 'OFCRYPTO GRAPHYKN'"
   ]
  },
  {
   "cell_type": "code",
   "execution_count": null,
   "metadata": {},
   "outputs": [],
   "source": [
    "def bruteForce(pattern, key, max_key_len, alphabet):\n",
    "    if len(key) < max_key_len:\n",
    "        for letter in alphabet:\n",
    "            bruteForce(pattern, key + letter,max_key_len ,alphabet)\n",
    "    else:\n",
    "        decipher = crypt(key,pattern,encrypt=False)\n",
    "        print(f'key {key}:{decipher}')"
   ]
  },
  {
   "cell_type": "code",
   "execution_count": 157,
   "metadata": {
    "tags": []
   },
   "outputs": [
    {
     "output_type": "execute_result",
     "data": {
      "text/plain": "'riharsmgqtrqcsxxcswtnkptmnswamxvcyweogsrffueebdkqlqzwrkucoftplot'"
     },
     "metadata": {},
     "execution_count": 157
    }
   ],
   "source": [
    "#bruteForce(ngram_2_patterns[0], 'ybdl',8,alphabet)\n",
    "\n"
   ]
  },
  {
   "cell_type": "code",
   "execution_count": 37,
   "metadata": {
    "tags": []
   },
   "outputs": [
    {
     "output_type": "stream",
     "name": "stdout",
     "text": "ek\n"
    }
   ],
   "source": [
    "key_part =  crypt('pt','td',encrypt=False).lower()\n",
    "print(key_part)"
   ]
  },
  {
   "cell_type": "markdown",
   "metadata": {},
   "source": [
    "Then the new key could be 'ybdlanrc'\n"
   ]
  },
  {
   "cell_type": "code",
   "execution_count": 41,
   "metadata": {
    "tags": []
   },
   "outputs": [
    {
     "output_type": "stream",
     "name": "stdout",
     "text": "New decipher with key:ybdlaekc\n['riharsmg', 'qtrqcsxx', 'cswtnkpt', 'mnswamxv', 'cyweogsr', 'ffueebdk', 'qlqzwrku', 'coftplot']\n['THEPROCE', 'SSOFCONV', 'ERTINGFR', 'OMPLAINT', 'EXTTOCIP', 'HERTEXTI', 'SKNOWNAS', 'ENCIPHER']\n\n\n['rihalesp', 'rfaefvyo', 'rihnitrg', 'puhitmcf', 'cdlahibk', 'lhrcdimt', 'wqwtordj', 'cndyywmj']\n['THEPLAIN', 'TEXTFROM', 'THECIPHE', 'RTEXTISD', 'ECIPHERI', 'NGORDECR', 'YPTIONTH', 'EMANYSCH']\n\n\n['rihnitrg', 'puhitmcf', 'cdlahibk', 'lhrcdimt', 'wqwtordj', 'cndyywmj', 'cnhduwof', 'dpupngba']\n['THECIPHE', 'RTEXTISD', 'ECIPHERI', 'NGORDECR', 'YPTIONTH', 'EMANYSCH', 'EMESUSED', 'FORENCRY']\n\n\n['rihwaczg', 'ptrycevn', 'qcupaosp', 'eukpcsng', 'rihlriku', 'mgfcytdq', 'esdahckp', 'bdujpxkp']\n['THELAYPE', 'RSONCALL', 'SBREAKIN', 'GTHECODE', 'THEAREAS', 'OFCRYPTO', 'GRAPHYAN', 'DCRYPTAN']\n\n\n['rihlriku', 'mgfcytdq', 'esdahckp', 'bdujpxkp', 'ymbdiwdq', 'efwsevkt', 'cddwline', 'pzseopyi']\n['THEAREAS', 'OFCRYPTO', 'GRAPHYAN', 'DCRYPTAN', 'ALYSISTO', 'GETHERAR', 'ECALLEDC', 'RYPTOLOG']\n\n\n"
    }
   ],
   "source": [
    "candidate_key = 'ybdlaekc' \n",
    "try_decipher(candidate_key,ngram_2_patterns,ngram_2_length)"
   ]
  },
  {
   "cell_type": "markdown",
   "metadata": {},
   "source": [
    "Key was found after character substitution by deducting the potential words present in the cryptotet. Decrypting the whole message:"
   ]
  },
  {
   "cell_type": "code",
   "execution_count": 46,
   "metadata": {},
   "outputs": [
    {
     "output_type": "execute_result",
     "data": {
      "text/plain": "'DPWGMMAJDNUTWYSCHKAZRUOJDUBWIVDWLPBTBZODLNMILKUKGGLBIYKWJGQHGGDH'"
     },
     "metadata": {},
     "execution_count": 46
    }
   ],
   "source": [
    "crypt(candidate_key,cryptoText[0:64],encrypt=False)\n"
   ]
  },
  {
   "cell_type": "markdown",
   "metadata": {},
   "source": [
    "Key needs to be swapped since current combination willnot give legible words"
   ]
  },
  {
   "cell_type": "code",
   "execution_count": 58,
   "metadata": {
    "tags": []
   },
   "outputs": [
    {
     "output_type": "stream",
     "name": "stdout",
     "text": "First index position of candidate key at:79\nRewinding key first position for current pattern at: 7\n"
    }
   ],
   "source": [
    "# finding the first occurence of substring 'rih' in cryptotext\n",
    "position = cryptoText.find('rih') # should return 4\n",
    "print(f'First index position of candidate key at:{position}')\n",
    "first_index = position % 8\n",
    "print(f'Rewinding key first position for current pattern at: {first_index}')\n"
   ]
  },
  {
   "cell_type": "markdown",
   "metadata": {},
   "source": [
    "Knowing that the first index at which key is  'ybdlaekc' is in position 7, means that the first key char needs to be changed at the end of the string to complete the right key, being the final key: 'bdlaekcy'"
   ]
  },
  {
   "cell_type": "code",
   "execution_count": 60,
   "metadata": {},
   "outputs": [
    {
     "output_type": "execute_result",
     "data": {
      "text/plain": "'ANORIGINALMESSAGEISKNOWNASTHEPLAINTEXTWHILETHECODEDMESSAGEISCALLEDTHECIPHERTEXTTHEPROCESSOFCONVERTINGFROMPLAINTEXTTOCIPHERTEXTISKNOWNASENCIPHERINGORENCRYPTIONRESTORINGTHEPLAINTEXTFROMTHECIPHERTEXTISDECIPHERINGORDECRYPTIONTHEMANYSCHEMESUSEDFORENCRYPTIONCONSTITUTETHEAREAOFSTUDYKNOWNASCRYPTOGRAPHYSUCHASCHEMEISKNOWNASACRYPTOGRAPHICSYSTEMORACIPHERTECHNIQUESUSEDFORDECIPHERINGAMESSAGEWITHOUTANYKNOWLEDGEOFTHEENCIPHERINGDETAILSFALLINTOTHEAREAOFCRYPTANALYSISCRYPTANALYSISISWHATTHELAYPERSONCALLSBREAKINGTHECODETHEAREASOFCRYPTOGRAPHYANDCRYPTANALYSISTOGETHERARECALLEDCRYPTOLOGY'"
     },
     "metadata": {},
     "execution_count": 60
    }
   ],
   "source": [
    "candidate_key = 'bdlaekcy'\n",
    "crypt(candidate_key,cryptoText,encrypt=False)"
   ]
  },
  {
   "cell_type": "markdown",
   "metadata": {},
   "source": [
    "## Decrypted text:\n",
    ">>\n",
    "AN ORIGINAL MESSAGE IS KNOWN AS THE PLAIN TEXT WHILE THE CODED MESSAGE IS CALLED THE CIPHERTEXT. THE PROCESS OF CONVERTING FROM PLAIN TEXT TO CIPHER TEXT IS KNOWN AS ENCIPHERING OR ENCRYPTION RESTORING. THE PLAIN TEXT FROM THE CIPHER TEXT IS DECIPHERING OR DECRYPTION. THE MANY SCHEMES USED FOR ENCRYPTION CONSTITUTE THE AREA OF STUDY KNOWN AS CRYPTOGRAPHY SUCH A SCHEME IS KNOWN AS A CRYPTOGRAPHIC SYSTEM OR A CIPHER TECHNIQUES USED FOR DECIPHERING A MESSAGE WITHOUT ANY KNOWLEDGE OF THE ENCIPHERING DETAILS FALLIN TO THE AREA OF CRYPTANALYSIS. CRYPTANALYS IS IS WHAT THE LAY PERSON CALLS BREAKING THE CODE. THE AREAS OF CRYPTOGRAPHY AND CRYPTANALYSIS TOGETHER ARE CALLED CRYPTOLOGY.\n"
   ]
  },
  {
   "cell_type": "code",
   "execution_count": null,
   "metadata": {},
   "outputs": [],
   "source": [
    "key = np.array([[17,17,5],[21,18,21],[2,2,19]])\n",
    "key2 = np.array([[2,4,3],[6,1,5],[-2,1,3]])\n",
    "key.shape[0]\n",
    "np.linalg.det(np.linalg.inv(key))\n",
    "np.linalg.det(key2)"
   ]
  },
  {
   "cell_type": "code",
   "execution_count": 17,
   "metadata": {},
   "outputs": [
    {
     "output_type": "execute_result",
     "data": {
      "text/plain": "array([[-0.02479339,  0.0661157 ],\n       [ 0.14049587, -0.04132231]])"
     },
     "metadata": {},
     "execution_count": 17
    }
   ],
   "source": [
    "x = np.array([[3,-8],[-17,5]])\n",
    "(1/-121) *x "
   ]
  },
  {
   "cell_type": "code",
   "execution_count": 15,
   "metadata": {},
   "outputs": [
    {
     "output_type": "execute_result",
     "data": {
      "text/plain": "-121.00000000000003"
     },
     "metadata": {},
     "execution_count": 15
    }
   ],
   "source": [
    "np.linalg.det(x)"
   ]
  },
  {
   "cell_type": "code",
   "execution_count": 13,
   "metadata": {},
   "outputs": [
    {
     "output_type": "execute_result",
     "data": {
      "text/plain": "array([[-0.04132231, -0.0661157 ],\n       [-0.14049587, -0.02479339]])"
     },
     "metadata": {},
     "execution_count": 13
    }
   ],
   "source": [
    "np.linalg.inv(x)"
   ]
  },
  {
   "cell_type": "code",
   "execution_count": 50,
   "metadata": {
    "tags": []
   },
   "outputs": [
    {
     "output_type": "stream",
     "name": "stdout",
     "text": "[[-0.02479339  0.0661157 ]\n [ 0.14049587 -0.04132231]] [[-0.02479339  0.0661157 ]\n [ 0.14049587 -0.04132231]] \n\n"
    },
    {
     "output_type": "execute_result",
     "data": {
      "text/plain": "17"
     },
     "metadata": {},
     "execution_count": 50
    }
   ],
   "source": [
    "f = np.array([[5,8],[17,3]])\n",
    "g = np.array([[3,-8],[-17,5]])\n",
    "det_f = np.linalg.det(f)\n",
    "f_i = 1/det_f * (g)\n",
    "print(f_i,np.linalg.inv(f),'\\n')\n",
    "-9%26\n",
    "303%26"
   ]
  },
  {
   "cell_type": "code",
   "execution_count": 91,
   "metadata": {
    "tags": []
   },
   "outputs": [
    {
     "output_type": "stream",
     "name": "stdout",
     "text": "ZICVTWQNGRZGVTWAVZHCQYGLMGJ\n"
    }
   ],
   "source": []
  },
  {
   "cell_type": "markdown",
   "metadata": {},
   "source": [
    "## Task2. \n",
    "\n",
    "Try shorter and Longer key lengths in your program and use the time package to find out program execution time. Does the program take longer time to decrypt the ciphertext? how does execution time arise by adding letters to the key?\n",
    "\n",
    "* Hints: Here are useful links about how to measure execution time in Python And Javascript, You can\n",
    "also find the function for your preferred programming language using search engines."
   ]
  },
  {
   "cell_type": "markdown",
   "metadata": {},
   "source": [
    "## Task3. \n",
    "This ciphertext has been encrypted by the same Key as previous ciphertext (Task1) with an addition in the encryption process. Is it possible to Produce the plaintext again using the same tool you created in Task1? Explain the differences you have encountered.\n",
    "```pypthon\n",
    "BQZRMQ KLAYAV AYITET EOFGWT EALRRD HNIFML BIHHQY XXEXYV LPHFLW UOJILE GSDLKH\n",
    "BZGCTA LHKAIZ BIOIGK SZXLZS UTCPZW JHNPUS MSDITN OSKSJI EOKVIL BKMSZB XZOEHA\n",
    "KTAWXP WLUEJM AIWGLR TZLVHZ SATVQI HZWAXX ZXDCIV TMLBIQ RWZMLB VNGVQK AIZBXZ\n",
    "HVVMMA MJLRIW GKITZL VHZRRV YCBTVM FVOIYE FSKGKJ AVWHUV BUHZSA EFLHMQ HHVSGZ\n",
    "XIKYTS YZXUUC KBTOGU VABLDP BGJCGF NLIIYA HJFWGG PSCPVA ZEASME MLGOYR CGFXVG\n",
    "EJTTTW TSAAIL QFKEEP CPULXW WZRLVI VVYUMS MSILRI IBLWJI TKWUXZ GUZEJG DUCQEE\n",
    "QEOBTP SIHTGW UALVMA ILTAEZ TFLDPE IVEGYH PLZRTC YJVYGX ABFNPQ XLCEYA RGIFCC WHBGIF\n",
    "WSYLBZ MDWFPX KZSYCY APJTFR CKTYYU YICYLR ZALETS DWHMGR PTTGUW CGFNTB JTRNWR\n",
    "AADNPQ XLTBGP RZMJTF KGTSPV DTVAPE ZPRIP\n",
    "```"
   ]
  },
  {
   "cell_type": "code",
   "execution_count": null,
   "metadata": {},
   "outputs": [],
   "source": []
  }
 ]
}