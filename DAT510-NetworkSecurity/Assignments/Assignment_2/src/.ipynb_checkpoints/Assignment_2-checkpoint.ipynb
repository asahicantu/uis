{
 "cells": [
  {
   "cell_type": "markdown",
   "metadata": {},
   "source": [
    "# Part 1 - Cryptographic primitives implementation\n",
    "\n",
    "## Consists of:\n",
    "* Diphie-Hellman key exchange\n",
    "* Blum Blum Shub Pseudorandom Number Generator"
   ]
  },
  {
   "cell_type": "markdown",
   "metadata": {},
   "source": [
    "### Diphie - Hellman implementation test:\n"
   ]
  },
  {
   "cell_type": "code",
   "execution_count": 1,
   "metadata": {},
   "outputs": [],
   "source": [
    "import importlib\n",
    "from DH import DH\n",
    "from BBS import BBS\n",
    "import sympy\n",
    "import random\n",
    "from Cryptodome.Cipher import AES"
   ]
  },
  {
   "cell_type": "code",
   "execution_count": 2,
   "metadata": {},
   "outputs": [
    {
     "name": "stderr",
     "output_type": "stream",
     "text": [
      "INFO:DH:Initializing Diffie–Hellman key exchange...\n",
      "INFO:DH:\tPublic key1: 5\n",
      "INFO:DH:\tPublic key2: 241537\n",
      "INFO:DH:\tPrivate key: 59581\n",
      "INFO:DH:Initializing Diffie–Hellman key exchange...\n",
      "INFO:DH:\tPublic key1: 5\n",
      "INFO:DH:\tPublic key2: 241537\n",
      "INFO:DH:\tPrivate key: 11726\n",
      "INFO:DH:Creating Shared key...\n",
      "INFO:DH:\t Shared key created 189699\n",
      "INFO:DH:Creating Shared key...\n",
      "INFO:DH:\t Shared key created 157375\n",
      "INFO:DH:Creating full key...\n",
      "INFO:DH:\tFull Key created 174391!\n",
      "INFO:DH:\tAfter SHA Key created b'\\r\\xc2\\xd0\\x9fUV\\x94N\\xceKW\\xde\\xcd\\x03\\xc8ravZ\\xa8Z\\xce\\xbc\\xe8\\x9e\\xc37\\xea(\\xab\\x9b\\xfb'!\n",
      "INFO:DH:Creating full key...\n",
      "INFO:DH:\tFull Key created 174391!\n",
      "INFO:DH:\tAfter SHA Key created b'\\r\\xc2\\xd0\\x9fUV\\x94N\\xceKW\\xde\\xcd\\x03\\xc8ravZ\\xa8Z\\xce\\xbc\\xe8\\x9e\\xc37\\xea(\\xab\\x9b\\xfb'!\n",
      "INFO:DH:Encrypting message with AES...\n",
      "INFO:DH:\t[Hello World]\n",
      "INFO:DH:\tInitialization Vector created b'\\xc5+\\xbe^\\xd3Zm@\\x1f\\x90\\xb7\\xa1_q\\xe0_'!\n",
      "INFO:DH:\tMessage Encrypted!\n",
      "INFO:DH:\t[b'xSu+XtNabUAfkLehX3HgX6078jdzDYZeU0OhSBKcok0=']\n",
      "INFO:DH:Decrypting message...\n",
      "INFO:DH:\t[b'\\xc5+\\xbe^\\xd3Zm@\\x1f\\x90\\xb7\\xa1_q\\xe0_\\xad;\\xf27s\\r\\x86^SC\\xa1H\\x12\\x9c\\xa2M']\n",
      "INFO:DH:\tInitialization Vector created b'\\xc5+\\xbe^\\xd3Zm@\\x1f\\x90\\xb7\\xa1_q\\xe0_'!\n",
      "INFO:DH:Message Decrypted! Hello World\n"
     ]
    },
    {
     "ename": "AttributeError",
     "evalue": "'BBS' object has no attribute 'next_key'",
     "output_type": "error",
     "traceback": [
      "\u001b[1;31m---------------------------------------------------------------------------\u001b[0m",
      "\u001b[1;31mAttributeError\u001b[0m                            Traceback (most recent call last)",
      "\u001b[1;32m<ipython-input-2-36b1f26bb679>\u001b[0m in \u001b[0;36m<module>\u001b[1;34m\u001b[0m\n\u001b[0;32m     17\u001b[0m     \u001b[0menc\u001b[0m \u001b[1;33m=\u001b[0m \u001b[0mdh_a\u001b[0m\u001b[1;33m.\u001b[0m\u001b[0mencrypt\u001b[0m\u001b[1;33m(\u001b[0m\u001b[0mmessage\u001b[0m\u001b[1;33m)\u001b[0m\u001b[1;33m\u001b[0m\u001b[1;33m\u001b[0m\u001b[0m\n\u001b[0;32m     18\u001b[0m     \u001b[0mdec\u001b[0m \u001b[1;33m=\u001b[0m \u001b[0mdh_b\u001b[0m\u001b[1;33m.\u001b[0m\u001b[0mdecrypt\u001b[0m\u001b[1;33m(\u001b[0m\u001b[0menc\u001b[0m\u001b[1;33m)\u001b[0m\u001b[1;33m\u001b[0m\u001b[1;33m\u001b[0m\u001b[0m\n\u001b[1;32m---> 19\u001b[1;33m     \u001b[0mbbs_a\u001b[0m\u001b[1;33m.\u001b[0m\u001b[0mnext_key\u001b[0m\u001b[1;33m(\u001b[0m\u001b[1;33m)\u001b[0m\u001b[1;33m\u001b[0m\u001b[1;33m\u001b[0m\u001b[0m\n\u001b[0m\u001b[0;32m     20\u001b[0m     \u001b[0mbbs_b\u001b[0m\u001b[1;33m.\u001b[0m\u001b[0mnext_key\u001b[0m\u001b[1;33m(\u001b[0m\u001b[1;33m)\u001b[0m\u001b[1;33m\u001b[0m\u001b[1;33m\u001b[0m\u001b[0m\n",
      "\u001b[1;31mAttributeError\u001b[0m: 'BBS' object has no attribute 'next_key'"
     ]
    }
   ],
   "source": [
    "key_1 = sympy.randprime(2**17,2**18)\n",
    "key_2 = DH.primRoots(key_1)[0]\n",
    "\n",
    "dh_a = DH(key_2,key_1)\n",
    "dh_b = DH(key_2,key_1)\n",
    "messages = ['Hello World','This is a secret message','come here']\n",
    "\n",
    "for message in messages:\n",
    "    dh_a.create_shared_key()\n",
    "    dh_b.create_shared_key()\n",
    "    dh_a.create_full_key(dh_b.shared_key)\n",
    "    dh_b.create_full_key(dh_a.shared_key)\n",
    "    enc = dh_a.encrypt(message)\n",
    "    dec = dh_b.decrypt(enc)\n",
    "    dh_a.next_key()\n",
    "    dh_b.next_key()"
   ]
  },
  {
   "cell_type": "markdown",
   "metadata": {},
   "source": [
    "#### "
   ]
  },
  {
   "cell_type": "markdown",
   "metadata": {},
   "source": [
    "##### "
   ]
  }
 ],
 "metadata": {
  "kernelspec": {
   "display_name": "Python 3",
   "language": "python",
   "name": "python3"
  },
  "language_info": {
   "codemirror_mode": {
    "name": "ipython",
    "version": 3
   },
   "file_extension": ".py",
   "mimetype": "text/x-python",
   "name": "python",
   "nbconvert_exporter": "python",
   "pygments_lexer": "ipython3",
   "version": "3.8.6rc1"
  }
 },
 "nbformat": 4,
 "nbformat_minor": 4
}
