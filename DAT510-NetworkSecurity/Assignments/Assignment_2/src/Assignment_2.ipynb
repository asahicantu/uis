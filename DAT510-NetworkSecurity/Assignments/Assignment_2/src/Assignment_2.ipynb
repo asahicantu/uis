{
 "cells": [
  {
   "cell_type": "markdown",
   "metadata": {},
   "source": [
    "# Part 1 - Cryptographic primitives implementation\n",
    "\n",
    "## Consists of:\n",
    "* Diphie-Hellman key exchange\n",
    "* Blum Blum Shub Pseudorandom Number Generator"
   ]
  },
  {
   "cell_type": "markdown",
   "metadata": {},
   "source": [
    "### Diphie - Hellman implementation test:\n"
   ]
  },
  {
   "cell_type": "code",
   "execution_count": 3,
   "metadata": {},
   "outputs": [],
   "source": [
    "import importlib\n",
    "from DH import DH\n",
    "from BBS import BBS\n",
    "import sympy\n",
    "import random\n",
    "from Cryptodome.Cipher import AES"
   ]
  },
  {
   "cell_type": "code",
   "execution_count": 4,
   "metadata": {},
   "outputs": [
    {
     "name": "stderr",
     "output_type": "stream",
     "text": [
      "INFO:DH:Initializing Diffie–Hellman key exchange...\n",
      "INFO:DH:\tPublic key1: 14\n",
      "INFO:DH:\tPublic key2: 176641\n",
      "INFO:DH:\tPrivate key: 5733\n",
      "INFO:DH:Initializing Diffie–Hellman key exchange...\n",
      "INFO:DH:\tPublic key1: 14\n",
      "INFO:DH:\tPublic key2: 176641\n",
      "INFO:DH:\tPrivate key: 4686\n",
      "INFO:DH:Creating Shared key...\n",
      "INFO:DH:\t Shared key created 132855\n",
      "INFO:DH:Creating Shared key...\n",
      "INFO:DH:\t Shared key created 105482\n",
      "INFO:DH:Creating full key...\n",
      "INFO:DH:\tFull Key created 108185!\n",
      "INFO:DH:\tAfter SHA Key created b'\\x0f:\\x00~\\xa6Ch\\xeba\\x8a\\xc7M\\xa7A\\xc7\\xcd\\x89\\x168\\xcaeR\\xb9bS)\\x0c\\\\\\xa2\\xa8\\xef\\\\'!\n",
      "INFO:DH:Creating full key...\n",
      "INFO:DH:\tFull Key created 108185!\n",
      "INFO:DH:\tAfter SHA Key created b'\\x0f:\\x00~\\xa6Ch\\xeba\\x8a\\xc7M\\xa7A\\xc7\\xcd\\x89\\x168\\xcaeR\\xb9bS)\\x0c\\\\\\xa2\\xa8\\xef\\\\'!\n",
      "INFO:DH:Encrypting message with AES...\n",
      "INFO:DH:\t[Hello World]\n",
      "INFO:DH:\tInitialization Vector created b'-\\xcb\\x12\\xfc\\xb5e?e\\xb7\\x0c%\\xea\\xe8\\x131\\x85'!\n",
      "INFO:DH:\tMessage Encrypted!\n",
      "INFO:DH:\t[b'LcsS/LVlP2W3DCXq6BMxheesWF2Nbc5RHcjXJHKdSVM=']\n",
      "INFO:DH:Decrypting message...\n",
      "INFO:DH:\t[b'-\\xcb\\x12\\xfc\\xb5e?e\\xb7\\x0c%\\xea\\xe8\\x131\\x85\\xe7\\xacX]\\x8dm\\xceQ\\x1d\\xc8\\xd7$r\\x9dIS']\n",
      "INFO:DH:\tInitialization Vector created b'-\\xcb\\x12\\xfc\\xb5e?e\\xb7\\x0c%\\xea\\xe8\\x131\\x85'!\n",
      "INFO:DH:Message Decrypted! Hello World\n",
      "INFO:DH:Setting seed for next private key with shared key 132855...\n",
      "INFO:DH:Creating Shared key...\n",
      "INFO:DH:\t Shared key created 57091\n",
      "INFO:DH:Setting seed for next private key with shared key 105482...\n",
      "INFO:DH:Creating Shared key...\n",
      "INFO:DH:\t Shared key created 125766\n",
      "INFO:DH:Creating Shared key...\n",
      "INFO:DH:\t Shared key created 57091\n",
      "INFO:DH:Creating Shared key...\n",
      "INFO:DH:\t Shared key created 125766\n",
      "INFO:DH:Creating full key...\n",
      "INFO:DH:\tFull Key created 62424!\n",
      "INFO:DH:\tAfter SHA Key created b\"\\xf7\\x91\\x05&\\xeea\\xdb\\xce\\xc4\\xb3I5\\x95\\xf8\\x9b\\xf9%N~\\xba\\xaf\\x1c\\x8a\\xa6'\\xbe\\x06\\xac\\x81,3v\"!\n",
      "INFO:DH:Creating full key...\n",
      "INFO:DH:\tFull Key created 62424!\n",
      "INFO:DH:\tAfter SHA Key created b\"\\xf7\\x91\\x05&\\xeea\\xdb\\xce\\xc4\\xb3I5\\x95\\xf8\\x9b\\xf9%N~\\xba\\xaf\\x1c\\x8a\\xa6'\\xbe\\x06\\xac\\x81,3v\"!\n",
      "INFO:DH:Encrypting message with AES...\n",
      "INFO:DH:\t[This is a secret message]\n",
      "INFO:DH:\tInitialization Vector created b'8\\xb2\\xe3@\\x82D\\xdf\\x90\\xb5\\xaa\\xd7\\x19\\xees?\\x9f'!\n",
      "INFO:DH:\tMessage Encrypted!\n",
      "INFO:DH:\t[b'OLLjQIJE35C1qtcZ7nM/n7h9CS+udubX4CFx25yKsge8Aa6R7dxo2qfcJSqPUIlg']\n",
      "INFO:DH:Decrypting message...\n",
      "INFO:DH:\t[b'8\\xb2\\xe3@\\x82D\\xdf\\x90\\xb5\\xaa\\xd7\\x19\\xees?\\x9f\\xb8}\\t/\\xaev\\xe6\\xd7\\xe0!q\\xdb\\x9c\\x8a\\xb2\\x07\\xbc\\x01\\xae\\x91\\xed\\xdch\\xda\\xa7\\xdc%*\\x8fP\\x89`']\n",
      "INFO:DH:\tInitialization Vector created b'8\\xb2\\xe3@\\x82D\\xdf\\x90\\xb5\\xaa\\xd7\\x19\\xees?\\x9f'!\n",
      "INFO:DH:Message Decrypted! This is a secret message\n",
      "INFO:DH:Setting seed for next private key with shared key 57091...\n",
      "INFO:DH:Creating Shared key...\n",
      "INFO:DH:\t Shared key created 127723\n",
      "INFO:DH:Setting seed for next private key with shared key 125766...\n",
      "INFO:DH:Creating Shared key...\n",
      "INFO:DH:\t Shared key created 96393\n",
      "INFO:DH:Creating Shared key...\n",
      "INFO:DH:\t Shared key created 127723\n",
      "INFO:DH:Creating Shared key...\n",
      "INFO:DH:\t Shared key created 96393\n",
      "INFO:DH:Creating full key...\n",
      "INFO:DH:\tFull Key created 176141!\n",
      "INFO:DH:\tAfter SHA Key created b'\\xc5\\xbc\\xfc%\\x9a\\xc0VV\\xe2\\xcd\\xe4\\xa6FK\\x07k\\x96\\x89\\xad\\x91\\x88\\r\\xcd\\x92\\xe06S\\xcb\\xbb$\\xc2\\x16'!\n",
      "INFO:DH:Creating full key...\n",
      "INFO:DH:\tFull Key created 176141!\n",
      "INFO:DH:\tAfter SHA Key created b'\\xc5\\xbc\\xfc%\\x9a\\xc0VV\\xe2\\xcd\\xe4\\xa6FK\\x07k\\x96\\x89\\xad\\x91\\x88\\r\\xcd\\x92\\xe06S\\xcb\\xbb$\\xc2\\x16'!\n",
      "INFO:DH:Encrypting message with AES...\n",
      "INFO:DH:\t[come here]\n",
      "INFO:DH:\tInitialization Vector created b'\\x843)\\x1e\\xc6g\\xfcB\\x919 \\x1aT00\\x0b'!\n",
      "INFO:DH:\tMessage Encrypted!\n",
      "INFO:DH:\t[b'hDMpHsZn/EKROSAaVDAwC8lNJDyiN2dr1S47iqnb3V4=']\n",
      "INFO:DH:Decrypting message...\n",
      "INFO:DH:\t[b'\\x843)\\x1e\\xc6g\\xfcB\\x919 \\x1aT00\\x0b\\xc9M$<\\xa27gk\\xd5.;\\x8a\\xa9\\xdb\\xdd^']\n",
      "INFO:DH:\tInitialization Vector created b'\\x843)\\x1e\\xc6g\\xfcB\\x919 \\x1aT00\\x0b'!\n",
      "INFO:DH:Message Decrypted! come here\n",
      "INFO:DH:Setting seed for next private key with shared key 127723...\n",
      "INFO:DH:Creating Shared key...\n",
      "INFO:DH:\t Shared key created 101267\n",
      "INFO:DH:Setting seed for next private key with shared key 96393...\n",
      "INFO:DH:Creating Shared key...\n",
      "INFO:DH:\t Shared key created 2728\n"
     ]
    }
   ],
   "source": [
    "key_1 = sympy.randprime(2**17,2**18)\n",
    "key_2 = DH.primRoots(key_1)[0]\n",
    "\n",
    "dh_a = DH(key_2,key_1)\n",
    "dh_b = DH(key_2,key_1)\n",
    "messages = ['Hello World','This is a secret message','come here']\n",
    "\n",
    "for message in messages:\n",
    "    dh_a.create_shared_key()\n",
    "    dh_b.create_shared_key()\n",
    "    dh_a.create_full_key(dh_b.shared_key)\n",
    "    dh_b.create_full_key(dh_a.shared_key)\n",
    "    enc = dh_a.encrypt(message)\n",
    "    dec = dh_b.decrypt(enc)\n",
    "    dh_a.next_key()\n",
    "    dh_b.next_key()"
   ]
  },
  {
   "cell_type": "markdown",
   "metadata": {},
   "source": [
    "#### "
   ]
  },
  {
   "cell_type": "markdown",
   "metadata": {},
   "source": [
    "##### "
   ]
  }
 ],
 "metadata": {
  "kernelspec": {
   "display_name": "Python 3",
   "language": "python",
   "name": "python3"
  },
  "language_info": {
   "codemirror_mode": {
    "name": "ipython",
    "version": 3
   },
   "file_extension": ".py",
   "mimetype": "text/x-python",
   "name": "python",
   "nbconvert_exporter": "python",
   "pygments_lexer": "ipython3",
   "version": "3.8.6rc1"
  }
 },
 "nbformat": 4,
 "nbformat_minor": 4
}
