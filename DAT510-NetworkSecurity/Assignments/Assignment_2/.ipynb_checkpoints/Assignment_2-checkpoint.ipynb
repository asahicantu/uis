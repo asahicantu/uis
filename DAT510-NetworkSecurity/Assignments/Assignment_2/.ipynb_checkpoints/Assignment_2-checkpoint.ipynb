{
 "cells": [
  {
   "cell_type": "markdown",
   "metadata": {},
   "source": [
    "# Part 1 - Cryptographic primitives implementation\n",
    "\n",
    "## Consists of:\n",
    "* Diphie-Hellman key exchange\n",
    "* Blum Blum Shub Pseudorandom Number Generator\n",
    "* BigPrime library which generates big prime numbers\n",
    "\n",
    "\n"
   ]
  },
  {
   "cell_type": "markdown",
   "metadata": {},
   "source": [
    "### Diphie - Hellman implementation test:\n"
   ]
  },
  {
   "cell_type": "code",
   "execution_count": 7,
   "metadata": {},
   "outputs": [],
   "source": [
    "import importlib\n",
    "from DH import DH\n",
    "from BBS import BBS\n",
    "import sympy\n",
    "import random\n",
    "import BigPrime as bp\n",
    "from Cryptodome.Cipher import AES"
   ]
  },
  {
   "cell_type": "code",
   "execution_count": 8,
   "metadata": {},
   "outputs": [
    {
     "name": "stderr",
     "output_type": "stream",
     "text": [
      "INFO:DH:Initializing Diffie–Hellman key exchange...\n",
      "INFO:DH:\tPublic key1: 5\n",
      "INFO:DH:\tPublic key2: 234383\n",
      "INFO:DH:\tPrivate key: 3594\n",
      "INFO:DH:Initializing Diffie–Hellman key exchange...\n",
      "INFO:DH:\tPublic key1: 5\n",
      "INFO:DH:\tPublic key2: 234383\n",
      "INFO:DH:\tPrivate key: 61722\n",
      "INFO:DH:Creating Shared key...\n",
      "INFO:DH:\t Shared key created 75862\n",
      "INFO:DH:Creating Shared key...\n",
      "INFO:DH:\t Shared key created 16195\n",
      "INFO:DH:Creating full key...\n",
      "INFO:DH:\tFull Key created 65982!\n",
      "INFO:DH:\tAfter SHA Key created b'6\\xc1z\\xe5)\\x11\\xd5\\x9a\\x8d\\xa6\\x90\\x97\\x84_+\\xa3]\\x99\\x80\\xab\\xc6k\\xa3\\xe5\\xc02\\xc4MIx\\x88)'!\n",
      "INFO:DH:Creating full key...\n",
      "INFO:DH:\tFull Key created 65982!\n",
      "INFO:DH:\tAfter SHA Key created b'6\\xc1z\\xe5)\\x11\\xd5\\x9a\\x8d\\xa6\\x90\\x97\\x84_+\\xa3]\\x99\\x80\\xab\\xc6k\\xa3\\xe5\\xc02\\xc4MIx\\x88)'!\n",
      "INFO:DH:Encrypting message with AES...\n",
      "INFO:DH:\t[Hello World]\n",
      "INFO:DH:\tInitialization Vector created b'z\\xf33l\\x08\\x14\\xd4\\\\\\xfa;\\xbdWI\\x8f\\x04!'!\n",
      "INFO:DH:\tMessage Encrypted!\n",
      "INFO:DH:\t[b'evMzbAgU1Fz6O71XSY8EIeSPJfV/3OTiPXe6bhknhGI=']\n",
      "INFO:DH:Decrypting message...\n",
      "INFO:DH:\t[b\"z\\xf33l\\x08\\x14\\xd4\\\\\\xfa;\\xbdWI\\x8f\\x04!\\xe4\\x8f%\\xf5\\x7f\\xdc\\xe4\\xe2=w\\xban\\x19'\\x84b\"]\n",
      "INFO:DH:\tInitialization Vector created b'z\\xf33l\\x08\\x14\\xd4\\\\\\xfa;\\xbdWI\\x8f\\x04!'!\n",
      "INFO:DH:Message Decrypted! Hello World\n",
      "INFO:DH:Initializing Diffie–Hellman key exchange...\n",
      "INFO:DH:\tPublic key1: 5\n",
      "INFO:DH:\tPublic key2: 234383\n",
      "INFO:DH:\tPrivate key: 9275\n",
      "INFO:DH:Initializing Diffie–Hellman key exchange...\n",
      "INFO:DH:\tPublic key1: 5\n",
      "INFO:DH:\tPublic key2: 234383\n",
      "INFO:DH:\tPrivate key: 38820\n",
      "INFO:DH:Creating Shared key...\n",
      "INFO:DH:\t Shared key created 202310\n",
      "INFO:DH:Creating Shared key...\n",
      "INFO:DH:\t Shared key created 199844\n",
      "INFO:DH:Creating full key...\n",
      "INFO:DH:\tFull Key created 73551!\n",
      "INFO:DH:\tAfter SHA Key created b'\\x98\\x87\\xd4 i\\x84e\\x85\\x1b1x\\xe44a\\xe9=V\\x99\\x1c.\\xde\\xdc\\x8a7%\\x1b\\xf6\\xed\\t\\xd6\\xe2\\xc1'!\n",
      "INFO:DH:Creating full key...\n",
      "INFO:DH:\tFull Key created 73551!\n",
      "INFO:DH:\tAfter SHA Key created b'\\x98\\x87\\xd4 i\\x84e\\x85\\x1b1x\\xe44a\\xe9=V\\x99\\x1c.\\xde\\xdc\\x8a7%\\x1b\\xf6\\xed\\t\\xd6\\xe2\\xc1'!\n",
      "INFO:DH:Encrypting message with AES...\n",
      "INFO:DH:\t[This is a secret message]\n",
      "INFO:DH:\tInitialization Vector created b'\\x1b\\x19\\x0c\\xeen\\xd26oJ\\xe4~w0{\\xf9\\x15'!\n",
      "INFO:DH:\tMessage Encrypted!\n",
      "INFO:DH:\t[b'GxkM7m7SNm9K5H53MHv5FYNwiz8t+gtpeYH6BsZdIwRW7yqdsxjC1UHsklaZVPlH']\n",
      "INFO:DH:Decrypting message...\n",
      "INFO:DH:\t[b'\\x1b\\x19\\x0c\\xeen\\xd26oJ\\xe4~w0{\\xf9\\x15\\x83p\\x8b?-\\xfa\\x0biy\\x81\\xfa\\x06\\xc6]#\\x04V\\xef*\\x9d\\xb3\\x18\\xc2\\xd5A\\xec\\x92V\\x99T\\xf9G']\n",
      "INFO:DH:\tInitialization Vector created b'\\x1b\\x19\\x0c\\xeen\\xd26oJ\\xe4~w0{\\xf9\\x15'!\n",
      "INFO:DH:Message Decrypted! This is a secret message\n",
      "INFO:DH:Initializing Diffie–Hellman key exchange...\n",
      "INFO:DH:\tPublic key1: 5\n",
      "INFO:DH:\tPublic key2: 234383\n",
      "INFO:DH:\tPrivate key: 1079\n",
      "INFO:DH:Initializing Diffie–Hellman key exchange...\n",
      "INFO:DH:\tPublic key1: 5\n",
      "INFO:DH:\tPublic key2: 234383\n",
      "INFO:DH:\tPrivate key: 419\n",
      "INFO:DH:Creating Shared key...\n",
      "INFO:DH:\t Shared key created 71765\n",
      "INFO:DH:Creating Shared key...\n",
      "INFO:DH:\t Shared key created 114541\n",
      "INFO:DH:Creating full key...\n",
      "INFO:DH:\tFull Key created 233125!\n",
      "INFO:DH:\tAfter SHA Key created b'\\xdc+\\xa5g\\x01\\x85\\x93\\xe6\\x91\\xb1\\x0b0\\xbd\\x99\\xaf\\x94\\x1c\\xed\\xe5T\\x92\\x0fv2ow8(\\xacS<<'!\n",
      "INFO:DH:Creating full key...\n",
      "INFO:DH:\tFull Key created 233125!\n",
      "INFO:DH:\tAfter SHA Key created b'\\xdc+\\xa5g\\x01\\x85\\x93\\xe6\\x91\\xb1\\x0b0\\xbd\\x99\\xaf\\x94\\x1c\\xed\\xe5T\\x92\\x0fv2ow8(\\xacS<<'!\n",
      "INFO:DH:Encrypting message with AES...\n",
      "INFO:DH:\t[come here]\n",
      "INFO:DH:\tInitialization Vector created b'\\x1f\\xf1\\xbf\\xde3\\x80\\xe9\\xc5\\x82\\xe5\\xec\\xef\\x11\\xc0\\x85\\xda'!\n",
      "INFO:DH:\tMessage Encrypted!\n",
      "INFO:DH:\t[b'H/G/3jOA6cWC5ezvEcCF2irzXJgGuT+T7XQLCs1BiMU=']\n",
      "INFO:DH:Decrypting message...\n",
      "INFO:DH:\t[b'\\x1f\\xf1\\xbf\\xde3\\x80\\xe9\\xc5\\x82\\xe5\\xec\\xef\\x11\\xc0\\x85\\xda*\\xf3\\\\\\x98\\x06\\xb9?\\x93\\xedt\\x0b\\n\\xcdA\\x88\\xc5']\n",
      "INFO:DH:\tInitialization Vector created b'\\x1f\\xf1\\xbf\\xde3\\x80\\xe9\\xc5\\x82\\xe5\\xec\\xef\\x11\\xc0\\x85\\xda'!\n",
      "INFO:DH:Message Decrypted! come here\n"
     ]
    }
   ],
   "source": [
    "bbs_a = BBS(128)\n",
    "bbs_b = BBS(128)\n",
    "key_1 = sympy.randprime(2**17,2**18)\n",
    "key_2 = bp.primRoots(key_1)[0]\n",
    "pk_a = bbs_a.next(16)\n",
    "pk_b = bbs_a.next(16)\n",
    "\n",
    "messages = ['Hello World','This is a secret message','come here']\n",
    "for message in messages:\n",
    "    dh_a = DH(key_2,key_1,pk_a)\n",
    "    dh_b = DH(key_2,key_1,pk_b)\n",
    "    dh_a.create_shared_key()\n",
    "    dh_b.create_shared_key()\n",
    "    dh_a.create_full_key(dh_b.shared_key)\n",
    "    dh_b.create_full_key(dh_a.shared_key)\n",
    "    enc = dh_a.encrypt(message)\n",
    "    dec = dh_b.decrypt(enc)\n",
    "    bbs_a.setSeed(dh_a.shared_key)\n",
    "    bbs_b.setSeed(dh_b.shared_key)\n",
    "    pk_a = bbs_a.next(16)\n",
    "    pk_b = bbs_a.next(16)\n"
   ]
  },
  {
   "cell_type": "markdown",
   "metadata": {},
   "source": [
    "#### "
   ]
  },
  {
   "cell_type": "markdown",
   "metadata": {},
   "source": [
    "##### "
   ]
  }
 ],
 "metadata": {
  "kernelspec": {
   "display_name": "Python 3",
   "language": "python",
   "name": "python3"
  },
  "language_info": {
   "codemirror_mode": {
    "name": "ipython",
    "version": 3
   },
   "file_extension": ".py",
   "mimetype": "text/x-python",
   "name": "python",
   "nbconvert_exporter": "python",
   "pygments_lexer": "ipython3",
   "version": "3.8.6rc1"
  }
 },
 "nbformat": 4,
 "nbformat_minor": 4
}
