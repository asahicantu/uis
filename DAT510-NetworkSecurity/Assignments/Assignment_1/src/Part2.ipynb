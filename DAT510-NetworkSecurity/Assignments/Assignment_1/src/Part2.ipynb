{
 "metadata": {
  "language_info": {
   "codemirror_mode": {
    "name": "ipython",
    "version": 3
   },
   "file_extension": ".py",
   "mimetype": "text/x-python",
   "name": "python",
   "nbconvert_exporter": "python",
   "pygments_lexer": "ipython3",
   "version": "3.8.5-final"
  },
  "orig_nbformat": 2,
  "kernelspec": {
   "name": "python_defaultSpec_1600151723096",
   "display_name": "Python 3.8.5 32-bit ('prime': venv)"
  }
 },
 "nbformat": 4,
 "nbformat_minor": 2,
 "cells": [
  {
   "cell_type": "markdown",
   "metadata": {},
   "source": [
    "# DAT-510 Network Security and  reliability\n",
    "## Asahi  Cantu Moreno\n",
    "## 253964\n",
    "\n",
    "# Part II. Simplified DES\n",
    "\n",
    "In this section, you will implement a simplified version of the DES block cipher algorithm. Naturally\n",
    "enough, it is called SDES, and it is designed to have the features of the DES algorithm but scaled down\n",
    "so it is more tractable to understand. (Note however, that SDES is in no way secure and should not\n",
    "be used for serious cryptographic applications.)\n",
    "\n",
    "* SDES encryption takes a 10 bit raw key (from which two 8 bit keys are generated as described in the\n",
    "handout)\n",
    "* Encrypts an 8 bit plaintext to produce an 8 bit ciphertext.\n",
    "\n",
    "#### Important:\n",
    "**SDES Algorithm is implemented as class SDES in file SDES.py**"
   ]
  },
  {
   "cell_type": "code",
   "execution_count": 1,
   "metadata": {},
   "outputs": [],
   "source": [
    "from SDES import SDES\n",
    "import time"
   ]
  },
  {
   "source": [
    "### Tests\n",
    "* To verify that your implementation of SDES is correct, try the following test cases:\n",
    "\n",
    "| Raw Key    | PlainText  | CipherText  |\n",
    "| ---        | --- | --- |\n",
    "| 0000000000 | 10101010  | 00010001  |\n",
    "| 1110001110 | 10101010  | 11001010  |\n",
    "| 1110001110 | 01010101  | 01110000  |\n",
    "| 1111111111 | 10101010  | 00000100  |\n",
    "---\n"
   ],
   "cell_type": "markdown",
   "metadata": {}
  },
  {
   "cell_type": "code",
   "execution_count": 2,
   "metadata": {
    "tags": []
   },
   "outputs": [
    {
     "output_type": "stream",
     "name": "stdout",
     "text": "0000000000 10101010  = 00010001 == 00010001?  True\n1110001110 10101010  = 11001010 == 11001010?  True\n1110001110 01010101  = 01110000 == 01110000?  True\n1111111111 10101010  = 00000100 == 00000100?  True\n"
    }
   ],
   "source": [
    "keys = ['0000000000',\n",
    "        '1110001110',\n",
    "        '1110001110',\n",
    "        '1111111111']\n",
    "\n",
    "texts = ['10101010',\n",
    "        '10101010',\n",
    "        '01010101',\n",
    "        '10101010']\n",
    "        \n",
    "\n",
    "ciphers = [\n",
    "    '00010001',\n",
    "    '11001010',\n",
    "    '01110000',\n",
    "    '00000100']\n",
    "\n",
    "\n",
    "sdes = SDES()\n",
    "for i in range(len(keys)):\n",
    "    cipher = sdes.encrypt(texts[i],keys[i])\n",
    "    print(f'{keys[i]} {texts[i]}  = {cipher} == {ciphers[i]}?  {cipher == ciphers[i]}')"
   ]
  },
  {
   "cell_type": "code",
   "execution_count": 3,
   "metadata": {
    "tags": []
   },
   "outputs": [
    {
     "output_type": "stream",
     "name": "stdout",
     "text": "Raw key\tPlainText\tCipherText\n0000000000\t10101010\t00010001\n0000011111\t11111100\t10011101\n0010011111\t10100101\t10010000\n0010011111\t01010101\t11001100\n1111111111\t11111111\t00001111\n1111111111\t01100001\t01000011\n1000101110\t00111000\t00011100\n1000101110\t00001100\t11000010\n"
    }
   ],
   "source": [
    "keys = [\n",
    "    '0000000000',\n",
    "    '0000011111',\n",
    "    '0010011111',\n",
    "    '0010011111',\n",
    "    '1111111111',\n",
    "    '1111111111',\n",
    "    '1000101110',\n",
    "    '1000101110']\n",
    "\n",
    "texts = [\n",
    "    '10101010',\n",
    "    '11111100',\n",
    "    '10100101',\n",
    "    '01010101',\n",
    "    None,\n",
    "    None,\n",
    "    None,\n",
    "    None]\n",
    "\n",
    "ciphers = [\n",
    "    None,\n",
    "    None,\n",
    "    None,\n",
    "    None,\n",
    "    '00001111',\n",
    "    '01000011',\n",
    "    '00011100',\n",
    "    '11000010']\n",
    "\n",
    "for i in range(len(keys)):\n",
    "    if texts[i] is None:\n",
    "        texts[i] = sdes.decrypt(ciphers[i],keys[i])\n",
    "    else:\n",
    "        ciphers[i] = sdes.encrypt(texts[i],keys[i])\n",
    "print('Raw key\\tPlainText\\tCipherText')\n",
    "for i in range(len(keys)):\n",
    "    print(f'{keys[i]}\\t{texts[i]}\\t{ciphers[i]}')\n"
   ]
  },
  {
   "cell_type": "markdown",
   "metadata": {},
   "source": [
    "## Task1.\n",
    "Use your implementation to complete the following table:\n",
    "\n",
    "| Raw Key    | PlainText  | CipherText |\n",
    "| ---        |:---:       |:---:       |\n",
    "| 0000000000 | 10101010  | 00010001  |\n",
    "| 0000011111 | 11111100  | 10011101  |\n",
    "| 0010011111 | 10100101  | 10010000  |\n",
    "| 0010011111 | 01010101  | 11001100  |\n",
    "| 1111111111 | 11111111  | 00001111  |\n",
    "| 1111111111 | 01100001  | 01000011  |\n",
    "| 1000101110 | 00111000  | 00011100  |\n",
    "| 1000101110 | 00001100  | 11000010  |\n",
    "\n",
    "---\n",
    "\n",
    "The DES algorithm uses keys of length 56 bits, which, when DES was originally designed, was thought\n",
    "to be secure enough to meet most needs. However, due to Moores law, the increase in computing\n",
    "power makes it more tractible to brute-force crack a 56-bit key. Thus, an alternative version of DES\n",
    "using longer keys was desirable. The result, known as Triple DES uses two 56-bit raw keys k1 and k2\n",
    "and is implemented by composing DES with itself three times in the following way\n",
    "\n",
    "$Enc_{3DES}(p)=Enc_{DES}(k_1,Dec_{DES}(k_2,Enc_{DES}(k_1,p)))$\n",
    "\n",
    "Here, p is the paintext to encrypt, $Enc_{DES}$ is the usuarl DES encryption algorithm and $Dec_{DES}$ is the DES encryption algorithm. This strategy doubles the number of bits in the key, at the expense of performing three times as many calculations.\n",
    "\n",
    "The tripleDES decryption algorithm is just the reverse:\n",
    "\n",
    "$Dec_{3DES(c)}=Dec_{DES}(k_1,Enc_{DES}(k_2,Dec_{DES}(k_1,c)))$\n"
   ]
  },
  {
   "cell_type": "code",
   "execution_count": 4,
   "metadata": {
    "tags": []
   },
   "outputs": [
    {
     "output_type": "stream",
     "name": "stdout",
     "text": "Raw key 1\tRaw key 2\tPlainText\tCipherText\n1000101110\t0110101110\t11010111\t10111001\n1000101110\t0110101110\t10101010\t11100100\n1111111111\t1111111111\t00000000\t11101011\n0000000000\t0000000000\t01010010\t10000000\n1000010110\t0110101110\t11111100\t11100110\n1011101111\t0110101110\t01001111\t01010000\n1111111111\t1111111111\t10101010\t00000100\n0000000000\t0000000000\t00000000\t11110000\n"
    }
   ],
   "source": [
    "keys = [\n",
    "['1000101110','0110101110'],\n",
    "['1000101110','0110101110'],\n",
    "['1111111111','1111111111'],\n",
    "['0000000000','0000000000'],\n",
    "['1000010110','0110101110'],\n",
    "['1011101111','0110101110'],\n",
    "['1111111111','1111111111'],\n",
    "['0000000000','0000000000']]\n",
    "\n",
    "texts = [\n",
    "    '11010111',\n",
    "    '10101010',\n",
    "    '00000000',\n",
    "    '01010010',\n",
    "    None,\n",
    "    None,\n",
    "    None,\n",
    "    None]\n",
    "\n",
    "\n",
    "ciphers = [\n",
    "    None,\n",
    "    None,\n",
    "    None,\n",
    "    None,\n",
    "    '11100110',\n",
    "    '01010000',\n",
    "    '00000100',\n",
    "    '11110000']\n",
    "\n",
    "for i in range(len(keys)):\n",
    "    if texts[i] is None:\n",
    "        texts[i] = sdes.decrypt3SDES(ciphers[i],keys[i][0],keys[i][1])\n",
    "    else:\n",
    "        ciphers[i] = sdes.encrypt3SDES(texts[i],keys[i][0],keys[i][1])\n",
    "print('Raw key 1\\tRaw key 2\\tPlainText\\tCipherText')\n",
    "for i in range(len(keys)):\n",
    "    print(f'{keys[i][0]}\\t{keys[i][1]}\\t{texts[i]}\\t{ciphers[i]}')\n",
    "\n",
    "\n"
   ]
  },
  {
   "source": [
    "## Task2.\n",
    "Implement a class called TripleSDES and complete thefollowing table:\n",
    "\n",
    "| Raw Key  1  | Raw Key 2  | PlainText |CipherText |\n",
    "| ---        |:---:       |:---:       |:---:       |\n",
    "| 1000101110 | 0110101110  | 11010111 |    10111001     |\n",
    "| 1000101110 | 0110101110  | 10101010 |    11100100     |\n",
    "| 1111111111 | 1111111111  | 00000000 |    11101011     |\n",
    "| 0000000000 | 0000000000  | 01010010 |    10000000     |\n",
    "| 1000010110 | 0110101110  | 11111100 |    11100110     |\n",
    "| 1011101111 | 0110101110  | 01001111 |    01010000     |\n",
    "| 1111111111 | 1111111111  | 10101010 |    00000100     |\n",
    "| 0000000000 | 0000000000  | 00000000 |    11110000     |\n",
    "\n",
    "---\n"
   ],
   "cell_type": "markdown",
   "metadata": {}
  },
  {
   "source": [
    "## Task3.\n",
    "#### Cracking SDES and TripleSDES\n",
    "\n",
    "* The message in the file cxt1.txt was encoded using SDES. Decrypt it, and find the 10-bit raw\n",
    "key used for its encryption.\n",
    "\n",
    "* The mesage in the file cxt2.txt was encoded using TripleSDES. Decrypt it, and find the two 10-\n",
    "bit raw keys used for its encryption.\n",
    "\n",
    "**Hints**: The ciphertexts are obtained by encrypting the binary string converted from clear message with\n",
    "the standard ASCII code.\n"
   ],
   "cell_type": "markdown",
   "metadata": {}
  },
  {
   "cell_type": "code",
   "execution_count": 7,
   "metadata": {
    "tags": []
   },
   "outputs": [],
   "source": [
    "def readFile(path):\n",
    "    with  open(path) as txt1:\n",
    "        txt = ''.join(txt1.readlines())\n",
    "        txt = txt.replace('\\n','')\n",
    "        txt_list = sdes.split_string(txt,8)\n",
    "    return txt_list\n",
    "\n",
    "\n",
    "\n",
    "# Le'ts try to find the suitable cipher by tyring to crack the code given the most frequent words.\n",
    "eng_word_freq = ['E','T','A','O','I','N','S','R','H','D','L','U','C','M','F','Y','W','G','P','B','V','K','X','Q','J','Z']\n",
    "    "
   ]
  },
  {
   "source": [
    "Let's assume that the first 4 top bytes are somehow representing the letter 'e' or 'E', therefore we can run a brute-force algorithm to try to find the potential keys which given such letter give the expected result."
   ],
   "cell_type": "markdown",
   "metadata": {}
  },
  {
   "cell_type": "code",
   "execution_count": 8,
   "metadata": {
    "tags": []
   },
   "outputs": [
    {
     "output_type": "stream",
     "name": "stdout",
     "text": "{'00000001': 8, '01101110': 8, '01000111': 6, '01001111': 5, '10101111': 5, '10001000': 4, '01110100': 3, '01010111': 3, '10111010': 3, '01001100': 3, '10010111': 3, '11001101': 2, '10010000': 2, '01000000': 1, '11001011': 1, '00001001': 1, '01001010': 1, '00110010': 1}\n"
    }
   ],
   "source": [
    "sdes = SDES()\n",
    "txt = readFile('ctx1.txt')\n",
    "chunks = sdes.get_chunk_text_frequency(txt)\n",
    "print(chunks)"
   ]
  },
  {
   "cell_type": "code",
   "execution_count": 10,
   "metadata": {
    "tags": []
   },
   "outputs": [
    {
     "output_type": "stream",
     "name": "stdout",
     "text": "Candidate key 1111101010  => simplifieddesisnotsecureenoughtoprovideyousufficientsecurity\nElapsed time 0.3178083896636963\n"
    }
   ],
   "source": [
    "\n",
    "start_time = time.time()\n",
    "e_ascii = ['e','E']\n",
    "e_bin = [sdes.int2bin(ord(e),8) for e in e_ascii]\n",
    " #['00000001', '01101110', '01000111', '01001111', '10101111']\n",
    "candidate_e = list(chunks.keys())[:5]\n",
    "last_key = 1024 # int('1111111111',2)\n",
    "decipher_text = {}\n",
    "for key in range(last_key):\n",
    "    key_bin = sdes.int2bin(key,10)\n",
    "    for c_e in candidate_e:\n",
    "        decipher_e = sdes.decrypt(c_e,key_bin)\n",
    "\n",
    "        if decipher_e in e_bin:\n",
    "            e = chr(int(decipher_e,2))\n",
    "            dt = []\n",
    "            is_candidate =  True\n",
    "            for txt_item in txt:\n",
    "                decipher = sdes.decrypt(txt_item,key_bin)\n",
    "                decipher_int = int(decipher,2)\n",
    "                # let's assume that encoded text consists of pure alphabetical ascii letters from 'A'(65) TO 'z' 122B\n",
    "                if decipher_int > 122:\n",
    "                    is_candidate = False\n",
    "                decipher_chr = chr(decipher_int)\n",
    "                dt.append(decipher_chr)\n",
    "            if is_candidate:\n",
    "                decipher_text[key_bin] = ''.join(dt).replace('\\n',' ')\n",
    "                print(f'Candidate key {key_bin}  => {decipher_text[key_bin]}')\n",
    "    key +=1\n",
    "end_time = time.time()\n",
    "print(f'Elapsed time {end_time - start_time} seconds')\n"
   ]
  },
  {
   "source": [
    "Key found for txt1 : **1111101110**  decrypted text: \n",
    "\n",
    "> simplifieddesisnotsecureenoughtoprovideyousufficientsecurity\n",
    "\n",
    "#### Trying now for ctx2.txt"
   ],
   "cell_type": "markdown",
   "metadata": {}
  },
  {
   "source": [
    "txt = readFile('ctx2.txt')\n",
    "chunks = sdes.get_chunk_text_frequency(txt)\n",
    "print(chunks)\n",
    "start_time = time.time() \n",
    "e_ascii = ['e','E']\n",
    "e_bin = [sdes.int2bin(ord(e),8) for e in e_ascii]\n",
    " #['00000001', '01101110', '01000111', '01001111', '10101111']\n",
    "candidate_e = list(chunks.keys())[:5]\n",
    "last_key = 1024 # int('1111111111',2)\n",
    "decipher_text = {}\n",
    "for k1 in range(last_key):\n",
    "    k1_bin = sdes.int2bin(k1,10)\n",
    "    for k2 in range(last_key):\n",
    "        k2_bin = sdes.int2bin(k2,10)\n",
    "        for c_e in candidate_e:\n",
    "            decipher_e = sdes.decrypt3SDES(c_e,k1_bin,k2_bin)\n",
    "\n",
    "            if decipher_e in e_bin:\n",
    "                is_candidate = True\n",
    "                e = chr(int(decipher_e,2))\n",
    "                dt = []\n",
    "                for txt_item in txt:\n",
    "                    decipher = sdes.decrypt3SDES(txt_item,k1_bin,k2_bin)\n",
    "                    # let's assume that encoded text consists of pure alphabetical ascii letters from 'A'(65) TO 'z' 122B\n",
    "                    decipher_int = int(decipher,2)\n",
    "                    if decipher_int > 122:\n",
    "                        is_candidate = False\n",
    "                        break\n",
    "                    decipher_chr = chr(decipher_int)\n",
    "                    dt.append(decipher_chr)\n",
    "                if is_candidate:\n",
    "                    decipher_text[(k1_bin,k2_bin)] = ''.join(dt).replace('\\n',' ')\n",
    "                    print(f'Candidate key [{k1_bin},{k2_bin}]  => {decipher_text[(k1_bin,k2_bin)]}')\n",
    "        k2+=1\n",
    "    k1 +=1\n",
    "end_time = time.time()\n",
    "print(f'Elapsed time {end_time - start_time} seconds')"
   ],
   "cell_type": "code",
   "metadata": {
    "tags": []
   },
   "execution_count": 11,
   "outputs": [
    {
     "output_type": "stream",
     "name": "stdout",
     "text": "{'10100111': 8, '10011100': 8, '00000001': 6, '10100001': 5, '01111110': 5, '11011010': 4, '11010111': 3, '01110100': 3, '10011001': 3, '11101111': 3, '00100100': 3, '11000110': 2, '01000001': 2, '00110010': 1, '01100100': 1, '10100000': 1, '10110011': 1, '00100011': 1}\nCandidate key [1111101010,0101011111]  => simplifieddesisnotsecureenoughtoprovideyousufficientsecurity\nElapsed time 636.6930632591248 seconds\n"
    }
   ]
  },
  {
   "source": [
    "Key found for txt1 :  **\\[ 1111101010,0101011111 \\]** decrypted text:\n",
    "\n",
    ">> simplifieddesisnotsecureenoughtoprovideyousufficientsecurity"
   ],
   "cell_type": "markdown",
   "metadata": {}
  },
  {
   "source": [
    "## Task4.\n",
    "\n",
    "Create a simple webserver which already stores two Raw keys (1000101110 - 0110101110) and can decrypt any ciphertext coming to it by that key using TripleSDES which you have already created and show the result in the browser. This is a simple end to end encryption. How strong is the security in this type of communication?\n",
    "\n",
    "**Example:**\n",
    "\n",
    "Browser input (bits are just for demo) :\n",
    "http://localhost:5000/index.js?cipher=1011011010111011111100101111011100010111\n",
    "Output : Hello\n",
    "\n",
    "1011011010111011111100101111011100010111\n",
    "\n",
    "0101110101010111110111001101110001010100\n",
    "\n",
    "\n",
    "# To visualize the server and its functionality run:\n",
    "* pip install -r example-requirements.txt\n",
    "* python Server.py\n",
    "\n",
    "### Since the keys are hidden on the server side, and if the server takes proper care of the security, the encryption algorithm might be slightly good as long as there is no clue about the algorithm used to encrypt neither the decryption algorithm. Since bot implementation (encryption and decryption) mechanisms have been done, then the strength of the algorithm will be weak since it is easy to get the keys by brute force cryptanalysis or any other techniques.\n"
   ],
   "cell_type": "markdown",
   "metadata": {}
  }
 ]
}