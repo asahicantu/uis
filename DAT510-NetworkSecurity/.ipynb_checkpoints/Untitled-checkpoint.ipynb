{
 "cells": [
  {
   "cell_type": "code",
   "execution_count": 1,
   "metadata": {},
   "outputs": [
    {
     "data": {
      "text/plain": [
       "True"
      ]
     },
     "execution_count": 1,
     "metadata": {},
     "output_type": "execute_result"
    }
   ],
   "source": [
    "from sage.crypto.block_cipher.sdes import SimplifiedDES\n",
    "sdes = SimplifiedDES()\n",
    "sdes\n",
    "bin = BinaryStrings()\n",
    "P = [bin(str(randint(0, 1))) for i in range(8)]\n",
    "K = sdes.random_key()\n",
    "C = sdes.encrypt(P, K)\n",
    "plaintxt = sdes.decrypt(C, K)\n",
    "plaintxt == P"
   ]
  }
 ],
 "metadata": {
  "kernelspec": {
   "display_name": "SageMath 9.1",
   "language": "sage",
   "name": "sagemath"
  },
  "language_info": {
   "codemirror_mode": {
    "name": "ipython",
    "version": 3
   },
   "file_extension": ".py",
   "mimetype": "text/x-python",
   "name": "python",
   "nbconvert_exporter": "python",
   "pygments_lexer": "ipython3",
   "version": "3.7.3"
  }
 },
 "nbformat": 4,
 "nbformat_minor": 2
}
