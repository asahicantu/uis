{
 "cells": [
  {
   "cell_type": "markdown",
   "metadata": {},
   "source": [
    "# Quiz Week 1"
   ]
  },
  {
   "cell_type": "markdown",
   "metadata": {},
   "source": [
    "---\n",
    "## 1.  For a discrete random variable $X$ having outcomes on $\\left\\{0,1,2,\\dots \\right\\}$, are $P(X\\leq 5)$ and $P(X<5)$  always equal?\n",
    "*   No\n",
    "---\n",
    "## 2. Reconsider the situation in question 1, when are $P(X\\leq 5) = P(X<5)$?\n",
    "* When $P(X=5)=0$\n",
    "---\n",
    "## 3. For a continuous bivariate distribution (X,Y) with probability density function  f(x,y), which expression below gives marginal expectation of YY, i.e.  E(Y)?\n",
    "* $\\int y \\int f(x,y) dx dy$\n",
    "---\n",
    "## 4. Let the random variable $Y$ be related to another random variable $X$ as $Y=\\sqrt{a}X + \\sqrt b $. Which of the below expressions gives a correct expression for $Var(Y)$?\n",
    "* Let variance be defined as $Var(X)=E(x-\\mu)^2=E(X)^2 - E(X^2)$\n",
    "* By definition the properties of expetation $E(aX+b)=aE(x)+b$, therefore $E(Y)=\\sqrt{a}X + \\sqrt b$\n",
    "* Therefore $E(Y)=\\sqrt{a}E(X)+\\sqrt{b}$\n",
    "* $Var(Y)=E(Y^2) - E(Y)^2$\n",
    "* $Var(Y)=E((\\sqrt{a}E(X)+\\sqrt{b})^2) - E(\\sqrt{a}E(X)+\\sqrt{b})^2$\n",
    "* $Var(Y)=E(ax^2+b^2+\\sqrt{ab}x) - [\\sqrt{a}E(X)+\\sqrt{b}]^2$\n",
    "* $Var(Y)=aE(x^2)+b^2+\\sqrt{ab}E(x) - [aE(X)^2+b+\\sqrt{ab}E(x)]$\n",
    "* $Var(Y)=aE(x^2)-aE(X)^2$\n",
    "* $Var(Y)=a[E(x^2)-E(X)^2]$\n",
    "---\n",
    "## 5. Let the random variable $Y$ be related to another continuous random variable $X$ (with probability density function $f(x)$) via $Y=\\exp (X)$. Which of the below expression is a correct expression for $E(Y)$?\n",
    "*$\\int \\exp(x) f(x) dx$\n",
    "\n",
    "## 6. Consider problem 3.68/3.70, point b) in WMMY, which is a part of exercise 1. Which is correct?\n",
    "## Problem Statement:\n",
    "\n",
    "Consider the following joint probability density function of the random variables X and Y  \n",
    "$f(x,y)=\\{{\\frac{3x-y}{9}} 1<x<3,1<y<2$\n",
    "$f(x,y)=0 \\space elswere $\n",
    "\n",
    "(a) Find the marginal density functions of X and Y .\n",
    "* $g(x)=\\int_{5}^{8}{6x}$\n",
    "(b) Are X and Y independent?\n",
    "(c) Find P(X > 2).\n"
   ]
  },
  {
   "cell_type": "code",
   "execution_count": null,
   "metadata": {},
   "outputs": [],
   "source": []
  },
  {
   "cell_type": "code",
   "execution_count": null,
   "metadata": {},
   "outputs": [],
   "source": []
  }
 ],
 "metadata": {
  "kernelspec": {
   "display_name": "Python 3",
   "language": "python",
   "name": "python3"
  },
  "language_info": {
   "codemirror_mode": {
    "name": "ipython",
    "version": 3
   },
   "file_extension": ".py",
   "mimetype": "text/x-python",
   "name": "python",
   "nbconvert_exporter": "python",
   "pygments_lexer": "ipython3",
   "version": "3.8.5"
  }
 },
 "nbformat": 4,
 "nbformat_minor": 2
}
