{
 "cells": [
  {
   "cell_type": "markdown",
   "metadata": {},
   "source": [
    "# ELE510 Image Processing with robot vision: LAB, Exercise 7, Stereo Vision and Camera Calibration."
   ]
  },
  {
   "cell_type": "markdown",
   "metadata": {
    "deletable": false,
    "editable": false,
    "run_control": {
     "frozen": true
    }
   },
   "source": [
    "**Purpose:** *To learn about imaging with two cameras, stereo, and reconstrution by triangulation.*\n",
    "\n",
    "The theory for this exercise can be found in chapter 13 of the text book [1] and in appendix C in the compendium [2]. \n",
    "See also the following documentations for help:\n",
    "- [OpenCV](https://opencv.org/opencv-python-free-course/)\n",
    "- [numpy](https://numpy.org/doc/stable/)\n",
    "- [matplotlib](https://matplotlib.org/stable/contents.html)\n",
    "- [scipy](https://docs.scipy.org/doc/)\n",
    "\n",
    "**IMPORTANT:** Read the text carefully before starting the work. In\n",
    "many cases it is necessary to do some preparations before you start the work\n",
    "on the computer. Read necessary theory and answer the theoretical part\n",
    "first. The theoretical and experimental part should be solved individually.\n",
    "The notebook must be approved by the lecturer or his assistant.\n",
    "\n",
    "**Approval:**\n",
    "<div class=\"alert alert-block alert-success\">\n",
    "The current notebook should be submitted on CANVAS as a single pdf file. \n",
    "</div>\n",
    "\n",
    "<div class=\"alert alert-block alert-info\">\n",
    "    To export the notebook in a pdf format, goes to File -> Download as -> PDF via LaTeX (.pdf).\n",
    "</div>\n",
    "\n",
    "**Note regarding the notebook**: The theoretical questions can be answered directly on the notebook using a *Markdown* cell and LaTex commands (if relevant). In alternative, you can attach a scan (or an image) of the answer directly in the cell.\n",
    "\n",
    "Possible ways to insert an image in the markdown cell:\n",
    "\n",
    "`![image name](\"image_path\")`\n",
    "\n",
    "`<img src=\"image_path\" alt=\"Alt text\" title=\"Title text\" />`\n",
    "\n",
    "\n",
    "**Under you will find parts of the solution that is already programmed.**\n",
    "\n",
    "<div class=\"alert alert-block alert-info\">\n",
    "    <p>You have to fill out code everywhere it is indicated with `...`</p>\n",
    "    <p>The code section under `######## a)` is answering subproblem a) etc.</p>\n",
    "</div>"
   ]
  },
  {
   "cell_type": "markdown",
   "metadata": {
    "deletable": false,
    "editable": false,
    "run_control": {
     "frozen": true
    }
   },
   "source": [
    "## Problem 1 (Correspondence problem) \n",
    "\n",
    "![stereocamera.png](images/stereocamera.png)\n",
    "\n",
    "Assume that we have a simple stereo system as shown in the figure. **L** and **R** denotes the focal point of the Left and Right camera respectively.  ${\\mathbf P}$ is a point in the 3D world, and ${\\mathbf p}$ in the 2D image plane. $^{\\small L}{\\mathbf P_w}$ denotes a world point with reference to the focal point of the Left camera.  \n",
    "The baseline (line between the two optical centers) is $T = 10\\,\\text{cm}$ and the focal length $f = 2\\,\\text{cm}$. \n",
    "\n",
    "**a)** Consider the scene point $^{\\small L}{\\mathbf P_w} = [0.1\\text{m},0,10\\text{m}]^{T}$. Suppose that due to various errors, the image coordinate $x_{l}$ is 1 percent **smaller** than its true value, while the image coordinate $x_{r}$ is perfect. What is the error in depth $z_w$, in millimeters?\n",
    "\n",
    "**b)** An image of resolution $1500\\times1500$ pixels is seen by the Left and Right cameras. The image sensor size is $20\\text{mm} \\times 20\\text{mm}$.  Let the disparity in the image coordinates be up to $75$ pixels. Using the same focal point and baseline, what is the depth of the image compare to the cameras?\n",
    "\n",
    "**c)** What are the typical application for the correspondence problem? \n",
    "\n"
   ]
  },
  {
   "cell_type": "code",
   "execution_count": null,
   "metadata": {},
   "outputs": [],
   "source": [
    "# Answers here"
   ]
  },
  {
   "cell_type": "markdown",
   "metadata": {
    "deletable": false,
    "editable": false,
    "run_control": {
     "frozen": true
    }
   },
   "source": [
    "## Problem 2 (Block Matching)\n",
    "\n",
    "The simplest algorithm to compute dense correspondence between a pair of stereo images is **block matching**.\n",
    "Block matching is an *area-based* approach that relies upon a statistical correlation between local intensity regions.\n",
    "\n",
    "For each pixel (x,y) in the left image, the right image is searched for the best match among all possible disparities $0 \\le d \\le d_{\\text{max}}$.\n",
    "\n",
    "**a)** Use the function `cv2.StereoBM_create(numDisparities=0, blockSize=21)` ([Documentation](https://docs.opencv.org/master/d9/dba/classcv_1_1StereoBM.html)) \n",
    "([Class Documentation](https://docs.opencv.org/2.4/modules/calib3d/doc/camera_calibration_and_3d_reconstruction.html#stereobm))\n",
    "to computing stereo correspondence using the block matching algorithm. \n",
    "\n",
    "Find the disparity map between the following images: **./images/aloeL.jpg** and **./image/aloeR.jpg**.\n"
   ]
  },
  {
   "cell_type": "code",
   "execution_count": null,
   "metadata": {},
   "outputs": [],
   "source": [
    "# Answer here"
   ]
  },
  {
   "cell_type": "markdown",
   "metadata": {
    "deletable": false,
    "editable": false,
    "run_control": {
     "frozen": true
    }
   },
   "source": [
    "\n",
    "\n",
    "**b)** What happens if you increase the `numDisparities` parameter in the `cv2.StereoBM_create()`? And if you change the `blockSize` parameter?  "
   ]
  },
  {
   "cell_type": "code",
   "execution_count": null,
   "metadata": {},
   "outputs": [],
   "source": [
    "# Answer here "
   ]
  },
  {
   "cell_type": "markdown",
   "metadata": {
    "deletable": false,
    "editable": false,
    "run_control": {
     "frozen": true
    }
   },
   "source": [
    "## Problem 3 (Camera calibration)\n",
    "\n",
    "Calibrate the camera using a set of checkerboard images (you can find them in *./images/left??.jpg*), where `??` indicates the index of the image \n",
    "\n",
    "<details style=\"margin-top:20px\">\n",
    "    <summary>\n",
    "        <font size=\"2\" color=\"green\"><b>Click here for an optional hint</b></font>\n",
    "    </summary>\n",
    "    </font>\n",
    "</summary>\n",
    "<div class=\"alert alert-block alert-info\">\n",
    "Use the following lines to get the entire list of the images to process:\n",
    "    \n",
    "```python\n",
    "from glob import glob\n",
    "\n",
    "img_names = glob('./images/left??.jpg')\n",
    "```\n",
    "    \n",
    "</div>\n",
    "</details>\n",
    "\n",
    "\n",
    "**a)** Use the checkerboard images to find the feature points using the openCV `cv2.findChessboardCorners()` function ([Documentation](https://docs.opencv.org/3.4/d9/d0c/group__calib3d.html#ga93efa9b0aa890de240ca32b11253dd4a)).\n",
    "\n",
    "Normally, we have talked about camera calibration as a method to know the intrinsic parameters of the camera, here we want to use the camera matrix and the relative distortion coefficients to undistort the previous images.\n",
    "For a detailed explanation of distortion, read section 13.4.9 of the text book [1].\n",
    "\n",
    "**b)** Calibrate the camera using the feature points discovered in **a)** and find the relative camera matrix and distortion coefficients using `cv2.calibrateCamera()` function ([Documentation](https://docs.opencv.org/3.4/d9/d0c/group__calib3d.html#ga3207604e4b1a1758aa66acb6ed5aa65d)).\n",
    "\n",
    "**P.S.:**   \n",
    "By default, you should find 5 distortion coeffiencients (3 radial distortion coeff. ($k_1, k_2, k_3$) and 2 tangential coeff. ($p_1,p_2$)); these values are used later to find a new camera matrix and to undistort the images.    \n",
    "\n",
    "**c)** Using the camera matrix and distortion coefficients, transform the images to compensate any kind of distortion using \n",
    " `cv2.getOptimalNewCameraMatrix()` ([Documentation](https://docs.opencv.org/3.4/d9/d0c/group__calib3d.html#ga7a6c4e032c97f03ba747966e6ad862b1)) and `cv2.undistort()` ([Documentation](https://docs.opencv.org/3.4/da/d54/group__imgproc__transform.html#ga69f2545a8b62a6b0fc2ee060dc30559d)).\n",
    " \n",
    " "
   ]
  },
  {
   "cell_type": "code",
   "execution_count": 25,
   "metadata": {
    "ExecuteTime": {
     "end_time": "2021-10-20T16:02:21.419330Z",
     "start_time": "2021-10-20T16:02:20.781564Z"
    }
   },
   "outputs": [],
   "source": [
    "import cv2\n",
    "import numpy as np\n",
    "import matplotlib.pyplot as plt"
   ]
  },
  {
   "cell_type": "code",
   "execution_count": 33,
   "metadata": {
    "ExecuteTime": {
     "end_time": "2021-10-20T16:07:18.137805Z",
     "start_time": "2021-10-20T16:07:18.119824Z"
    }
   },
   "outputs": [],
   "source": [
    "# a)\n",
    "# Function to find the feature points using cv2.findChessboardCorners(...)\n",
    "# If the function finds the corners, return them, otherwise return None  \n",
    "def findCorners(filename, pattern_size):\n",
    "    \n",
    "    # ...\n",
    "    im = cv2.imread(filename, cv2.IMREAD_GRAYSCALE)\n",
    "    found, corners = cv2.findChessboardCorners(im, pattern_size)\n",
    "    \n",
    "    # ...\n",
    "    \n",
    "    if not found: return None\n",
    "    return corners.reshape(-1, 2)"
   ]
  },
  {
   "cell_type": "code",
   "execution_count": 40,
   "metadata": {
    "ExecuteTime": {
     "end_time": "2021-10-20T22:12:10.327075Z",
     "start_time": "2021-10-20T22:12:10.320105Z"
    }
   },
   "outputs": [
    {
     "name": "stdout",
     "output_type": "stream",
     "text": [
      "Help on built-in function calibrateCamera:\n",
      "\n",
      "calibrateCamera(...)\n",
      "    calibrateCamera(objectPoints, imagePoints, imageSize, cameraMatrix, distCoeffs[, rvecs[, tvecs[, flags[, criteria]]]]) -> retval, cameraMatrix, distCoeffs, rvecs, tvecs\n",
      "    .   @overload\n",
      "\n"
     ]
    }
   ],
   "source": [
    "help(cv2.calibrateCamera)"
   ]
  },
  {
   "cell_type": "code",
   "execution_count": 54,
   "metadata": {
    "ExecuteTime": {
     "end_time": "2021-10-20T22:17:43.547975Z",
     "start_time": "2021-10-20T22:17:43.537955Z"
    }
   },
   "outputs": [],
   "source": [
    "# b)\n",
    "# Function to calibrate the camera.\n",
    "# Return the camera matrix and the distortion coeffiecients (radial & tangential)\n",
    "def calibrateTheCamera(obj_points, img_points, img_shape):\n",
    "    \n",
    "    # The function estimates the intrinsic camera parameters and extrinsic parameters for each of the views\n",
    "    flags = cv2.CALIB_ZERO_TANGENT_DIST | cv2.CALIB_FIX_K1 | cv2.CALIB_FIX_K2 | cv2.CALIB_FIX_K3\n",
    "    ret, camera_matrix, dist_coefs, rvecs, tvecs  = cv2.calibrateCamera(obj_points,\n",
    "                                                                        img_points,\n",
    "                                                                        img_shape, \n",
    "                                                                        cameraMatrix = None,\n",
    "                                                                        distCoeffs=None,\n",
    "                                                                        flags=flags)\n",
    "    \n",
    "    \n",
    "    return camera_matrix, dist_coefs"
   ]
  },
  {
   "cell_type": "code",
   "execution_count": 90,
   "metadata": {
    "ExecuteTime": {
     "end_time": "2021-10-20T22:35:34.227261Z",
     "start_time": "2021-10-20T22:35:34.220226Z"
    }
   },
   "outputs": [],
   "source": [
    "# c)\n",
    "# Function that undistort the images using cv2.getOptimalNewCameraMatrix(...) and cv2.undistort(...)\n",
    "# Plot the new undistorted images.\n",
    "def undistortImage(filename, camera_matrix, dist_coefs):\n",
    "    \n",
    "    img = cv2.imread(filename,0)\n",
    "    h, w = img.shape[:2]\n",
    "\n",
    "    # Returns the new camera intrinsic matrix based on the camera matrix and the distortion coefficients\n",
    "    new_camera_matrix, roi = cv2.getOptimalNewCameraMatrix(camera_matrix, dist_coefs,(w,h),1 )\n",
    "    \n",
    "    # Transforms an image to compensate for lens distortion using the camera matrix, \n",
    "    # the distortion coefficients and the camera matrix of the distorted image.\n",
    "    undistorted = cv2.undistort(new_camera_matrix, camera_matrix, dist_coefs)\n",
    "    return undistorted\n",
    "   "
   ]
  },
  {
   "cell_type": "code",
   "execution_count": 112,
   "metadata": {
    "ExecuteTime": {
     "end_time": "2021-10-20T22:50:00.917898Z",
     "start_time": "2021-10-20T22:49:59.781869Z"
    },
    "scrolled": false
   },
   "outputs": [
    {
     "data": {
      "image/png": "[encoded data removed]",
      "text/plain": [
       "<Figure size 1080x1080 with 16 Axes>"
      ]
     },
     "metadata": {
      "needs_background": "light"
     },
     "output_type": "display_data"
    }
   ],
   "source": [
    "from glob import glob\n",
    "\n",
    "obj_points = []\n",
    "img_points = []\n",
    "img_names = glob('./images/left??.jpg')\n",
    "\n",
    "\n",
    "# From the documentation of cv2.findChessboardCorners:\n",
    "# patternSize – Number of inner corners per a chessboard row and column\n",
    "#( patternSize = cvSize(points_per_row,points_per_colum) = cvSize(columns,rows) ).\n",
    "pattern_size = (9,6)\n",
    "\n",
    "# Defining the world coordinates for 3D points\n",
    "pattern_points = np.zeros((np.prod(pattern_size), 3), np.float32)\n",
    "pattern_points[:, :2] = np.indices(pattern_size).T.reshape(-1, 2)\n",
    "pattern_points *= 1\n",
    "\n",
    "#### a)\n",
    "# Find feature points with checkerboard images.\n",
    "chessboards = [findCorners(filename, pattern_size) for filename in img_names]\n",
    "for corners in [chessboard for chessboard in chessboards if chessboard is not None]:\n",
    "    img_points.append(corners)\n",
    "    obj_points.append(pattern_points)\n",
    "\n",
    "#### b)\n",
    "# Get the camera matrix and the distortion coeffiecients (radial & tangential).\n",
    "img_shape = cv2.imread(img_names[0], cv2.IMREAD_GRAYSCALE).shape[:2]\n",
    "camera_matrix, dist_coefs = calibrateTheCamera(obj_points, img_points, img_shape)\n",
    "\n",
    "#### c) \n",
    "# Undistort the images and plot them.\n",
    "cols = 4\n",
    "row = 0\n",
    "idx = 0\n",
    "\n",
    "fig, axs = plt.subplots(4,4,figsize=(15,15))\n",
    "for filename in img_names:\n",
    "    undistorted = undistortImage(filename, camera_matrix, dist_coefs)\n",
    "    ax= axs[row][idx]\n",
    "    ax.imshow(undistorted,   cmap='gray')\n",
    "    ax.set_title(filename)\n",
    "    ax.set_xticks([])\n",
    "    ax.set_yticks([])\n",
    "    if (idx+1) % cols == 0:\n",
    "        row += 1\n",
    "        idx = 0\n",
    "    else:\n",
    "        idx +=1\n",
    "    \n",
    "plt.show()    "
   ]
  },
  {
   "cell_type": "code",
   "execution_count": 113,
   "metadata": {
    "ExecuteTime": {
     "end_time": "2021-10-20T22:51:28.281251Z",
     "start_time": "2021-10-20T22:51:28.269253Z"
    }
   },
   "outputs": [
    {
     "data": {
      "text/plain": [
       "array([[552.67434899,   0.        , 360.14660928],\n",
       "       [  0.        , 557.02557904, 236.92135926],\n",
       "       [  0.        ,   0.        ,   1.        ]])"
      ]
     },
     "execution_count": 113,
     "metadata": {},
     "output_type": "execute_result"
    }
   ],
   "source": [
    "camera_matrix"
   ]
  },
  {
   "cell_type": "markdown",
   "metadata": {
    "deletable": false,
    "editable": false,
    "run_control": {
     "frozen": true
    }
   },
   "source": [
    "\n",
    "### Delivery (dead line) on CANVAS: 24.10.2021 at 23:59\n"
   ]
  },
  {
   "cell_type": "markdown",
   "metadata": {
    "deletable": false,
    "editable": false,
    "run_control": {
     "frozen": true
    }
   },
   "source": [
    "## Contact\n",
    "### Course teacher\n",
    "Professor Kjersti Engan, room E-431,\n",
    "E-mail: kjersti.engan@uis.no\n",
    "\n",
    "### Teaching assistant\n",
    "Tomasetti Luca, room E-401\n",
    "E-mail: luca.tomasetti@uis.no"
   ]
  },
  {
   "cell_type": "markdown",
   "metadata": {
    "deletable": false,
    "editable": false,
    "run_control": {
     "frozen": true
    }
   },
   "source": [
    "\n",
    "## References\n",
    "\n",
    "[1] S. Birchfeld, Image Processing and Analysis. Cengage Learning, 2016.\n",
    "\n",
    "[2] I. Austvoll, \"Machine/robot vision part I,\" University of Stavanger, 2018. Compendium, CANVAS."
   ]
  }
 ],
 "metadata": {
  "kernelspec": {
   "display_name": "Python 3",
   "language": "python",
   "name": "python3"
  },
  "language_info": {
   "codemirror_mode": {
    "name": "ipython",
    "version": 3
   },
   "file_extension": ".py",
   "mimetype": "text/x-python",
   "name": "python",
   "nbconvert_exporter": "python",
   "pygments_lexer": "ipython3",
   "version": "3.9.6"
  },
  "toc": {
   "base_numbering": 1,
   "nav_menu": {},
   "number_sections": true,
   "sideBar": true,
   "skip_h1_title": false,
   "title_cell": "Table of Contents",
   "title_sidebar": "Contents",
   "toc_cell": false,
   "toc_position": {},
   "toc_section_display": true,
   "toc_window_display": false
  },
  "varInspector": {
   "cols": {
    "lenName": 16,
    "lenType": 16,
    "lenVar": 40
   },
   "kernels_config": {
    "python": {
     "delete_cmd_postfix": "",
     "delete_cmd_prefix": "del ",
     "library": "var_list.py",
     "varRefreshCmd": "print(var_dic_list())"
    },
    "r": {
     "delete_cmd_postfix": ") ",
     "delete_cmd_prefix": "rm(",
     "library": "var_list.r",
     "varRefreshCmd": "cat(var_dic_list()) "
    }
   },
   "types_to_exclude": [
    "module",
    "function",
    "builtin_function_or_method",
    "instance",
    "_Feature"
   ],
   "window_display": false
  }
 },
 "nbformat": 4,
 "nbformat_minor": 4
}
