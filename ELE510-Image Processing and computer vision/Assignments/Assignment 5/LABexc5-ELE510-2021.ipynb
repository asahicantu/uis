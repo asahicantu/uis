{
 "cells": [
  {
   "cell_type": "markdown",
   "metadata": {},
   "source": [
    "# ELE510 Image Processing with robot vision: LAB, Exercise 5, Frequency-domain processing."
   ]
  },
  {
   "cell_type": "markdown",
   "metadata": {
    "deletable": false,
    "editable": false,
    "run_control": {
     "frozen": true
    }
   },
   "source": [
    "**Purpose:** *To learn about the Fourier Transform and its use for computation of the image Frequency Spectrum. The emphasis is on the fundamentals of digital images.*\n",
    "\n",
    "The theory for this exercise can be found in chapter 6 of the text book [1] and in appendix A.1.3 in the compendium [2]. See also the following documentations for help:\n",
    "- [OpenCV](https://opencv.org/opencv-python-free-course/)\n",
    "- [numpy](https://numpy.org/doc/stable/)\n",
    "- [matplotlib](https://matplotlib.org/stable/contents.html)\n",
    "- [scipy](https://docs.scipy.org/doc/)\n",
    "\n",
    "**IMPORTANT:** Read the text carefully before starting the work. In\n",
    "many cases it is necessary to do some preparations before you start the work\n",
    "on the computer. Read necessary theory and answer the theoretical part\n",
    "first. The theoretical and experimental part should be solved individually.\n",
    "The notebook must be approved by the lecturer or his assistant.\n",
    "\n",
    "**Approval:**\n",
    "<div class=\"alert alert-block alert-success\">\n",
    "The current notebook should be submitted on CANVAS as a single pdf file. \n",
    "</div>\n",
    "\n",
    "<div class=\"alert alert-block alert-info\">\n",
    "    To export the notebook in a pdf format, goes to File -> Download as -> PDF via LaTeX (.pdf).\n",
    "</div>\n",
    "\n",
    "**Note regarding the notebook**: The theoretical questions can be answered directly on the notebook using a *Markdown* cell and LaTex commands (if relevant). In alternative, you can attach a scan (or an image) of the answer directly in the cell.\n",
    "\n",
    "Possible ways to insert an image in the markdown cell:\n",
    "\n",
    "`![image name](\"image_path\")`\n",
    "\n",
    "`<img src=\"image_path\" alt=\"Alt text\" title=\"Title text\" />`\n",
    "\n",
    "\n",
    "**Under you will find parts of the solution that is already programmed.**\n",
    "\n",
    "<div class=\"alert alert-block alert-info\">\n",
    "    <p>You have to fill out code everywhere it is indicated with `...`</p>\n",
    "    <p>The code section under `######## a)` is answering subproblem a) etc.</p>\n",
    "</div>"
   ]
  },
  {
   "cell_type": "markdown",
   "metadata": {
    "deletable": false,
    "editable": false,
    "run_control": {
     "frozen": true
    }
   },
   "source": [
    "\n",
    "## Problem 1\n",
    "\n",
    "The Fourier Transform is separable, that means that the two-dimensional transform is a sequence of two one-dimensional transforms. \n",
    "For images this can be considered as a transform along rows followed by a transform along columns (note that the input to the second step is the result from the first step, i.e. an image where the rows represents frequency and the columns space, $F(f_{x},y)$). \n",
    "To get a better understanding of the **DFT** it is therefore convenient to study the one-dimensional transform:\n",
    "\n",
    "\\begin{equation}\n",
    "    G(k) = \\sum_{x=0}^{w-1} g(n)e^{-j2\\pi\\frac{kx}{w}}, \\qquad k = 0, 1, 2, \\;\\cdots\\;,(w-1),\n",
    "\\end{equation}\n",
    "\n",
    "and its inverse, **IDFT**:\n",
    "\n",
    "\\begin{equation}\\label{Lab2eq4}\n",
    "    g(x) = \\frac{1}{w}\\sum_{k=0}^{w-1} G(k)e^{j2\\pi\\frac{kx}{w}}, \\qquad  x = 0, 1, 2,\\;\\cdots\\;,(w-1).\n",
    "\\end{equation}\n",
    "\n",
    "One period of the signal is $g(x),\\, x = 0, 1, 2,\\;\\cdots\\;,(w-1)$ and in the frequency domain $F(k),\\, k = 0, 1, 2, \\;\\cdots\\;,(w-1)$.\n",
    "\n",
    "**a)** Find the DC-component, $G(0)$. What does $\\frac{G(0)}{w}$ represent?\n",
    "\n",
    "**b)** Show that the DFT is periodic, i.e. $G(k) = G(k+l\\cdot w)$, where $l$ is an arbitrary integer.\n",
    "\n",
    "**c)** Find $G(k)$ for the centered box-function with 5 non-zero samples, $w = 16$.\n",
    "\\begin{equation} \\label{Lab2eq5}\n",
    "    g(x)  =\n",
    "    \\begin{cases}\n",
    "          1  \\qquad \\text{for} \\qquad   x = 0, 1, 2\\;\\text{and}\\;14,15. \\\\\n",
    "          0   \\qquad \\text{otherwise,}\n",
    "    \\end{cases}\n",
    "\\end{equation}\n"
   ]
  },
  {
   "cell_type": "code",
   "execution_count": null,
   "metadata": {},
   "outputs": [],
   "source": [
    "# Answers go here"
   ]
  },
  {
   "cell_type": "markdown",
   "metadata": {
    "deletable": false,
    "editable": false,
    "run_control": {
     "frozen": true
    }
   },
   "source": [
    "Sketch both (using Python) $g(x)$ and $G(k)$ in the index range $-8,-7,\\;\\cdots\\;,-1, 0, 1, 2,\\;\\cdots\\;,7$ (note the periodic property of both functions)."
   ]
  },
  {
   "cell_type": "code",
   "execution_count": null,
   "metadata": {},
   "outputs": [],
   "source": [
    "# Sketch it using python.\n",
    "\n",
    "# Both functions are discrete and periodic with period N=16. Note that the DFT of the discrete box\n",
    "# function approximates a truncated \"sinc\" function. The continuous Fourier transform of the\n",
    "# continuous box function is a \"sinc\" function with infinite duration.\n",
    "\n",
    "import matplotlib.pyplot as plt  \n",
    "import math\n",
    "\n",
    "..."
   ]
  },
  {
   "cell_type": "markdown",
   "metadata": {
    "deletable": false,
    "editable": false,
    "run_control": {
     "frozen": true
    }
   },
   "source": [
    "\n",
    "## Problem 2\n",
    "\n",
    "\n",
    "#### Introduction\n",
    "\n",
    "An image can be considered as a 2-dimensional (2D) signal. \n",
    "Sampling is in the domain of spatial coordinates $(x_w,y_w)$. \n",
    "The continuous intensity function, $g(x_w,y_w)$, is sampled such that the image representation is a matrix, $g(x,y)$, where the indexes, $x$ and $y$ is connected to the coordinates by $x_w = x \\,\\Delta x_w$ and $y_w = y\\,\\Delta y_w$. \n",
    "The distance between each pixel is $\\Delta x_w$ horizontally and $\\Delta y_w$ vertically. \n",
    "We use $g(x,y)$, with indexes $y \\in \\{1,2, \\cdots Y\\}$ and $x \\in \\{1,2, \\cdots X\\}$. The image is rectangular, represented by a matrix of size  $Y \\times X$.\n",
    "\n",
    "We can represent the image in the frequency domain by taking the discrete Fourier transform. \n",
    "In this problem we will use the power spectrum defined by\n",
    "\n",
    "\\begin{equation}\\label{Lab2eq1}\n",
    "    P(i,j) = |G(i,j)|^{2}\n",
    "\\end{equation}\n",
    "\n",
    "where $G(i,j)$ is the 2D DFT of the signal (image) $g(i,j)$. \n",
    "Most images has a large mean value (\"DC-component\") that gives a dominating peak in the frequency origin $(0,0)$. \n",
    "A typical image is also dominated by low frequency components and the power of high frequencies is low. \n",
    "The DFT assumes periodic signals, i.e. when an image is repeated periodically in all directions we usually get an edge at the border of the image.\n",
    "This will give a response in the spectrum as a horizontal and vertical line through the origin. \n",
    "To avoid this it is common to use a bell shaped window function that reduces the signal to zero at the borders. \n",
    "This method for spectral estimation is called *windowed periodogram*. The function **impowsp2** that you will find here implements this method.\n",
    "\n",
    "We want to visualize the power spectrum by an image, i.e. we transform the image from the spatial domain to the frequency domain. \n",
    "To enhance the high frequency components we use the following point operation\n",
    "\n",
    "\\begin{equation}\\label{Lab2eq2}\n",
    "    B(i,j) = \\log(1+P(i,j))\n",
    "\\end{equation}\n",
    "\n",
    "Before the point operation the DC-component must be removed **[*]** and the power spectrum should be centered (using **np.fftshift**), such that the frequency $(0,0)$ is in the center of the power spectrum image. \n",
    "We use **plt.imshow** to display the power spectrum image and choose normalized frequencies **[+]** for the axis.\n",
    "\n",
    "\n",
    "\n",
    "**[*]** *This can be done by setting the center pixel in the power spectrum to zero. It can also be accomplished by subtracting the mean from the input image such that we find the DFT from a zero mean signal.*\n",
    "\n",
    "**[+]** *The Fourier Transform of a digital signal is computed by the DFT (Discrete Fourier Transform) which is periodic in the frequency domain. One period corresponds to $2\\pi$ ($[-\\pi,\\pi]$) for the angular frequency. We normalize this such that the frequency is in the interval $[-0.5,0.5]$.*"
   ]
  },
  {
   "cell_type": "code",
   "execution_count": null,
   "metadata": {
    "deletable": false,
    "editable": false
   },
   "outputs": [],
   "source": [
    "import numpy as np\n",
    "import cv2\n",
    "from scipy import signal"
   ]
  },
  {
   "cell_type": "code",
   "execution_count": 86,
   "metadata": {
    "deletable": false,
    "editable": false
   },
   "outputs": [],
   "source": [
    "def impowsp2(Im, a, b, wtype, c, Fig):\n",
    "    \"\"\"\n",
    "    The function finds the power spectrum of the image, Im.\n",
    "    The power is estimated by using windowed periodogram, where the window type is:\n",
    "    wtype = 1    : Kaiser,  b = [1,10]   beta\n",
    "    wtype = 2    : Chebyshev,  b = [20,100] sidelobe att. in dB\n",
    "    wtype = n > 2    : Rectangular,  b  don't care, i.e. no window\n",
    "    \n",
    "    a : amplification constant for visualization of high frequency content (e.g. a = 10).\n",
    "    The DC-component is removed in all cases. For visualization the low frequency components in a region centered at\n",
    "    zero can be removed. The size of the region is (2c-1)x(2c-1).\n",
    "    \n",
    "    Fig = [Figtype, Figure number]\n",
    "        Figtype = 0 : no Figure\n",
    "        Figtype = 1 : Only Frequency Spectrum\n",
    "        Figtype = 2 : Both input Image and Frequency Spectrum\n",
    "    \n",
    "    Output is the normalized estimated spectrum, with no DC-component.\n",
    "    \n",
    "    \"\"\"\n",
    "    \n",
    "    M,N = Im.shape\n",
    "    L = max(M,N)\n",
    "    if L<256: K = 256\n",
    "    elif L <= 512: K = 512\n",
    "    else: K = L\n",
    "        \n",
    "    A = Im - np.mean(Im[:])*np.ones_like(Im);\n",
    "    # A is a zero mean signal, that means that the power for zero frequency, the DC component, is zero.\n",
    "    \n",
    "    if wtype == 1: # Kaiser window\n",
    "        w1 = np.kaiser(M,b)\n",
    "        w2 = np.kaiser(N,b)\n",
    "    elif wtype == 2:# Chebyshev window\n",
    "        w1 = signal.chebwin(M,b)\n",
    "        w2 = signal.chebwin(N,b)\n",
    "    else:\n",
    "        w1 = np.ones(shape=(M,1))\n",
    "        w2 = np.ones(shape=(M,1))\n",
    "        \n",
    "    W = w1 * np.transpose(w2)\n",
    "    B = A * W\n",
    "    F = np.fft.fft2(B, s=[K,K])\n",
    "    F = np.fft.fftshift(F)\n",
    "    P = F * np.conj(F)\n",
    "    Pmax = np.max(P)\n",
    "    P = P/Pmax\n",
    "    Pout = P\n",
    "        \n",
    "    # Visualization\n",
    "    if Fig == 0: print(\"No figure\") # No figure \n",
    "    elif Fig == 1: # Only Frequency Spectrum\n",
    "        m0 = (K/2)+1-c\n",
    "        k = 2*c-1\n",
    "        #P[m0+(1:k),m0+(1:k)] = np.zeros(k)\n",
    "        B = np.log(np.ones_like(P) + a * Pmax * P)\n",
    "        \n",
    "        plt.figure(figsize=(10,10))\n",
    "        plt.imshow(B, extent=[-0.5, 0.5, -0.5, 0.5])\n",
    "        plt.title('Power spectrum')\n",
    "        plt.axis([-0.5,0.5,-0.5,0.5])\n",
    "        plt.show()\n",
    "    elif Fig == 2: # Both input Image and Frequency Spectrum \n",
    "        m0 = (K/2)+1-c\n",
    "        k = 2*c-1\n",
    "        #P[m0+(1:k),m0+(1:k)] = np.zeros(k)\n",
    "        C = np.log(np.ones_like(P) + a * Pmax * P)\n",
    "                \n",
    "        plt.figure(figsize=(10,10))\n",
    "        plt.subplot(121)\n",
    "        plt.imshow(Im, cmap='gray', vmin=0, vmax=255)\n",
    "        plt.title(\"Image\")\n",
    "        plt.subplot(122)\n",
    "        plt.imshow(np.real(C), extent=[-0.5, 0.5, -0.5, 0.5])\n",
    "        plt.title('Power spectrum')\n",
    "        plt.axis([-0.5,0.5,-0.5,0.5])\n",
    "        plt.show()\n",
    "    else: print(\"'No such Figure, Fig == 0, 1 or 2'\")\n",
    "        \n",
    "    "
   ]
  },
  {
   "cell_type": "markdown",
   "metadata": {
    "deletable": false,
    "editable": false,
    "run_control": {
     "frozen": true
    }
   },
   "source": [
    "### Problem \n",
    "\n",
    "A function (**impowsp2**) that computes and displays the power spectrum of an image is given here. Additional information of the function can be found at the end of the exercise.\n",
    "\n",
    "In the following experiments use the parameters: $a=10$, $b=3$, $wtype=1$ and $c=0$ for the function **impowsp2**. \n",
    "We want to study the frequency spectrum for a set of different images.\n",
    "\n",
    "The first image is a test image, **qcirchirp.bmp**, containing most frequencies. \n",
    "It is a circular pattern where the radial intensity function is a so called chirp signal with frequencies increasing from zero to the maximum allowed frequency for the given number of samples, avoiding aliasing. \n",
    "The given test pattern is one quadrant from a circular test image.\n",
    "\n",
    "**a)** Use **impowsp2**, as described above, and find the power spectrum for the image **qcirchirp.bmp**.\n",
    "\n",
    "**b)** Explain and describe the result. Is it as expected? Why is the power zero in the first and third quadrant?\n",
    "\n",
    "**c)** Why is the power highest for lower spatial frequencies?\n",
    "\n",
    "The second image is a very popular test image, used for decades, the Camera Man, **cameraman.jpg**. \n",
    "This image is an example where the edges are very sharp and the power spectrum indicates **aliasing**.\n",
    "\n",
    "**d)** Find the power spectrum for the image **cameraman.jpg**.\n",
    "\n",
    "**e)** Explain which parts of the image gives rise to the lines in the spectrum.\n",
    "\n",
    "**f)** How can you explain, from the power spectrum, why we have aliasing. \n",
    "\n",
    "**Hint**: Study the lines in the spectrum that reaches the border and find where these lines continues, when we know that the spectrum repeats itself periodically.\n",
    "\n",
    "Finally we want to study the power spectrum for some images, representing different image textures.\n",
    "\n",
    "**g)** Find the power spectrum for: skin1, soap-bubbles, tex\\_ori, tex\\_scl and textil1.\n",
    "\n",
    "**h)** Explain and describe the results.\n"
   ]
  },
  {
   "cell_type": "code",
   "execution_count": null,
   "metadata": {},
   "outputs": [],
   "source": [
    "# Answers go here "
   ]
  },
  {
   "cell_type": "markdown",
   "metadata": {
    "deletable": false,
    "editable": false,
    "run_control": {
     "frozen": true
    }
   },
   "source": [
    "\n",
    "## Problem 3\n",
    "\n",
    "We test the filters from exercise 4 (shown below), we use the test image **qcirchirp.bmp**. \n",
    "Filtering is done by using the function `cv2.filter2D()` ([Documentation](https://docs.opencv.org/2.4/modules/imgproc/doc/filtering.html#cv2.filter2D)). \n",
    "\n",
    "The input is the image matrix, the filter mask (in $X$ and $Y$ directions) and a flag parameter specifying how the boundary should be treated. Here's an example of how to call the function:\n",
    "```python\n",
    "Imoutput = cv2.filter2D(Iminput,ddepth=-1,kernel=(filtermask*filtermask.T),borderType=borderType)\n",
    "``` \n",
    "To study the result in the frequency domain we use the function **impowsp2** defined before.\n",
    "\n",
    "Filter masks:\n",
    "\n",
    "```python\n",
    "h1 = cv2.getGaussianKernel(9,1)\n",
    "h15 = cv2.getGaussianKernel(11,1.5)\n",
    "h2 = cv2.getGaussianKernel(15,2)\n",
    "```\n",
    "\n",
    "**a)** Use the filter masks `h1`, `h15` and `h2` with `cv2.BORDER_DEFAULT` boundary. Filter **qcirchirp.bmp** using `cv2.filter2D(...)` and find the power spectrums.\n",
    "\n",
    "**b)** Which of the three filters do you think is most appropriate if the image is going to be downsampled by a factor 2?\n"
   ]
  },
  {
   "cell_type": "code",
   "execution_count": null,
   "metadata": {},
   "outputs": [],
   "source": [
    "# Answers go here"
   ]
  },
  {
   "cell_type": "markdown",
   "metadata": {
    "deletable": false,
    "editable": false,
    "run_control": {
     "frozen": true
    }
   },
   "source": [
    "\n",
    "## Problem 4\n",
    "\n",
    "Create a python script to find the 2D discrete Fourier transform (DFT) of an image (use `cameraman.jpg`). \n",
    "\n",
    "**a)** From the DFT, calculate and plot: **the magnitude and the phase**.\n",
    "\n",
    "**b)** Shift the zero-frequency component to the center of the spectrum and plot the result.\n",
    "\n",
    "**c)** Where is the DC component for the points **a)** and **b)**?\n",
    " "
   ]
  },
  {
   "cell_type": "code",
   "execution_count": null,
   "metadata": {},
   "outputs": [],
   "source": [
    "# Answers go here"
   ]
  },
  {
   "cell_type": "markdown",
   "metadata": {
    "deletable": false,
    "editable": false,
    "run_control": {
     "frozen": true
    }
   },
   "source": [
    "### Delivery (dead line) on CANVAS: 10.10.2021 at 23:59"
   ]
  },
  {
   "cell_type": "markdown",
   "metadata": {
    "deletable": false,
    "editable": false,
    "run_control": {
     "frozen": true
    }
   },
   "source": [
    "## Contact\n",
    "### Course teacher\n",
    "Professor Kjersti Engan, room E-431,\n",
    "\n",
    "E-mail: kjersti.engan@uis.no\n",
    "\n",
    "### Teaching assistant\n",
    "Tomasetti Luca, room E-401\n",
    "\n",
    "E-mail: luca.tomasetti@uis.no"
   ]
  },
  {
   "cell_type": "markdown",
   "metadata": {
    "deletable": false,
    "editable": false,
    "run_control": {
     "frozen": true
    }
   },
   "source": [
    "\n",
    "## References\n",
    "\n",
    "[1] S. Birchfeld, Image Processing and Analysis. Cengage Learning, 2016.\n",
    "\n",
    "[2] I. Austvoll, \"Machine/robot vision part I,\" University of Stavanger, 2018. Compendium, CANVAS."
   ]
  }
 ],
 "metadata": {
  "kernelspec": {
   "display_name": "Python 3",
   "language": "python",
   "name": "python3"
  },
  "language_info": {
   "codemirror_mode": {
    "name": "ipython",
    "version": 3
   },
   "file_extension": ".py",
   "mimetype": "text/x-python",
   "name": "python",
   "nbconvert_exporter": "python",
   "pygments_lexer": "ipython3",
   "version": "3.8.8"
  }
 },
 "nbformat": 4,
 "nbformat_minor": 4
}
