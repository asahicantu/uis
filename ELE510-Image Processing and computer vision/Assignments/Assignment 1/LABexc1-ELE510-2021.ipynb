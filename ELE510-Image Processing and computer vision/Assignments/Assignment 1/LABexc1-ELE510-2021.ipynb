{
 "cells": [
  {
   "cell_type": "markdown",
   "metadata": {
    "deletable": false,
    "editable": false,
    "run_control": {
     "frozen": true
    }
   },
   "source": [
    "# ELE510 Image Processing with robot vision: LAB, Exercise 1, Fundamentals."
   ]
  },
  {
   "cell_type": "markdown",
   "metadata": {
    "deletable": false,
    "editable": false,
    "run_control": {
     "frozen": true
    }
   },
   "source": [
    "**Purpose:** *To learn some basic operations on images using Python, OpenCV and other packages. The emphasis is on the fundamentals of digital images.*\n",
    "\n",
    "The theory for this exercise can be found in chapter 1 and 2 of the text book [1]. Supplementary information can found in chapter 1, 2 and 3 in the compendium [2]. See also the following documentations for help:\n",
    "- [OpenCV](https://opencv.org/opencv-python-free-course/)\n",
    "- [numpy](https://numpy.org/doc/stable/)\n",
    "- [matplotlib](https://matplotlib.org/stable/contents.html)\n",
    "\n",
    "**IMPORTANT:** Read the text carefully before starting the work. In\n",
    "many cases it is necessary to do some preparations before you start the work\n",
    "on the computer. Read necessary theory and answer the theoretical part\n",
    "frst. The theoretical and experimental part should be solved individually.\n",
    "The notebook must be approved by the lecturer or his assistant.\n",
    "\n",
    "**Approval:**\n",
    "<div class=\"alert alert-block alert-success\">\n",
    "The current notebook should be submitted on CANVAS as a single pdf file. \n",
    "</div>\n",
    "\n",
    "<div class=\"alert alert-block alert-info\">\n",
    "    To export the notebook in a pdf format, goes to File -> Download as -> PDF via LaTeX (.pdf).\n",
    "</div>\n",
    "\n",
    "**Note regarding the notebook**: The theoretical questions can be answered directly on the notebook using a *Markdown* cell and LaTex commands (if relevant). In alternative, you can attach a scan (or an image) of the answer directly in the cell.\n",
    "\n",
    "Possible ways to insert an image in the markdown cell:\n",
    "\n",
    "`![image name](\"image_path\")`\n",
    "\n",
    "`<img src=\"image_path\" alt=\"Alt text\" title=\"Title text\" />`\n",
    "\n",
    "\n",
    "**Under you will find parts of the solution that is already programmed.**\n",
    "\n",
    "<div class=\"alert alert-block alert-info\">\n",
    "    <p>You have to fill out code everywhere it is indicated with `...`</p>\n",
    "    <p>The code section under `######## a)` is answering subproblem a) etc.</p>\n",
    "</div>"
   ]
  },
  {
   "cell_type": "markdown",
   "metadata": {
    "deletable": false,
    "editable": false,
    "run_control": {
     "frozen": true
    }
   },
   "source": [
    "## Problem 1"
   ]
  },
  {
   "cell_type": "markdown",
   "metadata": {
    "deletable": false,
    "editable": false,
    "run_control": {
     "frozen": true
    }
   },
   "source": [
    "**a)** Make a list of at least 5 different applications of robot (machine) vision."
   ]
  },
  {
   "cell_type": "markdown",
   "metadata": {},
   "source": []
  },
  {
   "cell_type": "markdown",
   "metadata": {
    "deletable": false,
    "editable": false,
    "run_control": {
     "frozen": true
    }
   },
   "source": [
    "**b)** What is the resolution of the tightly spaced cones in the fovea, and how is this compared to the spacing between pixels in a typical digital camera?\n"
   ]
  },
  {
   "cell_type": "raw",
   "metadata": {},
   "source": []
  },
  {
   "cell_type": "markdown",
   "metadata": {
    "deletable": false,
    "editable": false,
    "run_control": {
     "frozen": true
    }
   },
   "source": [
    "**c)** How much storage is needed for a one hour digital video (colour) with no compression if we assume a frame rate of 50 frames per second (fps) and that each image frame is $3840 \\times 2160$ pixels."
   ]
  },
  {
   "cell_type": "raw",
   "metadata": {},
   "source": []
  },
  {
   "cell_type": "markdown",
   "metadata": {
    "deletable": false,
    "editable": false,
    "run_control": {
     "frozen": true
    }
   },
   "source": [
    "\n",
    "## Problem 2"
   ]
  },
  {
   "cell_type": "markdown",
   "metadata": {
    "deletable": false,
    "editable": false,
    "run_control": {
     "frozen": true
    }
   },
   "source": [
    "In this problem we use one image, `flower.jpg` (relative path: `./images/flower.jpg`).\n",
    "\n",
    "\n",
    "**a)** Import the image; let the name of the flower image be **A**. Find the following properties: height, width, channels, filesize [+]. Be aware tha opencv represents image colar channel in the order BGR (blue, green, red) instead of RGB as is more common.  Matplotlib use RGB, so if we are using matplotlib to show images they need to be converted first.\n",
    "\n",
    "**b)** Image **A** is represented as a 3D array in Python. With **A** as input we now want to extract 4 different 2D images:\n",
    "   - **R** representing the red colour component, \n",
    "   - **G** representing the green colour component,\n",
    "   - **B** representing the blue colour component, and\n",
    "   - **Gr** representing a grey level version.\n",
    "    \n",
    "The rgb components are found by using `A[:,:,k]` where `k=1,2 and 3`. The grey level image can be imported using a particular flag (`cv2.IMREAD_GRAYSCALE`), or converted from an already imported color-image to grayscale (find the cv2 function yourself in the documentation). Use `matplotlib` to display the colour image and the 3 colour components in the same figure.\n",
    "\n",
    "Describe how the different colour components contributes to different parts of the image (the petals and the background). Show the gray level image in a separate figure. Describe this image in relation to the colour components.\n",
    "\n",
    "\n",
    "<div class=\"alert alert-block alert-info\">\n",
    "    The filesize can be checked in <b>bytes</b> using the following commands: \n",
    "\n",
    "```python\n",
    "import os \n",
    "filesize = os.path.getsize(my_path)\n",
    "```\n",
    "</div>\n"
   ]
  },
  {
   "cell_type": "code",
   "execution_count": null,
   "metadata": {},
   "outputs": [],
   "source": [
    "# Import useful packages\n",
    "import os # useful for the filesize\n",
    "import cv2\n",
    "import matplotlib.pyplot as plt \n",
    "\n",
    "# Complete the parts with \"...\"\n",
    "\n",
    "########################################################\n",
    "######## a) \n",
    "# Import the image, which is located in the folder images/ (you can download it from CANVAS)\n",
    "A_path = ...\n",
    "A = cv2.imread(A_path) \n",
    "# Convert the image from BGR (OpenCV standard) to RGB (standard)  \n",
    "A = cv2.cvtColor(...)\n",
    "\n",
    "# image properties\n",
    "height = ...\n",
    "width = ...\n",
    "channels = ...\n",
    "filesize = ...\n",
    " \n",
    "print('Image Dimension    : ', A.shape) \n",
    "print('Image Height       : ', height)\n",
    "print('Image Width        : ', width)\n",
    "print('Number of Channels : ', channels)\n",
    "\n",
    "## The results should be:\n",
    "# Image Dimension    :  (667, 500, 3)\n",
    "# Image Height       :  667\n",
    "# Image Width        :  500\n",
    "# Number of Channels :  3\n"
   ]
  },
  {
   "cell_type": "code",
   "execution_count": null,
   "metadata": {},
   "outputs": [],
   "source": [
    "########################################################\n",
    "######## b). \n",
    "# Extract 2D images (the various channels + grayscale)\n",
    "R = ...\n",
    "G = ...\n",
    "B = ...\n",
    "\n",
    "plt.figure(figsize=(20,20))\n",
    "plt.subplot(221)\n",
    "plt.imshow(A)\n",
    "plt.title('Color')\n",
    "plt.subplot(222)\n",
    "plt.imshow(R)\n",
    "plt.title('Red channel')\n",
    "plt.subplot(223)\n",
    "plt.imshow(...)\n",
    "plt.title('Green channel')\n",
    "plt.subplot(224)\n",
    "plt.imshow(...)\n",
    "plt.title('Blue channel')\n",
    "plt.show()\n",
    "\n",
    "# Greyscale image\n",
    "Gr = cv2.imread(...)\n",
    "plt.figure(figsize=(10,10))\n",
    "plt.imshow(Gr, cmap='gray', vmin=0, vmax=255)\n",
    "plt.title('Greyscale image')\n",
    "plt.show()\n"
   ]
  },
  {
   "cell_type": "markdown",
   "metadata": {
    "deletable": false,
    "editable": false,
    "run_control": {
     "frozen": true
    }
   },
   "source": [
    "**Answer to question 2 b)** (describe): "
   ]
  },
  {
   "cell_type": "raw",
   "metadata": {},
   "source": []
  },
  {
   "cell_type": "markdown",
   "metadata": {
    "deletable": false,
    "editable": false,
    "run_control": {
     "frozen": true
    }
   },
   "source": [
    "## Problem 2 continues\n",
    "\n",
    "**c)** The image data can be written to new files with a chosen format. Use `cv2.imwrite` and JPG. We want to study different degrees of compression by using `[cv2.IMWRITE_JPEG_QUALITY, jpg_quality]` as option in the `cv2.imwrite` function, where `cv2.IMWRITE_JPEG_QUALITY` is the quality flag, and `jpg_quality` is the selected quality for saving the image. Let `jpg_qualities` be `[10,20,30,40,50,60,70,80,90,95]` and make a graph that show the filesize in kB as a function of `jpg_qualities` for this image. When a repeated procedure is done, like in this case, it is efficient to make a script or a function for the problem. Display the compressed images for `jpg_qualities=10` and `jpg_qualities=50` (use `plt.imshow`). Study these images and discuss the degradation of the images caused by the compression.\n",
    "\n",
    "**d)** A simple way of finding objects in an image is by using thresholding. The OpenCV function `threshold`. performs simple thresholding and ouputs a logical image matrix. We want to find a logical mask identifying the flower (foreground and not the background) in our image. We can do that by combining the result from thresholding the red component and the blue component, `Fmask = Bmask or Rmask`. `Bmask` is the output from thresholding the blue component with a level of approximately (160/255) and `Rmask` is the result from thresholding the red component with level (200/255) approximately. Execute these operations and adjust the two levels for the best result. Display the final logical image `Fmask` and describe the result.\n",
    "\n"
   ]
  },
  {
   "cell_type": "code",
   "execution_count": null,
   "metadata": {},
   "outputs": [],
   "source": [
    "########################################################\n",
    "######## c)\n",
    "# Image compression\n",
    "jpg_qualities = [10,20,30,40,50,60,70,80,90,95]\n",
    "size = []\n",
    "\n",
    "# write the images with a specific quality\n",
    "for jpg_quality in jpg_qualities:\n",
    "    filename = \"./images/flower{}.jpg\".format(str(jpg_quality))\n",
    "    cv2.imwrite(...)\n",
    "\n",
    "# Read the two images\n",
    "img10 = ...\n",
    "img50 = ...\n",
    "\n",
    "plt.figure(figsize=(20,10))\n",
    "plt.subplot(212)\n",
    "plt.plot(...) # Show the plot for the filesize in kB of the images generated\n",
    "plt.xlabel(\"Quality in percent\")\n",
    "plt.ylabel(\"Filesize in kB\")\n",
    "plt.subplot(221)\n",
    "plt.imshow(img10)\n",
    "plt.title(\"Quality 10%\")\n",
    "plt.subplot(222)\n",
    "plt.imshow(img50)\n",
    "plt.title(\"Quality 50%\")\n",
    "plt.show()\n",
    "\n",
    "########################################################\n",
    "######## d)\n",
    "# Thresholding: Black and White (binary) images\n",
    "\n",
    "# _, means that we are skipping the first output.  \n",
    "# look in OpenCV documentation to find out what the first output of threshold is\n",
    "_, Bmask = cv2.threshold(...)\n",
    "_, Rmask = cv2.threshold(...)\n",
    "Fmask = ...\n",
    "\n",
    "plt.figure(figsize=(10,10))\n",
    "plt.imshow(Fmask, cmap='gray', vmin=0, vmax=255)\n",
    "plt.title('Threshold image')\n",
    "plt.show()"
   ]
  },
  {
   "cell_type": "markdown",
   "metadata": {
    "deletable": false,
    "editable": false,
    "run_control": {
     "frozen": true
    }
   },
   "source": [
    "\n",
    "## Problem 3\n",
    "\n",
    "Write a function that extracts a rectangular region from an input image, commonly known as cropping. Give the function the name **image2roi** (roi = region of interest). Let this function work as follows:\n",
    "\n",
    "**a)** Input parameters should be an iamge and the coordinates for the roi (fname, coords). First check if the image is colour or grey level. If it is colour a message should be printed out and the function closed (return). If it is a grey level image continue to the next step, **b)**.\n",
    "\n",
    "**b)** The size of the image is computed and the image displayed with indexes shown along the axis. Extract the sub image (region of interest) given the coordinates, display it and the function ended.\n",
    "\n"
   ]
  },
  {
   "cell_type": "code",
   "execution_count": null,
   "metadata": {},
   "outputs": [],
   "source": [
    "'''\n",
    "Function that takes in input an image and the coordinates for the ROI\n",
    "\n",
    "''' \n",
    "def image2roi(img, coords):\n",
    "    \n",
    "    if len(img.shape)>2:\n",
    "        ...\n",
    "    \n",
    "    # Plot the greyscale image and the ROI based on the coords values\n",
    "    ...\n",
    "    \n"
   ]
  },
  {
   "cell_type": "code",
   "execution_count": null,
   "metadata": {},
   "outputs": [],
   "source": [
    "##  To test your function, complete the following lines:\n",
    "\n",
    "coords = ...\n",
    "img = cv2.imread(...)  # use the flower image or something else you want. \n",
    "\n",
    "image2roi(..., ...)"
   ]
  },
  {
   "cell_type": "markdown",
   "metadata": {
    "deletable": false,
    "editable": false,
    "run_control": {
     "frozen": true
    }
   },
   "source": [
    "## Problem 4\n",
    "\n",
    "The representation of a digital image as a column vector is very useful in some occasions. We therefore include this here, from a practical view, using `python`. To explore this we start with a tiny test image. Let the image be\n",
    "\n",
    "\n",
    "\\begin{equation}\\label{eq1}\n",
    "    F(x,y) = \\begin{bmatrix} 1 & 2 & 3 & 4\\\\ 5 & 6 & 7 & 8\\\\\n",
    "     9 & 10 & 11 & 12\\\\ 13 & 14 & 15 & 16\\end{bmatrix},\n",
    "\\end{equation}\n",
    "\n",
    "\n",
    "To produce this image with `numpy`, use:\n",
    "\n",
    "```python\n",
    "F = np.matrix('1 2 3 4;5 6 7 8;9 10 11 12;13 14 15 16')\n",
    "```\n",
    "\n",
    "**a)** Use the `numpy` function `f = F.flatten()` What is the resulting f?\n",
    "\n",
    "**b)** Use the `numpy` function `reshape` to reconstruct the image matrix. Refer to [numpy.reshape](https://numpy.org/doc/1.18/reference/generated/numpy.reshape.html#numpy.reshape) for full documentation.\n",
    "\n",
    "**c)** What happens using the following operation `fr1 = F[:]`? \n",
    "\n",
    "**d)** Array and matrix operations are very efficient with `numpy`. \n",
    "Check how the following operation work: \n",
    "\n",
    "```python\n",
    "fr2 = F[2,:]\n",
    "fr3 = F[:,3]\n",
    "```\n",
    "\n"
   ]
  },
  {
   "cell_type": "code",
   "execution_count": null,
   "metadata": {},
   "outputs": [],
   "source": [
    "# Import useful packages\n",
    "import numpy as np\n",
    "from pprint import pprint\n",
    "\n",
    "F = np.matrix('1 2 3 4;5 6 7 8;9 10 11 12;13 14 15 16')\n",
    "print(\"F:\")\n",
    "pprint(F)\n",
    "\n",
    "######## a)\n",
    "f = ...\n",
    "print(\"f: \")\n",
    "pprint(f) \n",
    "\n",
    "######## b)\n",
    "F1 = np.reshape(...)\n",
    "print(\"F1: \")\n",
    "pprint(F1)\n",
    "\n",
    "######## c)\n",
    "fr1 = F[:]\n",
    "print(\"fr1: \")\n",
    "pprint(fr1)\n",
    "\n",
    "######## d)\n",
    "fr2 = ...\n",
    "fr3 = ...\n",
    "print(\"fr2: \")\n",
    "pprint(fr2)\n",
    "print(\"fr3: \")\n",
    "pprint(fr3)\n"
   ]
  },
  {
   "cell_type": "markdown",
   "metadata": {},
   "source": [
    "Problem 4, answers:\n",
    "\n",
    "**a)**\n",
    "\n",
    "**b)**\n",
    "\n",
    "**c)**\n",
    "\n",
    "**d)**"
   ]
  },
  {
   "cell_type": "markdown",
   "metadata": {
    "deletable": false,
    "editable": false,
    "run_control": {
     "frozen": true
    }
   },
   "source": [
    "\n",
    "### Delivery (dead line) on CANVAS: 05-09-2021 at 23:59\n"
   ]
  },
  {
   "cell_type": "markdown",
   "metadata": {
    "deletable": false,
    "editable": false,
    "run_control": {
     "frozen": true
    }
   },
   "source": [
    "## Contact\n",
    "### Course teacher\n",
    "Professor Kjersti Engan, room E-431,\n",
    "E-mail: kjersti.engan@uis.no\n",
    "\n",
    "### Teaching assistant\n",
    "Tomasetti Luca, room E-401\n",
    "E-mail: luca.tomasetti@uis.no"
   ]
  },
  {
   "cell_type": "markdown",
   "metadata": {
    "deletable": false,
    "editable": false,
    "run_control": {
     "frozen": true
    }
   },
   "source": [
    "\n",
    "## References"
   ]
  },
  {
   "cell_type": "markdown",
   "metadata": {
    "deletable": false,
    "editable": false,
    "run_control": {
     "frozen": true
    }
   },
   "source": [
    "[1] S. Birchfeld, Image Processing and Analysis. Cengage Learning, 2016.\n",
    "\n",
    "[2] I. Austvoll, \"Machine/robot vision part I,\" University of Stavanger, 2018. Compendium, CANVAS."
   ]
  }
 ],
 "metadata": {
  "kernelspec": {
   "display_name": "Python 3",
   "language": "python",
   "name": "python3"
  },
  "language_info": {
   "codemirror_mode": {
    "name": "ipython",
    "version": 3
   },
   "file_extension": ".py",
   "mimetype": "text/x-python",
   "name": "python",
   "nbconvert_exporter": "python",
   "pygments_lexer": "ipython3",
   "version": "3.8.8"
  }
 },
 "nbformat": 4,
 "nbformat_minor": 4
}
