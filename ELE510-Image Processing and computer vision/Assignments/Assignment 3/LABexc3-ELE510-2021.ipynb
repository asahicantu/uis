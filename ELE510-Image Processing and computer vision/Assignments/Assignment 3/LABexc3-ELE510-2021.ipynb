{
 "cells": [
  {
   "cell_type": "markdown",
   "metadata": {
    "deletable": false,
    "editable": false,
    "run_control": {
     "frozen": true
    }
   },
   "source": [
    "# ELE510 Image Processing with robot vision: LAB, Exercise 3, Histogram and point transformations"
   ]
  },
  {
   "cell_type": "markdown",
   "metadata": {
    "deletable": false,
    "editable": false,
    "run_control": {
     "frozen": true
    }
   },
   "source": [
    "**Purpose:** *To learn about the image histogram, histogram equalization and image noise.*\n",
    "\n",
    "The theory for this exercise can be found in chapter 3 of the text book [1]. Supplementary information can found in chapter 1, 2 and 3 in the compendium [2]. See also the following documentations for help:\n",
    "- [OpenCV](https://opencv.org/opencv-python-free-course/)\n",
    "- [numpy](https://numpy.org/doc/stable/)\n",
    "- [matplotlib](https://matplotlib.org/stable/contents.html)\n",
    "\n",
    "**IMPORTANT:** Read the text carefully before starting the work. In\n",
    "many cases it is necessary to do some preparations before you start the work\n",
    "on the computer. Read necessary theory and answer the theoretical part\n",
    "frst. The theoretical and experimental part should be solved individually.\n",
    "The notebook must be approved by the lecturer or his assistant.\n",
    "\n",
    "**Approval:**\n",
    "<div class=\"alert alert-block alert-success\">\n",
    "The current notebook should be submitted on CANVAS as a single pdf file. \n",
    "</div>\n",
    "\n",
    "<div class=\"alert alert-block alert-info\">\n",
    "    To export the notebook in a pdf format, goes to File -> Download as -> PDF via LaTeX (.pdf).\n",
    "</div>\n",
    "\n",
    "**Note regarding the notebook**: The theoretical questions can be answered directly on the notebook using a *Markdown* cell and LaTex commands (if relevant). In alternative, you can attach a scan (or an image) of the answer directly in the cell.\n",
    "\n",
    "Possible ways to insert an image in the markdown cell:\n",
    "\n",
    "`![image name](\"image_path\")`\n",
    "\n",
    "`<img src=\"image_path\" alt=\"Alt text\" title=\"Title text\" />`\n",
    "\n",
    "\n",
    "**Under you will find parts of the solution that is already programmed.**\n",
    "\n",
    "<div class=\"alert alert-block alert-info\">\n",
    "    <p>You have to fill out code everywhere it is indicated with `...`</p>\n",
    "    <p>The code section under `######## a)` is answering subproblem a) etc.</p>\n",
    "</div>"
   ]
  },
  {
   "cell_type": "markdown",
   "metadata": {
    "deletable": false,
    "editable": false,
    "run_control": {
     "frozen": true
    }
   },
   "source": [
    "## Problem 1\n",
    "\n",
    "The histogram for an image of a **black** and **white** football and **grey** background is\n",
    "$[0,520,920,490,30,40,5910,24040,6050,80,20,80,440,960,420,0]$, where 16 gray levels are used. \n",
    "\n",
    "The diameter of the football is $d = 230\\text{mm}$. \n",
    "\n",
    "Use these information to find the pixel size, $\\Delta x = \\Delta y$.\n",
    "\n",
    "**Describe the steps to arrive to the solution.**\n",
    "\n",
    "<details style=\"margin-top:20px\">\n",
    "    <summary>\n",
    "        <font size=\"2\" color=\"green\"><b>Click here for an optional hint</b></font>\n",
    "    </summary>\n",
    "    1. The area of the ball is given by: $A = \\pi \\cdot (d/2)^2$ == (number_of_pixels $\\cdot$ area_single_pixel)\n",
    "</details>"
   ]
  },
  {
   "cell_type": "raw",
   "metadata": {},
   "source": []
  },
  {
   "cell_type": "markdown",
   "metadata": {
    "deletable": false,
    "editable": false,
    "run_control": {
     "frozen": true
    }
   },
   "source": [
    "<div class=\"alert alert-block alert-info\">\n",
    "    <p>The solution of problem 1 should be:</p>\n",
    "    \n",
    "    Δx = Δy = 3.33mm or, if you have taken different level of gray into consideration, Δx = Δy = 3.22mm\n",
    "</div>"
   ]
  },
  {
   "cell_type": "markdown",
   "metadata": {
    "deletable": false,
    "editable": false,
    "run_control": {
     "frozen": true
    }
   },
   "source": [
    "\n",
    "## Problem 2\n",
    "\n",
    "For images, such as `./images/christmas.png`, some processing is normally desired to improve the contrast. The simplest approach for doing this is called histogram stretching. For a given image, where the used pixel values range from $g_{\\text{min}}$ to $g_{\\text{max}}$ we can spread these so they cover the entire $[0, G-1]$ range. The formula for histogram stretching is given by:\n",
    "\n",
    "\\begin{equation*}\n",
    "\tg_{\\text{new}} = \\left\\lfloor {\\frac{g_{\\text{old}}-g_{\\text{min}}}{g_{\\text{max}}-g_{\\text{min}}}G + 0.5} \\right\\rfloor\n",
    "\\end{equation*}\n",
    "\n",
    "Where $g_{\\text{old}}$ is an old pixel value, and $g_{\\text{new}}$ a new pixel value.\n",
    "\n",
    "**a)** Make a small Python function, taking an image as input, perform histogram stretching using the previous equation, and giving the increased contrast image as output. Use an 8-bit grayscale range (G=256). Show and explain the result using `./images/christmas.png` as an example. \n",
    "\n"
   ]
  },
  {
   "cell_type": "code",
   "execution_count": null,
   "metadata": {},
   "outputs": [],
   "source": [
    "# Import the packages\n",
    "import cv2\n",
    "import numpy as np\n",
    "import matplotlib.pyplot as plt "
   ]
  },
  {
   "cell_type": "code",
   "execution_count": null,
   "metadata": {},
   "outputs": [],
   "source": [
    "\"\"\"\n",
    "Function that takes in input an image and return the same image stretched.\n",
    "\"\"\"\n",
    "def histogram_stretch(img):\n",
    "    \n",
    "    ...\n",
    "    \n",
    "    return ..."
   ]
  },
  {
   "cell_type": "code",
   "execution_count": null,
   "metadata": {
    "scrolled": true
   },
   "outputs": [],
   "source": [
    "# Read the image and convert it to RGB channels\n",
    "img = cv2.imread(\"./images/christmas.png\")\n",
    "img = cv2.cvtColor(img, cv2.COLOR_BGR2RGB)\n",
    "\n",
    "# Use the function to improve the contrast of the image\n",
    "img_stretch = histogram_stretch(img)\n",
    "\n",
    "plt.figure(figsize=(20,20))\n",
    "plt.subplot(221)\n",
    "plt.imshow(img)\n",
    "plt.title('Normal image')\n",
    "plt.subplot(222)\n",
    "plt.imshow(img_stretch)\n",
    "plt.title('Stretched image')\n",
    "plt.show()\n"
   ]
  },
  {
   "cell_type": "markdown",
   "metadata": {
    "deletable": false,
    "editable": false,
    "run_control": {
     "frozen": true
    }
   },
   "source": [
    "\n",
    "## Problem 3\n",
    "\n",
    "In this experiment we use **four** images. \n",
    "The two first are gray level images, `./images/pout.jpg` and `./images/tire.jpg`. \n",
    "The other two are colour images captured with a standard digital camera. \n",
    "We want to study image enhancement with histogram equalization. \n",
    "\n",
    "*We simplify by using only gray level images*. \n",
    "Therefore, the colour images are first read to gray level; a grey level image can be imported using the flag (`cv2.IMREAD_GRAYSCALE`). \n",
    "The colour images are `./images/waterfall2.jpg` and `./images/restaurantSpain.jpg`, available from CANVAS.\n",
    "\n",
    "<details style=\"margin-top:20px\">\n",
    "    <summary>\n",
    "        <font size=\"2\" color=\"green\"><b>Click here for optional hints</b></font>\n",
    "    </summary>\n",
    "    <p>1. Make a Python function or script that do histogram equalization <code>cv2.equalizeHist</code>, </p>\n",
    "    <p>2. computes the histograms <code>plt.hist</code> for both the input image and the output image, </p>\n",
    "    <p>3. and displays both images with histograms in the same figure (use <code>plt.figure</code> and <code>plt.subplot</code>).</p>\n",
    "</details>\n"
   ]
  },
  {
   "cell_type": "markdown",
   "metadata": {
    "deletable": false,
    "editable": false,
    "run_control": {
     "frozen": true
    }
   },
   "source": [
    "**a)** Use Python and find the histograms for the images.\n"
   ]
  },
  {
   "cell_type": "raw",
   "metadata": {},
   "source": []
  },
  {
   "cell_type": "markdown",
   "metadata": {
    "deletable": false,
    "editable": false,
    "run_control": {
     "frozen": true
    }
   },
   "source": [
    "\n",
    "**b)** Perform histogram equalization of these images and find the new histograms.\n"
   ]
  },
  {
   "cell_type": "raw",
   "metadata": {},
   "source": []
  },
  {
   "cell_type": "markdown",
   "metadata": {
    "deletable": false,
    "editable": false,
    "run_control": {
     "frozen": true
    }
   },
   "source": [
    "\n",
    "**c)** Discuss the results. Are the results as expected?\n"
   ]
  },
  {
   "cell_type": "raw",
   "metadata": {},
   "source": []
  },
  {
   "cell_type": "markdown",
   "metadata": {
    "deletable": false,
    "editable": false,
    "run_control": {
     "frozen": true
    }
   },
   "source": [
    "\n",
    "**d)** Explain why the discrete histogram equalization usually do not give a completely flat histogram."
   ]
  },
  {
   "cell_type": "raw",
   "metadata": {},
   "source": []
  },
  {
   "cell_type": "markdown",
   "metadata": {
    "deletable": false,
    "editable": false,
    "run_control": {
     "frozen": true
    }
   },
   "source": [
    "\n",
    "## Problem 4\n",
    "\n",
    "Noise is a common problem in digital images. \n",
    "In this problem we want to study estimation of camera noise. \n",
    "We have a set of $K$ images. \n",
    "The only difference between the images is the noise value at each pixel. \n",
    "\n",
    "Assume that the noise is additive and uncorrelated with the gray values of the image such that for each image point we have\n",
    "$g_{k} = f + \\eta_{k},\\, k = 1, 2, \\;\\cdots\\;,K$, where $g_{k}$ is image number $k$ with noise $\\eta_{k}$. \n",
    "\n",
    "The image without noise, $f$, is unchanged (here we have not shown the indexes $(x,y)$). \n",
    "The mean image is given by the average value:\n",
    "\n",
    "\\begin{equation}\n",
    "    \\overline{g(x,y)} = \\frac{1}{K}\\sum_{k = 1}^{K}g_{k}(x,y).\n",
    "\\end{equation}\n",
    "\n",
    "Then it can be shown that\n",
    "\\begin{equation}\\label{exc2-eq2}\n",
    "    E\\{\\overline{g(x,y)}\\} = f(x,y)\n",
    "\\end{equation}\n",
    "\n",
    "and\n",
    "\n",
    "\\begin{equation}\\label{exc2-eq3}\n",
    "    \\sigma^{2}_{\\overline{g(x,y)}} =\n",
    "    \\frac{1}{K}\\;\\sigma^{2}_{\\eta(x,y)}.\n",
    "\\end{equation}\n",
    "\n",
    "\n",
    "**a)** Show how to derive these two results using the first equation and the information given in the text.\n"
   ]
  },
  {
   "cell_type": "raw",
   "metadata": {},
   "source": []
  },
  {
   "cell_type": "markdown",
   "metadata": {
    "deletable": false,
    "editable": false,
    "run_control": {
     "frozen": true
    }
   },
   "source": [
    "\n",
    "\n",
    "### Delivery (dead line) on CANVAS: 26.09.2021 at 23:59\n"
   ]
  },
  {
   "cell_type": "markdown",
   "metadata": {
    "deletable": false,
    "editable": false,
    "run_control": {
     "frozen": true
    }
   },
   "source": [
    "## Contact\n",
    "### Course teacher\n",
    "Professor Kjersti Engan, room E-431,\n",
    "E-mail: kjersti.engan@uis.no\n",
    "\n",
    "### Teaching assistant\n",
    "Tomasetti Luca, room E-401\n",
    "E-mail: luca.tomasetti@uis.no"
   ]
  },
  {
   "cell_type": "markdown",
   "metadata": {
    "deletable": false,
    "editable": false,
    "run_control": {
     "frozen": true
    }
   },
   "source": [
    "\n",
    "## References\n",
    "\n",
    "[1] S. Birchfeld, Image Processing and Analysis. Cengage Learning, 2016.\n",
    "\n",
    "[2] I. Austvoll, \"Machine/robot vision part I,\" University of Stavanger, 2018. Compendium, CANVAS."
   ]
  }
 ],
 "metadata": {
  "kernelspec": {
   "display_name": "Python 3",
   "language": "python",
   "name": "python3"
  },
  "language_info": {
   "codemirror_mode": {
    "name": "ipython",
    "version": 3
   },
   "file_extension": ".py",
   "mimetype": "text/x-python",
   "name": "python",
   "nbconvert_exporter": "python",
   "pygments_lexer": "ipython3",
   "version": "3.9.6"
  },
  "toc": {
   "base_numbering": 1,
   "nav_menu": {},
   "number_sections": true,
   "sideBar": true,
   "skip_h1_title": false,
   "title_cell": "Table of Contents",
   "title_sidebar": "Contents",
   "toc_cell": false,
   "toc_position": {},
   "toc_section_display": true,
   "toc_window_display": false
  },
  "varInspector": {
   "cols": {
    "lenName": 16,
    "lenType": 16,
    "lenVar": 40
   },
   "kernels_config": {
    "python": {
     "delete_cmd_postfix": "",
     "delete_cmd_prefix": "del ",
     "library": "var_list.py",
     "varRefreshCmd": "print(var_dic_list())"
    },
    "r": {
     "delete_cmd_postfix": ") ",
     "delete_cmd_prefix": "rm(",
     "library": "var_list.r",
     "varRefreshCmd": "cat(var_dic_list()) "
    }
   },
   "types_to_exclude": [
    "module",
    "function",
    "builtin_function_or_method",
    "instance",
    "_Feature"
   ],
   "window_display": false
  }
 },
 "nbformat": 4,
 "nbformat_minor": 2
}
